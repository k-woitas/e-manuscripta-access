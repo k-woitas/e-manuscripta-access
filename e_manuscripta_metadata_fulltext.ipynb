{
 "cells": [
  {
   "cell_type": "markdown",
   "metadata": {},
   "source": [
    "# e-manuscripta: accessing metadata and fulltexts"
   ]
  },
  {
   "cell_type": "markdown",
   "metadata": {
    "toc": true
   },
   "source": [
    "<h1><span class=\"tocSkip\"></span></h1>\n",
    "<div class=\"toc\"><ul class=\"toc-item\"><li><span><a href=\"#0-Introduction\" data-toc-modified-id=\"0-Introduction-1\">0 Introduction</a></span><ul class=\"toc-item\"><li><span><a href=\"#0.0-Scope-and-content\" data-toc-modified-id=\"0.0-Scope-and-content-1.1\">0.0 Scope and content</a></span></li><li><span><a href=\"#0.1-E-manuscripta\" data-toc-modified-id=\"0.1-E-manuscripta-1.2\">0.1 E-manuscripta</a></span></li><li><span><a href=\"#0.2-OAI-PMH\" data-toc-modified-id=\"0.2-OAI-PMH-1.3\">0.2 OAI-PMH</a></span></li></ul></li><li><span><a href=\"#1-Metadata-access-with-Polymatheia\" data-toc-modified-id=\"1-Metadata-access-with-Polymatheia-2\">1 Metadata access with Polymatheia</a></span><ul class=\"toc-item\"><li><span><a href=\"#1.0-Prerequisites\" data-toc-modified-id=\"1.0-Prerequisites-2.1\">1.0 Prerequisites</a></span></li><li><span><a href=\"#1.1-Start-with-the-OAI-interface-via-Polymatheia\" data-toc-modified-id=\"1.1-Start-with-the-OAI-interface-via-Polymatheia-2.2\">1.1 Start with the OAI interface via Polymatheia</a></span></li><li><span><a href=\"#1.2-Retrieve-metadata-records-via-Polymatheia\" data-toc-modified-id=\"1.2-Retrieve-metadata-records-via-Polymatheia-2.3\">1.2 Retrieve metadata records via Polymatheia</a></span></li><li><span><a href=\"#1.3-Retrieve-the-licences\" data-toc-modified-id=\"1.3-Retrieve-the-licences-2.4\">1.3 Retrieve the licences</a></span></li><li><span><a href=\"#1.4-Save--and-recover-complex-metadata-structures\" data-toc-modified-id=\"1.4-Save--and-recover-complex-metadata-structures-2.5\">1.4 Save  and recover complex metadata structures</a></span></li></ul></li><li><span><a href=\"#2-Direct-metadata-access-via-OAI-PMH\" data-toc-modified-id=\"2-Direct-metadata-access-via-OAI-PMH-3\">2 Direct metadata access via OAI-PMH</a></span><ul class=\"toc-item\"><li><span><a href=\"#2.0-Prerequisites\" data-toc-modified-id=\"2.0-Prerequisites-3.1\">2.0 Prerequisites</a></span></li><li><span><a href=\"#2.1-Start-with-the-native-OAI-interface\" data-toc-modified-id=\"2.1-Start-with-the-native-OAI-interface-3.2\">2.1 Start with the native OAI interface</a></span></li><li><span><a href=\"#2.2-Download-metadata-records\" data-toc-modified-id=\"2.2-Download-metadata-records-3.3\">2.2 Download metadata records</a></span></li><li><span><a href=\"#2.3-Get-set-size-&amp;-download-metadata-by-set\" data-toc-modified-id=\"2.3-Get-set-size-&amp;-download-metadata-by-set-3.4\">2.3 Get set size &amp; download metadata by set</a></span></li></ul></li><li><span><a href=\"#3-Download-fulltext-files-from-e-manuscripta-website\" data-toc-modified-id=\"3-Download-fulltext-files-from-e-manuscripta-website-4\">3 Download fulltext files from e-manuscripta website</a></span><ul class=\"toc-item\"><li><span><a href=\"#3.0-Prerequisites\" data-toc-modified-id=\"3.0-Prerequisites-4.1\">3.0 Prerequisites</a></span></li><li><span><a href=\"#3.1-Download-fulltext-files-by-e-manuscripta-ID\" data-toc-modified-id=\"3.1-Download-fulltext-files-by-e-manuscripta-ID-4.2\">3.1 Download fulltext files by e-manuscripta ID</a></span></li><li><span><a href=\"#3.2-Download-fulltext-files-by-set\" data-toc-modified-id=\"3.2-Download-fulltext-files-by-set-4.3\">3.2 Download fulltext files by set</a></span></li></ul></li></ul></div>"
   ]
  },
  {
   "cell_type": "markdown",
   "metadata": {},
   "source": [
    "## 0 Introduction"
   ]
  },
  {
   "cell_type": "markdown",
   "metadata": {},
   "source": [
    "### 0.0 Scope and content"
   ]
  },
  {
   "cell_type": "markdown",
   "metadata": {},
   "source": [
    "This Python [Jupyter notebook](https://jupyter.org/) aims to help you with **accessing metadata and fulltexts of the [e-manuscripta platform](https://www.e-manuscripta.ch/)**. It uses the OAI-PMH interface of the e-manuscripta service for retrieving metadata in different formats, and the e-manuscripta website in addition for downloading fulltexts.\n",
    "\n",
    "The notebook consists of three parts:\n",
    "1. Metadata access with Polymatheia\n",
    "2. Direct metadata access via OAI-PMH\n",
    "3. Download fulltext files from e-manuscripta website.\n",
    "\n",
    "So, there are two ways to access e-rara metadata. The **first chapter** introduces the Polymatheia library, which allows very convenient requests to the OAI interface by wrapping otherwise more elaborate functions. Working with Polymatheia is an **easy solution for quick access** without going deep into coding.\n",
    "\n",
    "The **second (and the third) chapter** shows how to access the OAI interface natively. Hence, more code will be needed and **some functions will be defined**. You can use the functions without deeper programming skills - nevertheless these might be helpful if you want to adapt those functions.\n",
    "\n",
    "You may start from the beginning and walk trough the whole notebook or jump to the section that suits you. Also, it's a good idea to play around with the code in the cells and see what happens. Have fun!\n",
    "\n",
    "Have any comments, questions and the like? Try kathi.woitas[at]ub.unibe.ch."
   ]
  },
  {
   "cell_type": "markdown",
   "metadata": {},
   "source": [
    "### 0.1 E-manuscripta"
   ]
  },
  {
   "cell_type": "markdown",
   "metadata": {},
   "source": [
    "[E-manuscripta](https://www.e-manuscripta.ch/) is the platform for manuscript material from Swiss libraries and archives. E-manuscripta holds approximately 40k letters, 56k pictures, 1300 maps and 380 music notes. You may consult e-manuscripta's [Terms of Use](https://www.e-manuscripta.ch/wiki/termsOfUse?lang=en) to check the licences of the e-manuscripta documents."
   ]
  },
  {
   "cell_type": "markdown",
   "metadata": {},
   "source": [
    "### 0.2 OAI-PMH"
   ]
  },
  {
   "cell_type": "markdown",
   "metadata": {},
   "source": [
    "The **Open Archives Initiative Protocol for Metadata Harvesting** (**OAI-PMH**) is a well-known interface for libraries,\n",
    "archives etc. for delivering their metadata in various formats - librarian's specific like *[MODS](http://www.loc.gov/standards/mods/index.html)* and common ones like *[Dublin Core](https://www.dublincore.org/specifications/dublin-core/dces/)* alike.\n",
    "Further information on OAI-PMH is available [here](http://www.openarchives.org/OAI/openarchivesprotocol.html).\n",
    "\n",
    "First of all, a few OAI-PMH related concepts should be introduced:\n",
    "\n",
    "**repository**:\n",
    "A repository is a server-side application that exposes metadata via OAI-PMH. It can process the *six OAI-PMH request types* aka *OAI verbs*. So, the e-periodica OAI-PMH facility is a repository in this sense. \n",
    "\n",
    "**harvester**: OAI-PMH client applications are called harvesters. When you are approaching the OAI-PMH interface and requesting records, you do *harvesting*.\n",
    "\n",
    "**resource**: A resource is the object that the delivered metadata is \"about\". Of course in case of e-manuscripta OAI-PMH, the referred resources are the publications of the e-manuscripta platform. Note that resources themselves are always outside of the OAI-PMH.\n",
    "\n",
    "**record**: A record is the XML-encoded container for the metadata of a single resource (i.e. publication) item. It consists of a header and a metadata section.\n",
    "\n",
    "**header**:\n",
    "The record header contains the unique identifier of the record, a datestamp and optionally the set specification.\n",
    "\n",
    "**metadata**: The record metadata contains the resource (i.e. publication) metadata in a defined metadata format.\n",
    "\n",
    "**set**: A structure for grouping records for selective harvesting. Sets often refer to collections of thematic scopes/subjects, to collections of different owners/institutions (in case of aggregated content) or to collections of certain publication types.\n",
    "\n",
    "Now let's look at some example requests of the e-manuscripta OAI interface with the **six OAI verbs**:\n",
    "\n",
    "- Identify ([specification](http://www.openarchives.org/OAI/openarchivesprotocol.html#Identify)):\n",
    " https://www.e-manuscripta.ch/oai?verb=Identify\n",
    "\n",
    "- ListSets ([spec](http://www.openarchives.org/OAI/openarchivesprotocol.html#ListSets)):\n",
    "https://www.e-manuscripta.ch/oai?verb=ListSets\n",
    "\n",
    "- ListMetadataFormats ([spec](http://www.openarchives.org/OAI/openarchivesprotocol.html#ListMetadataFormats)):\n",
    "https://www.e-manuscripta.ch/oai?verb=ListMetadataFormats\n",
    "\n",
    "- ListIdentifiers ([spec](http://www.openarchives.org/OAI/openarchivesprotocol.html#ListIdentifiers)):\n",
    "https://www.e-manuscripta.ch/oai?verb=ListIdentifiers&metadataPrefix=mods&set=bes\n",
    "\n",
    "- GetRecord ([spec](http://www.openarchives.org/OAI/openarchivesprotocol.html#GetRecord)):\n",
    "https://www.e-manuscripta.ch/oai?verb=GetRecord&metadataPrefix=mods&identifier=1686442 \n",
    "\n",
    "- ListRecords ([spec](http://www.openarchives.org/OAI/openarchivesprotocol.html#ListRecords)):\n",
    "https://www.e-manuscripta.ch/oai?verb=ListRecords&set=bes&metadataPrefix=oai_dc\n",
    "\n",
    "These examples with the given *parameters* are somewhat easy to encode - and so is building similar request URLs.\n",
    "But how to download the delivered data and to interact with it? That's the aim of this notebook. So, here we go!"
   ]
  },
  {
   "cell_type": "markdown",
   "metadata": {},
   "source": [
    "## 1 Metadata access with Polymatheia"
   ]
  },
  {
   "cell_type": "markdown",
   "metadata": {},
   "source": [
    "### 1.0 Prerequisites"
   ]
  },
  {
   "cell_type": "markdown",
   "metadata": {},
   "source": [
    "First, some basic Python libraries have to be imported. Just **click on the arrow icon** on the left side of the code cell - or first click into the cell and then select 'Crtl' + 'Enter' or 'Shift' + 'Enter'. When the code runs, a star symbol next to the cell appears and when it's done a number turns up. And most important, the provoked output is given beneath the code cell."
   ]
  },
  {
   "cell_type": "code",
   "execution_count": 1,
   "metadata": {},
   "outputs": [
    {
     "name": "stdout",
     "output_type": "stream",
     "text": [
      "Successfully imported necessary libraries\n"
     ]
    }
   ],
   "source": [
    "import os                              # navigate and manipulate file directories\n",
    "import pandas as pd                    # pandas is the Python standard library to work with dataframes\n",
    "from IPython.display import IFrame     # embed website views in Jupyter Notebook\n",
    "print(\"Successfully imported necessary libraries\")"
   ]
  },
  {
   "cell_type": "markdown",
   "metadata": {},
   "source": [
    "**Polymatheia** is a Python library to support working with digital library/archive metadata. It supports accessing metadata of different formats from OAI-PMH and also offers methods to handle the retrieved data. The metadata will be turned into a Python-style ['navigable dictionary'](https://polymatheia.readthedocs.io/en/latest/concepts.html), which allows convenient access to certain metadata elements.\n",
    "Its aim is not necessarily to cover all ways of working with metadata, but to make it easy to undertake most types of tasks and analysis. See the [documentation](https://polymatheia.readthedocs.io/en/latest/) of the Polymatheia library.\n",
    "\n",
    "Using Polymatheia package **for the first time**, you will need to **install this code library**: Just remove the `#` from the second line of code, and then execute the cell like the one before."
   ]
  },
  {
   "cell_type": "code",
   "execution_count": 2,
   "metadata": {},
   "outputs": [
    {
     "name": "stdout",
     "output_type": "stream",
     "text": [
      "Successfully imported necessary libraries\n"
     ]
    }
   ],
   "source": [
    "# de-comment !pip command to install polymatheia\n",
    "#!pip install polymatheia          \n",
    "from polymatheia.data.reader import OAISetReader               # list OAI sets\n",
    "from polymatheia.data.reader import OAIMetadataFormatReader    # list available metadata formats\n",
    "from polymatheia.data.reader import OAIRecordReader            # read one metadata record from OAI\n",
    "from polymatheia.data.writer import PandasDFWriter             # easy transformation of flat data into a dataframe\n",
    "print(\"Successfully imported necessary libraries\")"
   ]
  },
  {
   "cell_type": "markdown",
   "metadata": {},
   "source": [
    "https://www.e-manuscripta.ch/oai/ will be the **base URL** for all OAI requests. To make life easier we put it into the variable `oai`."
   ]
  },
  {
   "cell_type": "code",
   "execution_count": 3,
   "metadata": {},
   "outputs": [],
   "source": [
    "oai = 'https://www.e-manuscripta.ch/oai/'"
   ]
  },
  {
   "cell_type": "markdown",
   "metadata": {},
   "source": [
    "### 1.1 Start with the OAI interface via Polymatheia"
   ]
  },
  {
   "cell_type": "markdown",
   "metadata": {},
   "source": [
    "First, it's good to know **which OAI sets are available**. To take a look at the sets from the native OAI interface let's take a look of https://www.e-manuscripta.ch/bes_1/oai?verb=ListSets with the `IFrame` function. For every set, there is the `setName`, and a `setSpec`, which is a short cut for the set name and will be used as parameter with the OAI accesses."
   ]
  },
  {
   "cell_type": "code",
   "execution_count": 4,
   "metadata": {},
   "outputs": [
    {
     "data": {
      "text/html": [
       "\n",
       "        <iframe\n",
       "            width=\"970\"\n",
       "            height=\"300\"\n",
       "            src=\"https://www.e-manuscripta.ch/oai?verb=ListSets\"\n",
       "            frameborder=\"0\"\n",
       "            allowfullscreen\n",
       "        ></iframe>\n",
       "        "
      ],
      "text/plain": [
       "<IPython.lib.display.IFrame at 0x13e30b561c0>"
      ]
     },
     "execution_count": 4,
     "metadata": {},
     "output_type": "execute_result"
    }
   ],
   "source": [
    "IFrame('https://www.e-manuscripta.ch/oai?verb=ListSets', width=970, height=300)"
   ]
  },
  {
   "cell_type": "markdown",
   "metadata": {},
   "source": [
    "That's nice, but how to retrieve these contents as data? Polymatheia's 'OAISetReader' does this conveniently. Here's how it works."
   ]
  },
  {
   "cell_type": "code",
   "execution_count": 5,
   "metadata": {},
   "outputs": [
    {
     "name": "stdout",
     "output_type": "stream",
     "text": [
      "<class 'polymatheia.data.reader.OAISetReader'>\n"
     ]
    }
   ],
   "source": [
    "reader = OAISetReader(oai)             # instantiate ('make') a OAISetReader named reader\n",
    "# 'Instantiation' is a standard procedure with Python - so it's a good idea to get familiar with it.\n",
    "\n",
    "print(type(reader))                    # print the object type of 'reader' for information"
   ]
  },
  {
   "cell_type": "code",
   "execution_count": 6,
   "metadata": {},
   "outputs": [
    {
     "name": "stdout",
     "output_type": "stream",
     "text": [
      "{\n",
      "  \"setSpec\": \"emanuszuzneb\",\n",
      "  \"setName\": \"Zentralbibliothek Z\\u00fcrich - EBI01\"\n",
      "}\n",
      "{\n",
      "  \"setSpec\": \"emanuszuzcmi\",\n",
      "  \"setName\": \"Zentralbibliothek Z\\u00fcrich - CMI\"\n",
      "}\n",
      "{\n",
      "  \"setSpec\": \"emanusbau\",\n",
      "  \"setName\": \"Universit\\u00e4tsbibliothek Basel\"\n",
      "}\n",
      "{\n",
      "  \"setSpec\": \"emanussnl\",\n",
      "  \"setName\": \"Schweizerische Nationalbibliothek (NB)\"\n",
      "}\n",
      "{\n",
      "  \"setSpec\": \"emanuszuz\",\n",
      "  \"setName\": \"Zentralbibliothek Z\\u00fcrich - EBI04\"\n",
      "}\n",
      "{\n",
      "  \"setSpec\": \"zbs\",\n",
      "  \"setName\": \"Zentralbibliothek Solothurn\"\n",
      "}\n",
      "{\n",
      "  \"setSpec\": \"bes\",\n",
      "  \"setName\": \"Universit\\u00e4tsbibliothek Bern\"\n",
      "}\n",
      "{\n",
      "  \"setSpec\": \"emanusbau1\",\n",
      "  \"setName\": \"Universit\\u00e4tsbibliothek Basel - Aleph\"\n",
      "}\n",
      "{\n",
      "  \"setSpec\": \"emanus\",\n",
      "  \"setName\": \"e-manuscripta\"\n",
      "}\n",
      "{\n",
      "  \"setSpec\": \"zhb\",\n",
      "  \"setName\": \"Zentral- & Hochschulbibliothek Luzern\"\n",
      "}\n",
      "{\n",
      "  \"setSpec\": \"emanuszut\",\n",
      "  \"setName\": \"ETH-Bibliothek\"\n",
      "}\n",
      "{\n",
      "  \"setSpec\": \"emanusswa\",\n",
      "  \"setName\": \"Schweizerisches Wirtschaftsarchiv\"\n",
      "}\n",
      "{\n",
      "  \"setSpec\": \"texte\",\n",
      "  \"setName\": \"Texte\"\n",
      "}\n",
      "{\n",
      "  \"setSpec\": \"chroniken\",\n",
      "  \"setName\": \"Chroniken\"\n",
      "}\n",
      "{\n",
      "  \"setSpec\": \"sonnenbeobachtungen\",\n",
      "  \"setName\": \"Sonnenbeobachtung\"\n",
      "}\n",
      "{\n",
      "  \"setSpec\": \"personen\",\n",
      "  \"setName\": \"Personen, Institutionen\"\n",
      "}\n",
      "{\n",
      "  \"setSpec\": \"kataloge\",\n",
      "  \"setName\": \"Kataloge\"\n",
      "}\n",
      "{\n",
      "  \"setSpec\": \"einstein\",\n",
      "  \"setName\": \"Albert Einstein\"\n",
      "}\n",
      "{\n",
      "  \"setSpec\": \"briefe\",\n",
      "  \"setName\": \"Briefe\"\n",
      "}\n",
      "{\n",
      "  \"setSpec\": \"rezepte\",\n",
      "  \"setName\": \"Rezepte\"\n",
      "}\n",
      "{\n",
      "  \"setSpec\": \"noten\",\n",
      "  \"setName\": \"Noten\"\n",
      "}\n",
      "{\n",
      "  \"setSpec\": \"gattungen\",\n",
      "  \"setName\": \"Quellengattungen\"\n",
      "}\n",
      "{\n",
      "  \"setSpec\": \"keller\",\n",
      "  \"setName\": \"Gottfried Keller\"\n",
      "}\n",
      "{\n",
      "  \"setSpec\": \"bilder\",\n",
      "  \"setName\": \"Bilder\"\n",
      "}\n",
      "{\n",
      "  \"setSpec\": \"themen\",\n",
      "  \"setName\": \"Themen\"\n",
      "}\n",
      "{\n",
      "  \"setSpec\": \"lavater\",\n",
      "  \"setName\": \"Johann Caspar Lavater\"\n",
      "}\n",
      "{\n",
      "  \"setSpec\": \"maps\",\n",
      "  \"setName\": \"Karten, Pl\\u00e4ne\"\n",
      "}\n",
      "{\n",
      "  \"setSpec\": \"selbstzeugnisse\",\n",
      "  \"setName\": \"Selbstzeugnisse\"\n",
      "}\n",
      "{\n",
      "  \"setSpec\": \"varia\",\n",
      "  \"setName\": \"Varia\"\n",
      "}\n",
      "{\n",
      "  \"setSpec\": \"tagebuecher\",\n",
      "  \"setName\": \"Wissenschaftliche Tageb\\u00fccher\"\n",
      "}\n",
      "{\n",
      "  \"setSpec\": \"platter\",\n",
      "  \"setName\": \"Platter (Familie)\"\n",
      "}\n",
      "{\n",
      "  \"setSpec\": \"wagner\",\n",
      "  \"setName\": \"Richard Wagner\"\n",
      "}\n",
      "{\n",
      "  \"setSpec\": \"wick\",\n",
      "  \"setName\": \"Johann Jakob Wick\"\n",
      "}\n",
      "{\n",
      "  \"setSpec\": \"all\",\n",
      "  \"setName\": \"Alle Dokumente\"\n",
      "}\n",
      "{\n",
      "  \"setSpec\": \"selected\",\n",
      "  \"setName\": \"Ausgew\\u00e4hlte Inhalte\"\n",
      "}\n",
      "{\n",
      "  \"setSpec\": \"transkribus19gt\",\n",
      "  \"setName\": \"unknown spec\"\n",
      "}\n",
      "{\n",
      "  \"setSpec\": \"doi\",\n",
      "  \"setName\": \"unknown spec\"\n",
      "}\n",
      "{\n",
      "  \"setSpec\": \"transkribus19\",\n",
      "  \"setName\": \"unknown spec\"\n",
      "}\n",
      "{\n",
      "  \"setSpec\": \"letter_manual\",\n",
      "  \"setName\": \"letter manual\"\n",
      "}\n",
      "{\n",
      "  \"setSpec\": \"inventory\",\n",
      "  \"setName\": \"inventory\"\n",
      "}\n"
     ]
    }
   ],
   "source": [
    "for x in reader:                       # for-loop which iterates through the reader-content and prints each entry\n",
    "    print(x)                           # note that 'x' is an arbitrary term"
   ]
  },
  {
   "cell_type": "markdown",
   "metadata": {},
   "source": [
    "We might put this together and then turn the retrieved data into a *Pandas dataframe* with the 'PandasDFWriter' command. A **dataframe** is a table-like data object, which is a nice breakdown and moreover an useful format for further investigation. *Pandas* is the standard library in Python for dataframe handling."
   ]
  },
  {
   "cell_type": "code",
   "execution_count": 7,
   "metadata": {},
   "outputs": [
    {
     "name": "stdout",
     "output_type": "stream",
     "text": [
      "[{'setSpec': 'emanuszuzneb', 'setName': 'Zentralbibliothek Zürich - EBI01'}, {'setSpec': 'emanuszuzcmi', 'setName': 'Zentralbibliothek Zürich - CMI'}, {'setSpec': 'emanusbau', 'setName': 'Universitätsbibliothek Basel'}]\n"
     ]
    },
    {
     "data": {
      "text/html": [
       "<div>\n",
       "<style scoped>\n",
       "    .dataframe tbody tr th:only-of-type {\n",
       "        vertical-align: middle;\n",
       "    }\n",
       "\n",
       "    .dataframe tbody tr th {\n",
       "        vertical-align: top;\n",
       "    }\n",
       "\n",
       "    .dataframe thead th {\n",
       "        text-align: right;\n",
       "    }\n",
       "</style>\n",
       "<table border=\"1\" class=\"dataframe\">\n",
       "  <thead>\n",
       "    <tr style=\"text-align: right;\">\n",
       "      <th></th>\n",
       "      <th>setSpec</th>\n",
       "      <th>setName</th>\n",
       "    </tr>\n",
       "  </thead>\n",
       "  <tbody>\n",
       "    <tr>\n",
       "      <th>0</th>\n",
       "      <td>emanuszuzneb</td>\n",
       "      <td>Zentralbibliothek Zürich - EBI01</td>\n",
       "    </tr>\n",
       "    <tr>\n",
       "      <th>1</th>\n",
       "      <td>emanuszuzcmi</td>\n",
       "      <td>Zentralbibliothek Zürich - CMI</td>\n",
       "    </tr>\n",
       "    <tr>\n",
       "      <th>2</th>\n",
       "      <td>emanusbau</td>\n",
       "      <td>Universitätsbibliothek Basel</td>\n",
       "    </tr>\n",
       "    <tr>\n",
       "      <th>3</th>\n",
       "      <td>emanussnl</td>\n",
       "      <td>Schweizerische Nationalbibliothek (NB)</td>\n",
       "    </tr>\n",
       "    <tr>\n",
       "      <th>4</th>\n",
       "      <td>emanuszuz</td>\n",
       "      <td>Zentralbibliothek Zürich - EBI04</td>\n",
       "    </tr>\n",
       "    <tr>\n",
       "      <th>5</th>\n",
       "      <td>zbs</td>\n",
       "      <td>Zentralbibliothek Solothurn</td>\n",
       "    </tr>\n",
       "    <tr>\n",
       "      <th>6</th>\n",
       "      <td>bes</td>\n",
       "      <td>Universitätsbibliothek Bern</td>\n",
       "    </tr>\n",
       "    <tr>\n",
       "      <th>7</th>\n",
       "      <td>emanusbau1</td>\n",
       "      <td>Universitätsbibliothek Basel - Aleph</td>\n",
       "    </tr>\n",
       "    <tr>\n",
       "      <th>8</th>\n",
       "      <td>emanus</td>\n",
       "      <td>e-manuscripta</td>\n",
       "    </tr>\n",
       "    <tr>\n",
       "      <th>9</th>\n",
       "      <td>zhb</td>\n",
       "      <td>Zentral- &amp; Hochschulbibliothek Luzern</td>\n",
       "    </tr>\n",
       "    <tr>\n",
       "      <th>10</th>\n",
       "      <td>emanuszut</td>\n",
       "      <td>ETH-Bibliothek</td>\n",
       "    </tr>\n",
       "    <tr>\n",
       "      <th>11</th>\n",
       "      <td>emanusswa</td>\n",
       "      <td>Schweizerisches Wirtschaftsarchiv</td>\n",
       "    </tr>\n",
       "    <tr>\n",
       "      <th>12</th>\n",
       "      <td>texte</td>\n",
       "      <td>Texte</td>\n",
       "    </tr>\n",
       "    <tr>\n",
       "      <th>13</th>\n",
       "      <td>chroniken</td>\n",
       "      <td>Chroniken</td>\n",
       "    </tr>\n",
       "    <tr>\n",
       "      <th>14</th>\n",
       "      <td>sonnenbeobachtungen</td>\n",
       "      <td>Sonnenbeobachtung</td>\n",
       "    </tr>\n",
       "    <tr>\n",
       "      <th>15</th>\n",
       "      <td>personen</td>\n",
       "      <td>Personen, Institutionen</td>\n",
       "    </tr>\n",
       "    <tr>\n",
       "      <th>16</th>\n",
       "      <td>kataloge</td>\n",
       "      <td>Kataloge</td>\n",
       "    </tr>\n",
       "    <tr>\n",
       "      <th>17</th>\n",
       "      <td>einstein</td>\n",
       "      <td>Albert Einstein</td>\n",
       "    </tr>\n",
       "    <tr>\n",
       "      <th>18</th>\n",
       "      <td>briefe</td>\n",
       "      <td>Briefe</td>\n",
       "    </tr>\n",
       "    <tr>\n",
       "      <th>19</th>\n",
       "      <td>rezepte</td>\n",
       "      <td>Rezepte</td>\n",
       "    </tr>\n",
       "    <tr>\n",
       "      <th>20</th>\n",
       "      <td>noten</td>\n",
       "      <td>Noten</td>\n",
       "    </tr>\n",
       "    <tr>\n",
       "      <th>21</th>\n",
       "      <td>gattungen</td>\n",
       "      <td>Quellengattungen</td>\n",
       "    </tr>\n",
       "    <tr>\n",
       "      <th>22</th>\n",
       "      <td>keller</td>\n",
       "      <td>Gottfried Keller</td>\n",
       "    </tr>\n",
       "    <tr>\n",
       "      <th>23</th>\n",
       "      <td>bilder</td>\n",
       "      <td>Bilder</td>\n",
       "    </tr>\n",
       "    <tr>\n",
       "      <th>24</th>\n",
       "      <td>themen</td>\n",
       "      <td>Themen</td>\n",
       "    </tr>\n",
       "    <tr>\n",
       "      <th>25</th>\n",
       "      <td>lavater</td>\n",
       "      <td>Johann Caspar Lavater</td>\n",
       "    </tr>\n",
       "    <tr>\n",
       "      <th>26</th>\n",
       "      <td>maps</td>\n",
       "      <td>Karten, Pläne</td>\n",
       "    </tr>\n",
       "    <tr>\n",
       "      <th>27</th>\n",
       "      <td>selbstzeugnisse</td>\n",
       "      <td>Selbstzeugnisse</td>\n",
       "    </tr>\n",
       "    <tr>\n",
       "      <th>28</th>\n",
       "      <td>varia</td>\n",
       "      <td>Varia</td>\n",
       "    </tr>\n",
       "    <tr>\n",
       "      <th>29</th>\n",
       "      <td>tagebuecher</td>\n",
       "      <td>Wissenschaftliche Tagebücher</td>\n",
       "    </tr>\n",
       "    <tr>\n",
       "      <th>30</th>\n",
       "      <td>platter</td>\n",
       "      <td>Platter (Familie)</td>\n",
       "    </tr>\n",
       "    <tr>\n",
       "      <th>31</th>\n",
       "      <td>wagner</td>\n",
       "      <td>Richard Wagner</td>\n",
       "    </tr>\n",
       "    <tr>\n",
       "      <th>32</th>\n",
       "      <td>wick</td>\n",
       "      <td>Johann Jakob Wick</td>\n",
       "    </tr>\n",
       "    <tr>\n",
       "      <th>33</th>\n",
       "      <td>all</td>\n",
       "      <td>Alle Dokumente</td>\n",
       "    </tr>\n",
       "    <tr>\n",
       "      <th>34</th>\n",
       "      <td>selected</td>\n",
       "      <td>Ausgewählte Inhalte</td>\n",
       "    </tr>\n",
       "    <tr>\n",
       "      <th>35</th>\n",
       "      <td>transkribus19gt</td>\n",
       "      <td>unknown spec</td>\n",
       "    </tr>\n",
       "    <tr>\n",
       "      <th>36</th>\n",
       "      <td>doi</td>\n",
       "      <td>unknown spec</td>\n",
       "    </tr>\n",
       "    <tr>\n",
       "      <th>37</th>\n",
       "      <td>transkribus19</td>\n",
       "      <td>unknown spec</td>\n",
       "    </tr>\n",
       "    <tr>\n",
       "      <th>38</th>\n",
       "      <td>letter_manual</td>\n",
       "      <td>letter manual</td>\n",
       "    </tr>\n",
       "    <tr>\n",
       "      <th>39</th>\n",
       "      <td>inventory</td>\n",
       "      <td>inventory</td>\n",
       "    </tr>\n",
       "  </tbody>\n",
       "</table>\n",
       "</div>"
      ],
      "text/plain": [
       "                setSpec                                 setName\n",
       "0          emanuszuzneb        Zentralbibliothek Zürich - EBI01\n",
       "1          emanuszuzcmi          Zentralbibliothek Zürich - CMI\n",
       "2             emanusbau            Universitätsbibliothek Basel\n",
       "3             emanussnl  Schweizerische Nationalbibliothek (NB)\n",
       "4             emanuszuz        Zentralbibliothek Zürich - EBI04\n",
       "5                   zbs             Zentralbibliothek Solothurn\n",
       "6                   bes             Universitätsbibliothek Bern\n",
       "7            emanusbau1    Universitätsbibliothek Basel - Aleph\n",
       "8                emanus                           e-manuscripta\n",
       "9                   zhb   Zentral- & Hochschulbibliothek Luzern\n",
       "10            emanuszut                          ETH-Bibliothek\n",
       "11            emanusswa       Schweizerisches Wirtschaftsarchiv\n",
       "12                texte                                   Texte\n",
       "13            chroniken                               Chroniken\n",
       "14  sonnenbeobachtungen                       Sonnenbeobachtung\n",
       "15             personen                 Personen, Institutionen\n",
       "16             kataloge                                Kataloge\n",
       "17             einstein                         Albert Einstein\n",
       "18               briefe                                  Briefe\n",
       "19              rezepte                                 Rezepte\n",
       "20                noten                                   Noten\n",
       "21            gattungen                        Quellengattungen\n",
       "22               keller                        Gottfried Keller\n",
       "23               bilder                                  Bilder\n",
       "24               themen                                  Themen\n",
       "25              lavater                   Johann Caspar Lavater\n",
       "26                 maps                           Karten, Pläne\n",
       "27      selbstzeugnisse                         Selbstzeugnisse\n",
       "28                varia                                   Varia\n",
       "29          tagebuecher            Wissenschaftliche Tagebücher\n",
       "30              platter                       Platter (Familie)\n",
       "31               wagner                          Richard Wagner\n",
       "32                 wick                       Johann Jakob Wick\n",
       "33                  all                          Alle Dokumente\n",
       "34             selected                     Ausgewählte Inhalte\n",
       "35      transkribus19gt                            unknown spec\n",
       "36                  doi                            unknown spec\n",
       "37        transkribus19                            unknown spec\n",
       "38        letter_manual                           letter manual\n",
       "39            inventory                               inventory"
      ]
     },
     "execution_count": 7,
     "metadata": {},
     "output_type": "execute_result"
    }
   ],
   "source": [
    "reader = OAISetReader(oai)\n",
    "setspec = []                          # make an empty list named 'setspec'\n",
    "\n",
    "for x in reader:                 \n",
    "    setspec.append(x)                 # .append adds all the single reader-contents to the list 'setspec'\n",
    "\n",
    "print(setspec[0:3])                   # print the first 3 items of the list (of key-value pairs), just to see\n",
    "\n",
    "df = PandasDFWriter().write(setspec)  # write list 'setspec' into a Pandas dataframe named 'df'\n",
    "df                                    # shows 'df' "
   ]
  },
  {
   "cell_type": "markdown",
   "metadata": {},
   "source": [
    "If a great number of sets is given, you might **search for a certain collection by string**. This can be also helpful to **get to know the set short cut** `setSpec` used by the OAI interface for further investigation of a certain set."
   ]
  },
  {
   "cell_type": "code",
   "execution_count": 8,
   "metadata": {},
   "outputs": [
    {
     "name": "stdout",
     "output_type": "stream",
     "text": [
      "setSpec                       emanusbau\n",
      "setName    Universitätsbibliothek Basel\n",
      "Name: 2, dtype: object\n",
      "setSpec                              emanusbau1\n",
      "setName    Universitätsbibliothek Basel - Aleph\n",
      "Name: 7, dtype: object\n"
     ]
    }
   ],
   "source": [
    "# Example: Searching for strings 'basel' or 'Basel' in the 'setName' column\n",
    "for i in df.index:                                             # for-loop which iterates through 'df' contents\n",
    "    if 'basel' in df.setName[i] or 'Basel' in df.setName[i]:   # if-condition which looks for 'basel'- or 'Basel'\n",
    "                                                               # in the 'setName' column\n",
    "        print(df.loc[i])                                       # print 'df' row, if if-condition is True"
   ]
  },
  {
   "cell_type": "markdown",
   "metadata": {},
   "source": [
    "It's also very useful to know in which **formats the metadata records** are available. The genuine interface does this by requesting the URL https://www.e-manuscripta.ch/oai?verb=ListMetadataFormats. Here, we use the 'OAIMetadataFormatReader' of Polymatheia.\n",
    "\n",
    "As you might see, you can directly select some information like `metadataPrefix` and `metadataNamespace` from the retrieved data by **using the dot-notation**. Dot-notation just adds the desired subordinated element after a dot."
   ]
  },
  {
   "cell_type": "code",
   "execution_count": 9,
   "metadata": {},
   "outputs": [
    {
     "name": "stdout",
     "output_type": "stream",
     "text": [
      "{\n",
      "  \"schema\": \"http://www.openarchives.org/OAI/2.0/oai_dc.xsd\",\n",
      "  \"metadataPrefix\": \"oai_dc\",\n",
      "  \"metadataNamespace\": \"http://www.openarchives.org/OAI/2.0/oai_dc/\"\n",
      "}\n",
      "oai_dc\n",
      "---\n",
      "{\n",
      "  \"schema\": \"http://www.loc.gov/standards/mets/mets.xsd\",\n",
      "  \"metadataPrefix\": \"mets\",\n",
      "  \"metadataNamespace\": \"http://www.loc.gov/METS/\"\n",
      "}\n",
      "mets\n",
      "---\n",
      "{\n",
      "  \"schema\": \"http://www.loc.gov/standards/mods/v3/mods-3-0.xsd\",\n",
      "  \"metadataPrefix\": \"mods\",\n",
      "  \"metadataNamespace\": \"http://www.loc.gov/mods/v3\"\n",
      "}\n",
      "mods\n",
      "---\n",
      "{\n",
      "  \"schema\": \"http://www.loc.gov/standards/mods/v3/mods-3-0.xsd\",\n",
      "  \"metadataPrefix\": \"rawmods\",\n",
      "  \"metadataNamespace\": \"http://www.loc.gov/mods/v3\"\n",
      "}\n",
      "rawmods\n",
      "---\n",
      "{\n",
      "  \"schema\": \"http://www.persistent-identifier.de/xepicur/version1.0/xepicur.xsd\",\n",
      "  \"metadataPrefix\": \"epicur\",\n",
      "  \"metadataNamespace\": \"urn:nbn:de:1111-2004033116\"\n",
      "}\n",
      "epicur\n",
      "---\n"
     ]
    }
   ],
   "source": [
    "reader = OAIMetadataFormatReader(oai)\n",
    "for formats in reader:\n",
    "    print(formats)\n",
    "    print(formats.metadataPrefix)      # dot-notation: chooses sub-element 'metadataPrefix' from the reader content\n",
    "    print('---')"
   ]
  },
  {
   "cell_type": "code",
   "execution_count": 10,
   "metadata": {},
   "outputs": [
    {
     "data": {
      "text/plain": [
       "['oai_dc', 'mets', 'mods', 'rawmods', 'epicur']"
      ]
     },
     "execution_count": 10,
     "metadata": {},
     "output_type": "execute_result"
    }
   ],
   "source": [
    "reader = OAIMetadataFormatReader(oai)\n",
    "[formats.metadataPrefix for formats in reader]   # shorter notation for the for-loops above, which outputs a list"
   ]
  },
  {
   "cell_type": "markdown",
   "metadata": {},
   "source": [
    "### 1.2 Retrieve metadata records via Polymatheia"
   ]
  },
  {
   "cell_type": "markdown",
   "metadata": {},
   "source": [
    " Retrieving available **metadata as a bunch** is simple with the 'OAIRecordReader' command. Just specify the following parameters in the 'OAIRecordReader' function.\n",
    " \n",
    "- `metadata_prefix`: mandatory\n",
    "- `set_spec` (the short cut for the set you want to retrieve): not mandatory, but default will be *all = many* available records!\n",
    "- `max_records` (the number of records): not mandatory, but default will be *all = many* available records!\n",
    "\n",
    "To compare this result with the native OAI interface you might check the top item of \n",
    "https://www.e-manuscripta.ch/oai?verb=ListRecords&metadataPrefix=oai_dc&set=bes.\n"
   ]
  },
  {
   "cell_type": "code",
   "execution_count": 11,
   "metadata": {},
   "outputs": [
    {
     "data": {
      "text/plain": [
       "[{'header': {'identifier': {'_text': 'oai:www.e-manuscripta.ch:1560587'},\n",
       "   'datestamp': {'_text': '2017-03-08T13:12:46Z'},\n",
       "   'setSpec': [{'_text': 'bes'},\n",
       "    {'_text': 'document'},\n",
       "    {'_text': 'all'},\n",
       "    {'_text': 'bilder'}]},\n",
       "  'metadata': {'{http://www.openarchives.org/OAI/2.0/oai_dc/}dc': {'_attrib': {'xsi_schemaLocation': 'http://www.openarchives.org/OAI/2.0/oai_dc/ http://www.openarchives.org/OAI/2.0/oai_dc.xsd'},\n",
       "    'dc_title': {'_text': 'Blots created by H. Rorschach for possible use'},\n",
       "    'dc_creator': {'_text': 'Rorschach, Hermann'},\n",
       "    'dc_description': [{'_text': 'Digitale Kopien sind auf e-manuscripta zugänglich (siehe Link).'},\n",
       "     {'_text': 'Digital copies are available on e-manuscripta (see link)'},\n",
       "     {'_text': 'Some of the blots have been published as picture postcards by the International Rorschach Society'},\n",
       "     {'_text': 'Verzeichnung=Description=Inventaire November 2004 recorded by Rita Signer'},\n",
       "     {'_text': 'Digitalisierung=Digitization=Numérisation TIFF 02.04.2017'}],\n",
       "    'dc_publisher': {'_text': '[s.n.]'},\n",
       "    'dc_date': [{'_text': '1917'}, {'_text': '1918'}],\n",
       "    'dc_type': [{'_text': 'Still image'}, {'_text': 'Picture'}],\n",
       "    'dc_format': [{'_text': '59 blots'}, {'_text': 'Dossier=File'}],\n",
       "    'dc_identifier': [{'_text': 'doi:10.7891/e-manuscripta-48852'},\n",
       "     {'_text': 'https://www.e-manuscripta.ch/bes/doi/10.7891/e-manuscripta-48852'},\n",
       "     {'_text': 'system:99116998774705511'}],\n",
       "    'dc_relation': {'_text': 'vignette : https://www.e-manuscripta.ch/bes/titlepage/doi/10.7891/e-manuscripta-48852/128'},\n",
       "    'dc_language': {'_text': 'zxx'},\n",
       "    'dc_rights': {'_text': 'Die Originale stehen aus konservatorischen Gründen für die Benutzung nicht zur Verfügung.'}}}}]"
      ]
     },
     "execution_count": 11,
     "metadata": {},
     "output_type": "execute_result"
    }
   ],
   "source": [
    "reader = OAIRecordReader(oai, metadata_prefix='oai_dc', set_spec='bes', max_records=1)\n",
    "[record for record in reader]      "
   ]
  },
  {
   "cell_type": "markdown",
   "metadata": {},
   "source": [
    "To access a certain metadata content, you can **follow down the *navigable dictionary* path** with dot-notation, like the following example."
   ]
  },
  {
   "cell_type": "code",
   "execution_count": 12,
   "metadata": {},
   "outputs": [
    {
     "name": "stdout",
     "output_type": "stream",
     "text": [
      "oai:www.e-manuscripta.ch:1560587\n"
     ]
    }
   ],
   "source": [
    "reader = OAIRecordReader(oai, set_spec='bes', metadata_prefix='oai_dc', max_records=1)\n",
    "for record in reader:\n",
    "    print(record.header.identifier._text)        # compare to the first line of the output above"
   ]
  },
  {
   "cell_type": "markdown",
   "metadata": {},
   "source": [
    "Not always metadata content is a simple flat value like the identifier above. **Many fields in structured metadata formats are lists** as they hold multiple values. A good example is the `header` field `setSpec` which holds the information about the different OAI set memberships of the item."
   ]
  },
  {
   "cell_type": "code",
   "execution_count": 13,
   "metadata": {},
   "outputs": [
    {
     "name": "stdout",
     "output_type": "stream",
     "text": [
      "[{'_text': 'bes'}, {'_text': 'document'}, {'_text': 'all'}, {'_text': 'bilder'}]\n"
     ]
    }
   ],
   "source": [
    "reader = OAIRecordReader(oai, set_spec='bes', metadata_prefix='oai_dc', max_records=1)\n",
    "for record in reader:\n",
    "    print(record.header.setSpec)"
   ]
  },
  {
   "cell_type": "markdown",
   "metadata": {},
   "source": [
    "The surrounding square brackets `[ ]` indicate a list (here of key-value pairs). To access each content of the list items of its own you might use *subsetting*, which calls the relevant item by its number in the list. "
   ]
  },
  {
   "cell_type": "code",
   "execution_count": 14,
   "metadata": {},
   "outputs": [
    {
     "name": "stdout",
     "output_type": "stream",
     "text": [
      "bes\n",
      "document\n",
      "all\n",
      "bilder\n"
     ]
    }
   ],
   "source": [
    "reader = OAIRecordReader(oai, set_spec='bes', metadata_prefix='oai_dc', max_records=1)\n",
    "for record in reader:\n",
    "    print(record.header.setSpec[0]._text)\n",
    "    print(record.header.setSpec[1]._text)\n",
    "    print(record.header.setSpec[2]._text)\n",
    "    print(record.header.setSpec[3]._text)"
   ]
  },
  {
   "cell_type": "markdown",
   "metadata": {},
   "source": [
    "For retrieving contents from the `metadata` section a similar subsetting insertion has to be done according to its qualifying string `'{http://www.openarchives.org/OAI/2.0/oai_dc/}dc'`. To give some background information here: This string refers to the `metadataNamespace` element we've seen at retrieving the available metadata formats above."
   ]
  },
  {
   "cell_type": "code",
   "execution_count": 15,
   "metadata": {},
   "outputs": [
    {
     "name": "stdout",
     "output_type": "stream",
     "text": [
      "Blots created by H. Rorschach for possible use\n",
      "---\n",
      "doi:10.7891/e-manuscripta-48852\n",
      "https://www.e-manuscripta.ch/bes/doi/10.7891/e-manuscripta-48852\n",
      "system:99116998774705511\n"
     ]
    }
   ],
   "source": [
    "reader = OAIRecordReader(oai, set_spec='bes', metadata_prefix='oai_dc', max_records=1)\n",
    "for record in reader:\n",
    "    print(record.metadata['{http://www.openarchives.org/OAI/2.0/oai_dc/}dc'].dc_title._text)\n",
    "    print('---')\n",
    "    print(record.metadata['{http://www.openarchives.org/OAI/2.0/oai_dc/}dc'].dc_identifier[0]._text)\n",
    "    print(record.metadata['{http://www.openarchives.org/OAI/2.0/oai_dc/}dc'].dc_identifier[1]._text)\n",
    "    print(record.metadata['{http://www.openarchives.org/OAI/2.0/oai_dc/}dc'].dc_identifier[2]._text)"
   ]
  },
  {
   "cell_type": "markdown",
   "metadata": {},
   "source": [
    "Of course, MODS metadata is by far more rich in content. The request can easily be adjusted by the `metadata_prefix` parameter. But, as you might see, it also bears more complexity."
   ]
  },
  {
   "cell_type": "code",
   "execution_count": 16,
   "metadata": {},
   "outputs": [
    {
     "data": {
      "text/plain": [
       "[{'header': {'identifier': {'_text': 'oai:www.e-manuscripta.ch:1560587'},\n",
       "   'datestamp': {'_text': '2017-03-08T13:12:46Z'},\n",
       "   'setSpec': [{'_text': 'bes'},\n",
       "    {'_text': 'document'},\n",
       "    {'_text': 'all'},\n",
       "    {'_text': 'bilder'}]},\n",
       "  'metadata': {'{http://www.loc.gov/mods/v3}mods': {'_attrib': {'version': '3.6',\n",
       "     'xsi_schemaLocation': 'http://www.loc.gov/mods/v3 http://www.loc.gov/standards/mods/v3/mods-3-6.xsd'},\n",
       "    'mods_titleInfo': {'mods_title': {'_text': 'Blots created by H. Rorschach for possible use'}},\n",
       "    'mods_name': {'_attrib': {'type': 'personal',\n",
       "      'usage': 'primary',\n",
       "      'authority': 'gnd',\n",
       "      'authorityURI': 'http://d-nb.info/gnd/',\n",
       "      'valueURI': 'http://d-nb.info/gnd/11874965X'},\n",
       "     'mods_namePart': [{'_text': 'Rorschach, Hermann'},\n",
       "      {'_text': '1884-1922', '_attrib': {'type': 'date'}}],\n",
       "     'mods_role': [{'mods_roleTerm': {'_text': 'Autor',\n",
       "        '_attrib': {'type': 'text'}}},\n",
       "      {'mods_roleTerm': {'_text': 'aut',\n",
       "        '_attrib': {'authority': 'marcrelator', 'type': 'code'}}}]},\n",
       "    'mods_typeOfResource': {'_text': 'still image'},\n",
       "    'mods_genre': {'_text': 'picture', '_attrib': {'authority': 'marcgt'}},\n",
       "    'mods_originInfo': {'mods_place': {'mods_placeTerm': {'_text': 'sz',\n",
       "       '_attrib': {'type': 'code', 'authority': 'marccountry'}}},\n",
       "     'mods_dateIssued': [{'_text': '1917',\n",
       "       '_attrib': {'encoding': 'w3cdtf', 'point': 'start', 'keyDate': 'yes'}},\n",
       "      {'_text': '1918', '_attrib': {'encoding': 'w3cdtf', 'point': 'end'}},\n",
       "      {'_text': '[between 1917 and 1918]'},\n",
       "      {'_text': '1917',\n",
       "       '_attrib': {'encoding': 'w3cdtf',\n",
       "        'point': 'start',\n",
       "        'qualifier': 'questionable'}},\n",
       "      {'_text': '1918',\n",
       "       '_attrib': {'encoding': 'w3cdtf',\n",
       "        'point': 'end',\n",
       "        'qualifier': 'questionable'}}],\n",
       "     'mods_issuance': {'_text': 'single unit'}},\n",
       "    'mods_language': {'mods_languageTerm': {'_text': 'zxx',\n",
       "      '_attrib': {'authority': 'iso639-2b', 'type': 'code'}}},\n",
       "    'mods_physicalDescription': {'mods_form': [{'_text': 'Bildmaterial',\n",
       "       '_attrib': {'authority': 'gmd'}},\n",
       "      {'_text': 'electronic resource',\n",
       "       '_attrib': {'authority': 'marccategory'}},\n",
       "      {'_text': 'remote', '_attrib': {'authority': 'marcsmd'}}],\n",
       "     'mods_extent': {'_text': '59 blots'},\n",
       "     'mods_note': {'_text': 'Dossier=File',\n",
       "      '_attrib': {'type': 'arrangement'}}},\n",
       "    'mods_note': [{'_text': 'Digitale Kopien sind auf e-manuscripta zugänglich (siehe Link).',\n",
       "      '_attrib': {'type': 'reproduction'}},\n",
       "     {'_text': 'Digital copies are available on e-manuscripta (see link)',\n",
       "      '_attrib': {'type': 'reproduction'}},\n",
       "     {'_text': 'Some of the blots have been published as picture postcards by the International Rorschach Society',\n",
       "      '_attrib': {'type': 'publications'}},\n",
       "     {'_text': 'Verzeichnung=Description=Inventaire November 2004 recorded by Rita Signer',\n",
       "      '_attrib': {'type': 'action'}},\n",
       "     {'_text': 'Digitalisierung=Digitization=Numérisation TIFF 02.04.2017',\n",
       "      '_attrib': {'type': 'action'}}],\n",
       "    'mods_identifier': {'_text': '10.7891/e-manuscripta-48852',\n",
       "     '_attrib': {'type': 'doi'}},\n",
       "    'mods_location': [{'mods_physicalLocation': {'_text': 'Bern UB Medizingeschichte: Rorschach-Archiv Fonds Hermann Rorschach'},\n",
       "      'mods_shelfLocator': {'_text': 'Rorsch HR 3 : 3:1'},\n",
       "      'mods_holdingSimple': {'mods_copyInformation': {'mods_itemIdentifier': {'_text': 'Rorsch HR 3 : 3:1',\n",
       "         '_attrib': {'type': 'copy number'}}}}},\n",
       "     {'mods_url': {'_text': 'http://dx.doi.org/10.7891/e-manuscripta-48852',\n",
       "       '_attrib': {'displayLabel': 'electronic resource',\n",
       "        'usage': 'primary display',\n",
       "        'note': 'Digitalisat in e-manuscripta'}}}],\n",
       "    'mods_accessCondition': [{'_text': 'Die Originale stehen aus konservatorischen Gründen für die Benutzung nicht zur Verfügung.',\n",
       "      '_attrib': {'type': 'restriction on access'}},\n",
       "     {'_text': 'Due to conservational requirements access to the original documents is not possible.',\n",
       "      '_attrib': {'type': 'restriction on access'}},\n",
       "     {'_text': 'pdm',\n",
       "      '_attrib': {'type': 'use and reproduction',\n",
       "       'xlink_href': 'https://creativecommons.org/publicdomain/mark/1.0',\n",
       "       'displayLabel': 'Public Domain Mark'}}],\n",
       "    'mods_part': {'_attrib': {'type': 'host', 'order': '1'},\n",
       "     'mods_detail': {'mods_number': {'_text': '1'}}},\n",
       "    'mods_extension': {'vl_relatedItem': {'_attrib': {'type': 'inventory'},\n",
       "      'mods_titleInfo': {'mods_title': {'_text': \"Fonds Hermann Rorschach. Series 3, Scientific material. 3, Material related to Rorschach's test\"}},\n",
       "      'mods_recordInfo': {'mods_recordIdentifier': {'_text': '000054650',\n",
       "        '_attrib': {'source': 'bes'}}}},\n",
       "     'vl_originInfo': {'_attrib': {'displayLabel': 'dc'},\n",
       "      'mods_dateCreated': [{'_text': '1917',\n",
       "        '_attrib': {'encoding': 'w3cdtf', 'point': 'start'}},\n",
       "       {'_text': '1918', '_attrib': {'encoding': 'w3cdtf', 'point': 'end'}}]},\n",
       "     '{http://visuallibrary.net/vlz/1.0/}info': {'_attrib': {'version': '2'}}},\n",
       "    'mods_recordInfo': {'mods_recordCreationDate': {'_text': '020403',\n",
       "      '_attrib': {'encoding': 'marc'}},\n",
       "     'mods_recordChangeDate': {'_text': '20171213094900.0',\n",
       "      '_attrib': {'encoding': 'iso8601'}},\n",
       "     'mods_recordOrigin': {'_text': 'Converted from MARCXML to MODS version 3.6 using MARC21slim2MODS3-6.xsl\\n\\t\\t\\t\\t(Revision 1.119 2018/06/21)'},\n",
       "     'mods_recordIdentifier': {'_text': '99116998774705511',\n",
       "      '_attrib': {'source': 'bes'}}}}}}]"
      ]
     },
     "execution_count": 16,
     "metadata": {},
     "output_type": "execute_result"
    }
   ],
   "source": [
    "reader = OAIRecordReader(oai, metadata_prefix='mods', set_spec='bes', max_records=1)\n",
    "[record for record in reader]"
   ]
  },
  {
   "cell_type": "markdown",
   "metadata": {},
   "source": [
    "When you are heading for some information in the `metadata` section of the record, the qualifying string has to be adapted to `'{http://www.loc.gov/mods/v3}mods'`."
   ]
  },
  {
   "cell_type": "code",
   "execution_count": 17,
   "metadata": {},
   "outputs": [
    {
     "name": "stdout",
     "output_type": "stream",
     "text": [
      "oai:www.e-manuscripta.ch:1560587\n",
      "---\n",
      "Blots created by H. Rorschach for possible use\n",
      "---\n",
      "Die Originale stehen aus konservatorischen Gründen für die Benutzung nicht zur Verfügung.\n",
      "Due to conservational requirements access to the original documents is not possible.\n",
      "pdm\n"
     ]
    }
   ],
   "source": [
    "reader = OAIRecordReader(oai, metadata_prefix='mods', set_spec='bes', max_records=1)\n",
    "for record in reader:\n",
    "    print(record.header.identifier._text)\n",
    "    print('---')\n",
    "    print(record.metadata['{http://www.loc.gov/mods/v3}mods'].mods_titleInfo.mods_title._text)\n",
    "    print('---')\n",
    "    print(record.metadata['{http://www.loc.gov/mods/v3}mods'].mods_accessCondition[0]._text)\n",
    "    print(record.metadata['{http://www.loc.gov/mods/v3}mods'].mods_accessCondition[1]._text)\n",
    "    print(record.metadata['{http://www.loc.gov/mods/v3}mods'].mods_accessCondition[2]._text)"
   ]
  },
  {
   "cell_type": "markdown",
   "metadata": {},
   "source": [
    "Because drilling down the *navigable dictionary* path can lead to long and complicated commands - which might not be very clear, either - there is a catchier way to do so with the `get` command applied on the records.  \n",
    "And: There is **no issue anymore with single values versus lists and qualifying strings**. Just putting the terms together as a list of `get` parameters!\n",
    "\n",
    "Note that in the case of more than one retrieved element a result list (in squared brackets) will be created."
   ]
  },
  {
   "cell_type": "code",
   "execution_count": 18,
   "metadata": {},
   "outputs": [
    {
     "name": "stdout",
     "output_type": "stream",
     "text": [
      "oai:www.e-manuscripta.ch:1560587\n",
      "---\n",
      "['Digitale Kopien sind auf e-manuscripta zugänglich (siehe Link).', 'Digital copies are available on e-manuscripta (see link)', 'Some of the blots have been published as picture postcards by the International Rorschach Society', 'Verzeichnung=Description=Inventaire November 2004 recorded by Rita Signer', 'Digitalisierung=Digitization=Numérisation TIFF 02.04.2017']\n",
      "---\n",
      "['reproduction', 'reproduction', 'publications', 'action', 'action']\n",
      "---\n",
      "['Die Originale stehen aus konservatorischen Gründen für die Benutzung nicht zur Verfügung.', 'Due to conservational requirements access to the original documents is not possible.', 'pdm']\n"
     ]
    }
   ],
   "source": [
    "reader = OAIRecordReader(oai, metadata_prefix='mods', set_spec='bes', max_records=1)\n",
    "for record in reader:\n",
    "    print(record.get(['header', 'identifier', '_text']))\n",
    "    print('---')\n",
    "    print(record.get(['metadata', '{http://www.loc.gov/mods/v3}mods', 'mods_note', '_text']))\n",
    "    print('---')\n",
    "    print(record.get(['metadata', '{http://www.loc.gov/mods/v3}mods', 'mods_note', '_attrib', 'type']))\n",
    "    print('---')\n",
    "    print(record.get(['metadata', '{http://www.loc.gov/mods/v3}mods', 'mods_accessCondition', '_text']))"
   ]
  },
  {
   "cell_type": "markdown",
   "metadata": {},
   "source": [
    "This also works with the shorter form of for-loops. But mind that it delivers a nested - or 'doubled' - list, if there are the same elements several times, like `dc_identifier` here."
   ]
  },
  {
   "cell_type": "code",
   "execution_count": 19,
   "metadata": {},
   "outputs": [
    {
     "data": {
      "text/plain": [
       "[['doi:10.7891/e-manuscripta-48852',\n",
       "  'https://www.e-manuscripta.ch/bes/doi/10.7891/e-manuscripta-48852',\n",
       "  'system:99116998774705511']]"
      ]
     },
     "execution_count": 19,
     "metadata": {},
     "output_type": "execute_result"
    }
   ],
   "source": [
    "reader = OAIRecordReader(oai, set_spec='bes', metadata_prefix='oai_dc', max_records=1)\n",
    "\n",
    "[record.get(['metadata', '{http://www.openarchives.org/OAI/2.0/oai_dc/}dc', 'dc_identifier', '_text']) \\\n",
    "            for record in reader]                        # '\\' indicates that command proceeds on the next line"
   ]
  },
  {
   "cell_type": "markdown",
   "metadata": {},
   "source": [
    "Now, it's really easy to access whatever metadata content you like.\n",
    "\n",
    "For instance, you might be interested in **all responsible persons and bodies**, their role, and GND identifiers..."
   ]
  },
  {
   "cell_type": "code",
   "execution_count": 20,
   "metadata": {},
   "outputs": [
    {
     "data": {
      "text/plain": [
       "[{'_attrib': {'type': 'personal',\n",
       "   'usage': 'primary',\n",
       "   'authority': 'gnd',\n",
       "   'authorityURI': 'http://d-nb.info/gnd/',\n",
       "   'valueURI': 'http://d-nb.info/gnd/11874965X'},\n",
       "  'mods_namePart': [{'_text': 'Rorschach, Hermann'},\n",
       "   {'_text': '1884-1922', '_attrib': {'type': 'date'}}],\n",
       "  'mods_role': [{'mods_roleTerm': {'_text': 'Autor',\n",
       "     '_attrib': {'type': 'text'}}},\n",
       "   {'mods_roleTerm': {'_text': 'aut',\n",
       "     '_attrib': {'authority': 'marcrelator', 'type': 'code'}}}]}]"
      ]
     },
     "execution_count": 20,
     "metadata": {},
     "output_type": "execute_result"
    }
   ],
   "source": [
    "# First looking at the 'mods_name' section of one record to get an overview of its structure\n",
    "reader = OAIRecordReader(oai, metadata_prefix='mods', set_spec='bes', max_records=1)\n",
    "\n",
    "[record.get(['metadata', '{http://www.loc.gov/mods/v3}mods', 'mods_name']) for record in reader]"
   ]
  },
  {
   "cell_type": "code",
   "execution_count": 21,
   "metadata": {},
   "outputs": [
    {
     "name": "stdout",
     "output_type": "stream",
     "text": [
      "['Rorschach, Hermann', '1884-1922']\n",
      "http://d-nb.info/gnd/11874965X\n",
      "['Autor', 'aut']\n",
      "---\n",
      "[['Peter', 'I., Russland, Zar', '1672-1725'], ['Vinius, Andrej A.', '1641-1717']]\n",
      "['http://d-nb.info/gnd/118592955', 'http://d-nb.info/gnd/13640278X']\n",
      "[['Autor', 'aut'], ['Adressat', 'rcp']]\n",
      "---\n",
      "[['Morgenrot, A. I.', 'ca. 19. Jh'], ['Lisenkov, Ivan Timofeevič', '1795-1881']]\n",
      "['http://d-nb.info/gnd/1209644584', 'http://d-nb.info/gnd/1209646625']\n",
      "[['Autor', 'aut'], ['Adressat', 'rcp']]\n",
      "---\n",
      "[['Guillemot de Villebois, Alexander', '1717-1781'], ['Lieven, Otto von', '1726-1781']]\n",
      "['http://d-nb.info/gnd/1173661336', 'http://d-nb.info/gnd/136709923']\n",
      "[['Autor', 'aut'], ['Adressat', 'rcp']]\n",
      "---\n",
      "[['Ṥuvalov, Petr Ivanovič', '1711-1762'], ['Fonvizin, Ivan Andreevič', '1705-1792']]\n",
      "['http://d-nb.info/gnd/1212895894', 'http://d-nb.info/gnd/1212895509']\n",
      "[['Autor', 'aut'], ['Adressat', 'rcp']]\n",
      "---\n",
      "['Lieven, Otto von', '1726-1781']\n",
      "http://d-nb.info/gnd/136709923\n",
      "['Autor', 'aut']\n",
      "---\n",
      "[['Katharina', 'II., Russland, Zarin', '1729-1796'], ['Broglie, Victor François de', '1718-1804']]\n",
      "['http://d-nb.info/gnd/118560565', 'http://d-nb.info/gnd/116562722']\n",
      "[['Autor', 'aut'], ['Adressat', 'rcp']]\n",
      "---\n",
      "['Clarke, Edward Daniel', '1769-1822']\n",
      "http://d-nb.info/gnd/117689343\n",
      "['Autor', 'aut']\n",
      "---\n",
      "[['Lieven, Karl Christoph', 'Fürst von', '1767-1844'], 'Krjukov, A.', 'Bratʹja Sapožnikovy', 'Bratʹja Sapožnikovy']\n",
      "['http://d-nb.info/gnd/117000795', 'http://d-nb.info/gnd/121304037X', 'http://d-nb.info/gnd/1211012999', 'http://d-nb.info/gnd/1211012999']\n",
      "[['Autor', 'Adressat', 'aut', 'rcp'], ['Autor', 'aut'], ['Mitwirkender', 'aut'], ['Adressat', 'rcp']]\n",
      "---\n",
      "['Popov, Glebʺ', 'Tjapkin, Andrej Michajlovič', ['Kontora krepostnych del', 'Sankt Petersburg']]\n",
      "[None, 'http://d-nb.info/gnd/1213117070', 'http://d-nb.info/gnd/1213119634']\n",
      "[['Autor', 'aut'], ['Auftraggeber', 'aut'], ['Mitwirkender', 'aut']]\n",
      "---\n"
     ]
    }
   ],
   "source": [
    "# Selecting the 'mods_name' sub-elements of interest in the first ten records in the 'bes' set\n",
    "reader = OAIRecordReader(oai, set_spec='bes', metadata_prefix='mods', max_records=10)\n",
    "for record in reader:\n",
    "    print(record.get(['metadata', '{http://www.loc.gov/mods/v3}mods', 'mods_name', 'mods_namePart', '_text']))\n",
    "    print(record.get(['metadata', '{http://www.loc.gov/mods/v3}mods', 'mods_name', '_attrib', 'valueURI']))\n",
    "    print(record.get(['metadata', '{http://www.loc.gov/mods/v3}mods', 'mods_name', 'mods_role', \\\n",
    "                      'mods_roleTerm', '_text']))\n",
    "    print('---')"
   ]
  },
  {
   "cell_type": "markdown",
   "metadata": {},
   "source": [
    "### 1.3 Retrieve the licences"
   ]
  },
  {
   "cell_type": "markdown",
   "metadata": {},
   "source": [
    "E-manuscripta's documents are published under different licences. To get an overview you might look at the [Terms of Use](https://www.e-manuscripta.ch/wiki/termsOfUse). Here's a short how-to to get the rights information out of the OAI metadata.\n",
    "\n",
    "First, let's check the rights information in the *Dublin Core* format. As you can see, most times 'pdm' for *Public Domain Mark* is delivered. Otherwise, for the first item, an usage information instead of the rights appears."
   ]
  },
  {
   "cell_type": "code",
   "execution_count": 22,
   "metadata": {},
   "outputs": [
    {
     "data": {
      "text/plain": [
       "['Die Originale stehen aus konservatorischen Gründen für die Benutzung nicht zur Verfügung.',\n",
       " 'pdm',\n",
       " 'pdm',\n",
       " 'pdm',\n",
       " 'pdm']"
      ]
     },
     "execution_count": 22,
     "metadata": {},
     "output_type": "execute_result"
    }
   ],
   "source": [
    "reader = OAIRecordReader(oai, set_spec='bes', metadata_prefix='oai_dc', max_records=5)\n",
    "[record.metadata['{http://www.openarchives.org/OAI/2.0/oai_dc/}dc'].dc_rights._text \\\n",
    "  for record in reader]"
   ]
  },
  {
   "cell_type": "markdown",
   "metadata": {},
   "source": [
    "Grabbing the rights information of the *MODS* format might be an alternative."
   ]
  },
  {
   "cell_type": "code",
   "execution_count": 23,
   "metadata": {},
   "outputs": [
    {
     "name": "stdout",
     "output_type": "stream",
     "text": [
      "oai:www.e-manuscripta.ch:1560587\n",
      "['restriction on access', 'restriction on access', 'use and reproduction']\n",
      "[None, None, 'Public Domain Mark']\n",
      "---\n",
      "oai:www.e-manuscripta.ch:2872633\n",
      "use and reproduction\n",
      "Public Domain Mark\n",
      "---\n",
      "oai:www.e-manuscripta.ch:2872640\n",
      "use and reproduction\n",
      "Public Domain Mark\n",
      "---\n",
      "oai:www.e-manuscripta.ch:2872650\n",
      "use and reproduction\n",
      "Public Domain Mark\n",
      "---\n",
      "oai:www.e-manuscripta.ch:2872658\n",
      "use and reproduction\n",
      "Public Domain Mark\n",
      "---\n"
     ]
    }
   ],
   "source": [
    "reader = OAIRecordReader(oai, metadata_prefix='mods', set_spec='bes', max_records=5)\n",
    "for record in reader:\n",
    "    print(record.header.identifier._text) \n",
    "    print(record.get(['metadata', '{http://www.loc.gov/mods/v3}mods', 'mods_accessCondition', \\\n",
    "                      '_attrib', 'type']))\n",
    "    print(record.get(['metadata', '{http://www.loc.gov/mods/v3}mods', 'mods_accessCondition', \\\n",
    "                      '_attrib', 'displayLabel']))\n",
    "    print('---')"
   ]
  },
  {
   "cell_type": "markdown",
   "metadata": {},
   "source": [
    "To get a better view and a more usable format for further work, you can **write the rights into a dataframe**, too.\n",
    "\n",
    "How to do it? There is a convenient way for this, relying on Python and Pandas standard procedures: First retrieve the single elements - as done before - and write them separately into lists (`identifier` and `dc_rights`). Then, bind the lists into a dictionary (a genuine data type with Python), and finally turn this dictionary into a dataframe. That's all!"
   ]
  },
  {
   "cell_type": "code",
   "execution_count": 24,
   "metadata": {},
   "outputs": [
    {
     "data": {
      "text/html": [
       "<div>\n",
       "<style scoped>\n",
       "    .dataframe tbody tr th:only-of-type {\n",
       "        vertical-align: middle;\n",
       "    }\n",
       "\n",
       "    .dataframe tbody tr th {\n",
       "        vertical-align: top;\n",
       "    }\n",
       "\n",
       "    .dataframe thead th {\n",
       "        text-align: right;\n",
       "    }\n",
       "</style>\n",
       "<table border=\"1\" class=\"dataframe\">\n",
       "  <thead>\n",
       "    <tr style=\"text-align: right;\">\n",
       "      <th></th>\n",
       "      <th>ID</th>\n",
       "      <th>rights</th>\n",
       "    </tr>\n",
       "  </thead>\n",
       "  <tbody>\n",
       "    <tr>\n",
       "      <th>0</th>\n",
       "      <td>oai:www.e-manuscripta.ch:1560587</td>\n",
       "      <td>[None, None, Public Domain Mark]</td>\n",
       "    </tr>\n",
       "    <tr>\n",
       "      <th>1</th>\n",
       "      <td>oai:www.e-manuscripta.ch:2872633</td>\n",
       "      <td>Public Domain Mark</td>\n",
       "    </tr>\n",
       "    <tr>\n",
       "      <th>2</th>\n",
       "      <td>oai:www.e-manuscripta.ch:2872640</td>\n",
       "      <td>Public Domain Mark</td>\n",
       "    </tr>\n",
       "    <tr>\n",
       "      <th>3</th>\n",
       "      <td>oai:www.e-manuscripta.ch:2872650</td>\n",
       "      <td>Public Domain Mark</td>\n",
       "    </tr>\n",
       "    <tr>\n",
       "      <th>4</th>\n",
       "      <td>oai:www.e-manuscripta.ch:2872658</td>\n",
       "      <td>Public Domain Mark</td>\n",
       "    </tr>\n",
       "  </tbody>\n",
       "</table>\n",
       "</div>"
      ],
      "text/plain": [
       "                                 ID                            rights\n",
       "0  oai:www.e-manuscripta.ch:1560587  [None, None, Public Domain Mark]\n",
       "1  oai:www.e-manuscripta.ch:2872633                Public Domain Mark\n",
       "2  oai:www.e-manuscripta.ch:2872640                Public Domain Mark\n",
       "3  oai:www.e-manuscripta.ch:2872650                Public Domain Mark\n",
       "4  oai:www.e-manuscripta.ch:2872658                Public Domain Mark"
      ]
     },
     "execution_count": 24,
     "metadata": {},
     "output_type": "execute_result"
    }
   ],
   "source": [
    "reader = OAIRecordReader(oai, metadata_prefix='mods', set_spec='bes', max_records=5)\n",
    "identifier = []\n",
    "dc_rights = []                          \n",
    "\n",
    "for record in reader:\n",
    "    identifier.append(record.header.identifier._text)\n",
    "    dc_rights.append(record.get(['metadata', '{http://www.loc.gov/mods/v3}mods', 'mods_accessCondition', \\\n",
    "                                 '_attrib', 'displayLabel']))\n",
    "\n",
    "dic = {'ID': identifier, 'rights': dc_rights} \n",
    "df = pd.DataFrame(dic)  \n",
    "df"
   ]
  },
  {
   "cell_type": "markdown",
   "metadata": {},
   "source": [
    "Also, you easily can get an overview over the rights of a whole OAI set with the `Counter` function from the `collections` library. Doing this you can choose the maximum records via the known parameter."
   ]
  },
  {
   "cell_type": "code",
   "execution_count": 25,
   "metadata": {},
   "outputs": [
    {
     "data": {
      "text/plain": [
       "Counter({'Die Originale stehen aus konservatorischen Gründen für die Benutzung nicht zur Verfügung.': 1,\n",
       "         'pdm': 37})"
      ]
     },
     "execution_count": 25,
     "metadata": {},
     "output_type": "execute_result"
    }
   ],
   "source": [
    "import collections\n",
    "reader = OAIRecordReader(oai, set_spec='bes', metadata_prefix='oai_dc', max_records=38)\n",
    "\n",
    "dc_rights = [record.metadata['{http://www.openarchives.org/OAI/2.0/oai_dc/}dc'].dc_rights._text \\\n",
    "  for record in reader]\n",
    "counter = collections.Counter(dc_rights)\n",
    "counter"
   ]
  },
  {
   "cell_type": "markdown",
   "metadata": {},
   "source": [
    "### 1.4 Save  and recover complex metadata structures"
   ]
  },
  {
   "cell_type": "markdown",
   "metadata": {},
   "source": [
    "Before any data will be downloaded, let's build a folder named `data` in our working directory to save all the data in it."
   ]
  },
  {
   "cell_type": "code",
   "execution_count": 26,
   "metadata": {},
   "outputs": [
    {
     "name": "stdout",
     "output_type": "stream",
     "text": [
      "C:\\Users\\kwoit\\Documents\\GitHub\\e-manuscripta-access\n"
     ]
    }
   ],
   "source": [
    "print(os.getcwd())                                # print current working directory"
   ]
  },
  {
   "cell_type": "markdown",
   "metadata": {},
   "source": [
    "In case you might change your directory you can easily do this with `os.chdir` or `os.chdir(os.pardir)`. While `os.chdir()` changes the working directory to a subdirectory, `os.chdir(os.pardir)` will change it to the parent directory. Just uncomment (and maybe multiply) the commands you need."
   ]
  },
  {
   "cell_type": "code",
   "execution_count": 27,
   "metadata": {},
   "outputs": [],
   "source": [
    "#os.chdir(os.pardir)                              # change to parent directory\n",
    "os.makedirs('data', exist_ok=True)                # make new folder 'data'\n",
    "os.chdir('data')                                  # change to 'data' folder"
   ]
  },
  {
   "cell_type": "markdown",
   "metadata": {},
   "source": [
    "To **download a whole bunch of metadata items** in nested formats like *MODS* the 'JSONWriter' from Polymatheia is very helpful.\n",
    "It creates a complex folder structure and JSON files to reproduce the structured metadata. And with 'JSONReader' one can easily recover the metadata set."
   ]
  },
  {
   "cell_type": "code",
   "execution_count": 28,
   "metadata": {},
   "outputs": [],
   "source": [
    "from polymatheia.data.writer import JSONWriter     # also available: CSVReader (for flat data), XMLReader and Writer\n",
    "from polymatheia.data.reader import JSONReader"
   ]
  },
  {
   "cell_type": "markdown",
   "metadata": {},
   "source": [
    "'JSONWriter' takes two parameters:\n",
    "- The first is the name of the directory into which the data should be stored.\n",
    "- The second is the dot-notated path (via its `header.identifier`) used to access the item's metadata.\n",
    "\n",
    "For more clarity, these are the contents of `header.identifier` for the first ten Bernese records we will refer to:"
   ]
  },
  {
   "cell_type": "code",
   "execution_count": 29,
   "metadata": {},
   "outputs": [
    {
     "name": "stdout",
     "output_type": "stream",
     "text": [
      "oai:www.e-manuscripta.ch:1560587\n",
      "oai:www.e-manuscripta.ch:2872633\n",
      "oai:www.e-manuscripta.ch:2872640\n",
      "oai:www.e-manuscripta.ch:2872650\n",
      "oai:www.e-manuscripta.ch:2872658\n",
      "oai:www.e-manuscripta.ch:2872666\n",
      "oai:www.e-manuscripta.ch:2872679\n",
      "oai:www.e-manuscripta.ch:2872687\n",
      "oai:www.e-manuscripta.ch:2872695\n",
      "oai:www.e-manuscripta.ch:2872703\n"
     ]
    }
   ],
   "source": [
    "reader = OAIRecordReader(oai, set_spec='bes', metadata_prefix='mods', max_records=10)\n",
    "for record in reader:\n",
    "    print(record.header.identifier._text)"
   ]
  },
  {
   "cell_type": "code",
   "execution_count": 30,
   "metadata": {},
   "outputs": [],
   "source": [
    "# Download and save the first ten Bernese records from MODS format\n",
    "reader = OAIRecordReader(oai, set_spec='bes', metadata_prefix='mods', max_records=10)\n",
    "writer = JSONWriter('poly_metadata', 'header.identifier._text')   # 'poly_metadata' = directory to store into\n",
    "writer.write(reader)"
   ]
  },
  {
   "cell_type": "code",
   "execution_count": 31,
   "metadata": {},
   "outputs": [
    {
     "data": {
      "text/plain": [
       "[{'header': {'identifier': {'_text': 'oai:www.e-manuscripta.ch:2872640'},\n",
       "   'datestamp': {'_text': '2020-10-26T13:25:35Z'},\n",
       "   'setSpec': [{'_text': 'bes'}, {'_text': 'document'}]},\n",
       "  'metadata': {'{http://www.loc.gov/mods/v3}mods': {'_attrib': {'version': '3.6',\n",
       "     'xsi_schemaLocation': 'http://www.loc.gov/mods/v3 http://www.loc.gov/standards/mods/v3/mods-3-6.xsd'},\n",
       "    'mods_titleInfo': {'mods_title': {'_text': 'Brief an Knigoprodavec [Ivan Timofeevič] Lisenkov'}},\n",
       "    'mods_name': [{'_attrib': {'type': 'personal',\n",
       "       'usage': 'primary',\n",
       "       'authority': 'gnd',\n",
       "       'authorityURI': 'http://d-nb.info/gnd/',\n",
       "       'valueURI': 'http://d-nb.info/gnd/1209644584'},\n",
       "      'mods_namePart': [{'_text': 'Morgenrot, A. I.'},\n",
       "       {'_text': 'ca. 19. Jh', '_attrib': {'type': 'date'}}],\n",
       "      'mods_role': [{'mods_roleTerm': {'_text': 'Autor',\n",
       "         '_attrib': {'type': 'text'}}},\n",
       "       {'mods_roleTerm': {'_text': 'aut',\n",
       "         '_attrib': {'authority': 'marcrelator', 'type': 'code'}}}]},\n",
       "     {'_attrib': {'type': 'personal',\n",
       "       'authority': 'gnd',\n",
       "       'authorityURI': 'http://d-nb.info/gnd/',\n",
       "       'valueURI': 'http://d-nb.info/gnd/1209646625'},\n",
       "      'mods_namePart': [{'_text': 'Lisenkov, Ivan Timofeevič'},\n",
       "       {'_text': '1795-1881', '_attrib': {'type': 'date'}}],\n",
       "      'mods_role': [{'mods_roleTerm': {'_text': 'Adressat',\n",
       "         '_attrib': {'type': 'text'}}},\n",
       "       {'mods_roleTerm': {'_text': 'rcp',\n",
       "         '_attrib': {'authority': 'marcrelator', 'type': 'code'}}}]}],\n",
       "    'mods_typeOfResource': {'_text': 'text', '_attrib': {'manuscript': 'yes'}},\n",
       "    'mods_genre': [{'_text': 'letter', '_attrib': {'authority': 'marcgt'}},\n",
       "     {'_text': 'Autograph', '_attrib': {'authority': 'marcgt'}}],\n",
       "    'mods_originInfo': {'mods_place': [{'mods_placeTerm': {'_text': 'ru',\n",
       "        '_attrib': {'type': 'code', 'authority': 'marccountry'}}},\n",
       "      {'mods_placeTerm': {'_text': 'Sankt Petersburg',\n",
       "        '_attrib': {'type': 'text'}}}],\n",
       "     'mods_dateIssued': [{'_text': '1837',\n",
       "       '_attrib': {'encoding': 'w3cdtf', 'point': 'start', 'keyDate': 'yes'}},\n",
       "      {'_text': '1839', '_attrib': {'encoding': 'w3cdtf', 'point': 'end'}},\n",
       "      {'_text': '1939', '_attrib': {'encoding': 'w3cdtf', 'point': 'end'}}],\n",
       "     'mods_dateCreated': {'_text': '[1837-1839]'},\n",
       "     'mods_issuance': {'_text': 'single unit'}},\n",
       "    'mods_language': {'mods_languageTerm': {'_text': 'rus',\n",
       "      '_attrib': {'authority': 'iso639-2b', 'type': 'code'}}},\n",
       "    'mods_physicalDescription': {'mods_form': {'_text': 'print',\n",
       "      '_attrib': {'authority': 'marcform'}},\n",
       "     'mods_extent': {'_text': '2 Blätter ; 190 x 230 mm'},\n",
       "     'mods_note': {'_text': 'Dokument=Item=Pièce',\n",
       "      '_attrib': {'type': 'arrangement'}}},\n",
       "    'mods_abstract': {'_text': '1 Blatt Auflistung, gefaltet ; 1 Blatt Anschreiben lose innen auf anderem Papier'},\n",
       "    'mods_note': [{'_text': 'von [A.I.] Morgenrotʺ',\n",
       "      '_attrib': {'type': 'statement of responsibility', 'altRepGroup': '00'}},\n",
       "     {'_text': 'Brief vom St. Petersburger Verleger und Buchhändler A. I. Morgenrot an Buchhändler I. T. Lisenkov in Zusammenhang mit der Ausgabe und Verkauf von Živopisnaja Rossija (1837-1839)'},\n",
       "     {'_text': 'Russisch', '_attrib': {'type': 'language'}},\n",
       "     {'_text': 'Verzeichnung=Description=Inventaire HAN-Katalogisierungsregeln',\n",
       "      '_attrib': {'type': 'action'}}],\n",
       "    'mods_subject': {'mods_hierarchicalGeographic': {'_attrib': {'authority': 'gnd',\n",
       "       'authorityURI': 'http://d-nb.info/gnd/',\n",
       "       'valueURI': 'http://d-nb.info/gnd/4267026-3'},\n",
       "      'mods_city': {'_text': 'Sankt Petersburg'}}},\n",
       "    'mods_identifier': {'_text': '10.7891/e-manuscripta-99318',\n",
       "     '_attrib': {'type': 'doi'}},\n",
       "    'mods_location': {'mods_physicalLocation': {'_text': 'Bern UB Schweizerische Osteuropabibliothek Rossica Europeana'},\n",
       "     'mods_shelfLocator': {'_text': 'SOB RoEU ag 2'},\n",
       "     'mods_holdingSimple': {'mods_copyInformation': {'mods_itemIdentifier': {'_text': 'SOB RoEU ag 2',\n",
       "        '_attrib': {'type': 'copy number'}}}}},\n",
       "    'mods_accessCondition': {'_text': 'pdm',\n",
       "     '_attrib': {'type': 'use and reproduction',\n",
       "      'xlink_href': 'https://creativecommons.org/publicdomain/mark/1.0',\n",
       "      'displayLabel': 'Public Domain Mark'}},\n",
       "    'mods_extension': {'vl_originInfo': {'_attrib': {'displayLabel': 'dc'},\n",
       "      'mods_dateCreated': [{'_text': '1837',\n",
       "        '_attrib': {'encoding': 'w3cdtf', 'point': 'start'}},\n",
       "       {'_text': '1939', '_attrib': {'encoding': 'w3cdtf', 'point': 'end'}}]},\n",
       "     '{http://visuallibrary.net/vlz/1.0/}info': {'_attrib': {'version': '2'}}},\n",
       "    'mods_recordInfo': {'mods_recordCreationDate': {'_text': '200423',\n",
       "      '_attrib': {'encoding': 'marc'}},\n",
       "     'mods_recordChangeDate': {'_text': '20200903093700.0',\n",
       "      '_attrib': {'encoding': 'iso8601'}},\n",
       "     'mods_recordOrigin': {'_text': 'Converted from MARCXML to MODS version 3.6 using MARC21slim2MODS3-6.xsl\\n\\t\\t\\t\\t(Revision 1.119 2018/06/21)'},\n",
       "     'mods_recordIdentifier': {'_text': '99116998851405511',\n",
       "      '_attrib': {'source': 'bes'}}}}}},\n",
       " {'header': {'identifier': {'_text': 'oai:www.e-manuscripta.ch:2872695'},\n",
       "   'datestamp': {'_text': '2020-10-26T13:28:08Z'},\n",
       "   'setSpec': [{'_text': 'bes'}, {'_text': 'document'}]},\n",
       "  'metadata': {'{http://www.loc.gov/mods/v3}mods': {'_attrib': {'version': '3.6',\n",
       "     'xsi_schemaLocation': 'http://www.loc.gov/mods/v3 http://www.loc.gov/standards/mods/v3/mods-3-6.xsd'},\n",
       "    'mods_titleInfo': {'mods_title': {'_text': 'Briefwechsel betreffend Schuldschein und Zahlungsbestätigung von Karlʺ Liven'}},\n",
       "    'mods_name': [{'_attrib': {'type': 'personal',\n",
       "       'authority': 'gnd',\n",
       "       'authorityURI': 'http://d-nb.info/gnd/',\n",
       "       'valueURI': 'http://d-nb.info/gnd/117000795'},\n",
       "      'mods_namePart': [{'_text': 'Lieven, Karl Christoph'},\n",
       "       {'_text': 'Fürst von', '_attrib': {'type': 'termsOfAddress'}},\n",
       "       {'_text': '1767-1844', '_attrib': {'type': 'date'}}],\n",
       "      'mods_role': [{'mods_roleTerm': {'_text': 'Autor',\n",
       "         '_attrib': {'type': 'text'}}},\n",
       "       {'mods_roleTerm': {'_text': 'Adressat', '_attrib': {'type': 'text'}}},\n",
       "       {'mods_roleTerm': {'_text': 'aut',\n",
       "         '_attrib': {'authority': 'marcrelator', 'type': 'code'}}},\n",
       "       {'mods_roleTerm': {'_text': 'rcp',\n",
       "         '_attrib': {'authority': 'marcrelator', 'type': 'code'}}}]},\n",
       "     {'_attrib': {'type': 'personal',\n",
       "       'authority': 'gnd',\n",
       "       'authorityURI': 'http://d-nb.info/gnd/',\n",
       "       'valueURI': 'http://d-nb.info/gnd/121304037X'},\n",
       "      'mods_namePart': {'_text': 'Krjukov, A.'},\n",
       "      'mods_role': [{'mods_roleTerm': {'_text': 'Autor',\n",
       "         '_attrib': {'type': 'text'}}},\n",
       "       {'mods_roleTerm': {'_text': 'aut',\n",
       "         '_attrib': {'authority': 'marcrelator', 'type': 'code'}}}]},\n",
       "     {'_attrib': {'type': 'corporate',\n",
       "       'authority': 'gnd',\n",
       "       'authorityURI': 'http://d-nb.info/gnd/',\n",
       "       'valueURI': 'http://d-nb.info/gnd/1211012999'},\n",
       "      'mods_namePart': {'_text': 'Bratʹja Sapožnikovy'},\n",
       "      'mods_role': [{'mods_roleTerm': {'_text': 'Mitwirkender',\n",
       "         '_attrib': {'type': 'text'}}},\n",
       "       {'mods_roleTerm': {'_text': 'aut',\n",
       "         '_attrib': {'authority': 'marcrelator', 'type': 'code'}}}]},\n",
       "     {'_attrib': {'type': 'corporate',\n",
       "       'authority': 'gnd',\n",
       "       'authorityURI': 'http://d-nb.info/gnd/',\n",
       "       'valueURI': 'http://d-nb.info/gnd/1211012999'},\n",
       "      'mods_namePart': {'_text': 'Bratʹja Sapožnikovy'},\n",
       "      'mods_role': [{'mods_roleTerm': {'_text': 'Adressat',\n",
       "         '_attrib': {'type': 'text'}}},\n",
       "       {'mods_roleTerm': {'_text': 'rcp',\n",
       "         '_attrib': {'authority': 'marcrelator', 'type': 'code'}}}]}],\n",
       "    'mods_typeOfResource': {'_text': 'text', '_attrib': {'manuscript': 'yes'}},\n",
       "    'mods_genre': [{'_text': 'letter', '_attrib': {'authority': 'marcgt'}},\n",
       "     {'_text': 'Autograph', '_attrib': {'authority': 'marcgt'}}],\n",
       "    'mods_originInfo': {'mods_place': [{'mods_placeTerm': {'_text': 'ru',\n",
       "        '_attrib': {'type': 'code', 'authority': 'marccountry'}}},\n",
       "      {'mods_placeTerm': {'_text': 'Sankt Petersburg',\n",
       "        '_attrib': {'type': 'text'}}},\n",
       "      {'mods_placeTerm': {'_text': 'Wolsk', '_attrib': {'type': 'text'}}}],\n",
       "     'mods_dateIssued': {'_text': '1838',\n",
       "      '_attrib': {'encoding': 'w3cdtf', 'point': 'start', 'keyDate': 'yes'}},\n",
       "     'mods_dateCreated': [{'_text': '02.10.1838 (jul.); 14.11.1838 (jul.)'},\n",
       "      {'_text': '1838', '_attrib': {'encoding': 'w3cdtf'}}],\n",
       "     'mods_issuance': {'_text': 'single unit'}},\n",
       "    'mods_language': {'mods_languageTerm': {'_text': 'rus',\n",
       "      '_attrib': {'authority': 'iso639-2b', 'type': 'code'}}},\n",
       "    'mods_physicalDescription': {'mods_form': {'_text': 'print',\n",
       "      '_attrib': {'authority': 'marcform'}},\n",
       "     'mods_extent': {'_text': '1 Blatt, 2 Briefe ; 250 x 200 mm'},\n",
       "     'mods_note': {'_text': 'Dokument=Item=Pièce',\n",
       "      '_attrib': {'type': 'arrangement'}}},\n",
       "    'mods_abstract': {'_text': 'Der Schuldschein enthält die Wechselbestätigung von Karl Christoph von Lieven (1767-1844) für die, von den «Gebrüder Saposchnikow» am 02.10.1838 (jul.) im Kontor Sankt Petersburg ausgeliehene Summe, sowie die Bestätigung der Rückzahlung der vollen Summe an die «Gebrüder Saposchnikow» am 14.11.1838 (jul.), unterschrieben von A. Krjukov im Kontor in Wolsk'},\n",
       "    'mods_note': [{'_text': 'Karl Christoph von Lieven ; A. Krjukov',\n",
       "      '_attrib': {'type': 'statement of responsibility', 'altRepGroup': '00'}},\n",
       "     {'_text': 'Mit rotem Lacksiegel'},\n",
       "     {'_text': 'Russisch', '_attrib': {'type': 'language'}},\n",
       "     {'_text': 'Verzeichnung=Description=Inventaire HAN-Katalogisierungsregeln',\n",
       "      '_attrib': {'type': 'action'}}],\n",
       "    'mods_subject': [{'mods_hierarchicalGeographic': {'_attrib': {'authority': 'gnd',\n",
       "        'authorityURI': 'http://d-nb.info/gnd/',\n",
       "        'valueURI': 'http://d-nb.info/gnd/4267026-3'},\n",
       "       'mods_city': {'_text': 'Sankt Petersburg'}}},\n",
       "     {'mods_hierarchicalGeographic': {'_attrib': {'authority': 'gnd',\n",
       "        'authorityURI': 'http://d-nb.info/gnd/',\n",
       "        'valueURI': 'http://d-nb.info/gnd/4273009-0'},\n",
       "       'mods_city': {'_text': 'Wolsk'}}}],\n",
       "    'mods_identifier': {'_text': '10.7891/e-manuscripta-99324',\n",
       "     '_attrib': {'type': 'doi'}},\n",
       "    'mods_location': {'mods_physicalLocation': {'_text': 'Bern UB Schweizerische Osteuropabibliothek Rossica Europeana'},\n",
       "     'mods_shelfLocator': {'_text': 'SOB RoEU ag 8'},\n",
       "     'mods_holdingSimple': {'mods_copyInformation': {'mods_itemIdentifier': {'_text': 'SOB RoEU ag 8',\n",
       "        '_attrib': {'type': 'copy number'}}}}},\n",
       "    'mods_accessCondition': {'_text': 'pdm',\n",
       "     '_attrib': {'type': 'use and reproduction',\n",
       "      'xlink_href': 'https://creativecommons.org/publicdomain/mark/1.0',\n",
       "      'displayLabel': 'Public Domain Mark'}},\n",
       "    'mods_extension': {'vl_originInfo': {'_attrib': {'displayLabel': 'dc'},\n",
       "      'mods_dateCreated': {'_text': '1838',\n",
       "       '_attrib': {'encoding': 'w3cdtf', 'point': 'start'}}},\n",
       "     '{http://visuallibrary.net/vlz/1.0/}info': {'_attrib': {'version': '2'}}},\n",
       "    'mods_recordInfo': {'mods_recordCreationDate': {'_text': '200528',\n",
       "      '_attrib': {'encoding': 'marc'}},\n",
       "     'mods_recordChangeDate': {'_text': '20200903162400.0',\n",
       "      '_attrib': {'encoding': 'iso8601'}},\n",
       "     'mods_recordOrigin': {'_text': 'Converted from MARCXML to MODS version 3.6 using MARC21slim2MODS3-6.xsl\\n\\t\\t\\t\\t(Revision 1.119 2018/06/21)'},\n",
       "     'mods_recordIdentifier': {'_text': '99116998858205511',\n",
       "      '_attrib': {'source': 'bes'}}}}}},\n",
       " {'header': {'identifier': {'_text': 'oai:www.e-manuscripta.ch:2872687'},\n",
       "   'datestamp': {'_text': '2020-10-26T13:18:54Z'},\n",
       "   'setSpec': [{'_text': 'bes'}, {'_text': 'document'}]},\n",
       "  'metadata': {'{http://www.loc.gov/mods/v3}mods': {'_attrib': {'version': '3.6',\n",
       "     'xsi_schemaLocation': 'http://www.loc.gov/mods/v3 http://www.loc.gov/standards/mods/v3/mods-3-6.xsd'},\n",
       "    'mods_titleInfo': {'mods_title': {'_text': 'Brief an [Anne Clarke]'}},\n",
       "    'mods_name': {'_attrib': {'type': 'personal',\n",
       "      'usage': 'primary',\n",
       "      'authority': 'gnd',\n",
       "      'authorityURI': 'http://d-nb.info/gnd/',\n",
       "      'valueURI': 'http://d-nb.info/gnd/117689343'},\n",
       "     'mods_namePart': [{'_text': 'Clarke, Edward Daniel'},\n",
       "      {'_text': '1769-1822', '_attrib': {'type': 'date'}}],\n",
       "     'mods_role': [{'mods_roleTerm': {'_text': 'Autor',\n",
       "        '_attrib': {'type': 'text'}}},\n",
       "      {'mods_roleTerm': {'_text': 'aut',\n",
       "        '_attrib': {'authority': 'marcrelator', 'type': 'code'}}}]},\n",
       "    'mods_typeOfResource': {'_text': 'text', '_attrib': {'manuscript': 'yes'}},\n",
       "    'mods_genre': [{'_text': 'letter', '_attrib': {'authority': 'marcgt'}},\n",
       "     {'_text': 'Autograph', '_attrib': {'authority': 'marcgt'}}],\n",
       "    'mods_originInfo': {'mods_place': [{'mods_placeTerm': {'_text': 'xxk',\n",
       "        '_attrib': {'type': 'code', 'authority': 'marccountry'}}},\n",
       "      {'mods_placeTerm': {'_text': 'Taganrok on the Sea of Azoff',\n",
       "        '_attrib': {'type': 'text'}}}],\n",
       "     'mods_dateIssued': {'_text': '[1800.06.31-1800.07.01]',\n",
       "      '_attrib': {'point': 'start'}},\n",
       "     'mods_dateCreated': [{'_text': '[31.(sic) Juni oder 01. Juli 1800]'},\n",
       "      {'_text': '1800', '_attrib': {'encoding': 'w3cdtf', 'keyDate': 'yes'}}],\n",
       "     'mods_issuance': {'_text': 'single unit'}},\n",
       "    'mods_language': {'mods_languageTerm': {'_text': 'eng',\n",
       "      '_attrib': {'authority': 'iso639-2b', 'type': 'code'}}},\n",
       "    'mods_physicalDescription': {'mods_form': {'_text': 'print',\n",
       "      '_attrib': {'authority': 'marcform'}},\n",
       "     'mods_extent': {'_text': '4 Blätter : Illustration, Anschrift, Stempel ; 204 x 320 mm'},\n",
       "     'mods_note': {'_text': 'Dokument=Item=Pièce',\n",
       "      '_attrib': {'type': 'arrangement'}}},\n",
       "    'mods_abstract': [{'_text': 'E. D. Clarke reiste zwischen 1799 und 1800 als Tutor von John Marten Cripps auf einer Grand Tour u.a. durch das Russische Reich, wo sie sammelnd und wissenschaftlich forschend tätig waren. In diesem Brief an seine Mutter erzählt Clarke von den verschiedenen Völkern rund um das Asowsche Meer, insbesondere von den Kalmücken und deren Sitten. Clarkes weitere Reisepläne sahen vor, die Krim südlich zu umfahren und schliesslich Ende August oder Anfang September 1800 in Konstantinopel anzulegen'},\n",
       "     {'_text': 'Auf dem zweiten Blatt befindet sich eine Zeichnung eines sitzenden Kalmücken mit Zöpfen, im Hintergrund ein Kamel mit einem menschlichen Begleiter, im Vordergrund zwei Jurten (aus der Hand des Verfassers). Handschriftliche Notiz: \"Here he gives a sketch of Calmuc\" in anderer Handschrift, möglicherweise von William Otter. Auf dem vierten Blatt befindet sich die Anschrift und Poststempel: 20. Aug. 180[0]'}],\n",
       "    'mods_note': [{'_text': 'von Edward Daniel Clarke',\n",
       "      '_attrib': {'type': 'statement of responsibility', 'altRepGroup': '00'}},\n",
       "     {'_text': 'Beim Adressaten handelt es sich um E.D. Clarkes Mutter, Anne Clarke (geborene Grenfield). Die Adresse lautet: Mrs Clarke, Uckfield, Sussex, England'},\n",
       "     {'_text': 'Verzeichnung=Description=Inventaire HAN-Katalogisierungsregeln',\n",
       "      '_attrib': {'type': 'action'}}],\n",
       "    'mods_subject': {'mods_hierarchicalGeographic': {'_attrib': {'authority': 'gnd',\n",
       "       'authorityURI': 'http://d-nb.info/gnd/',\n",
       "       'valueURI': 'http://d-nb.info/gnd/4434781-9'},\n",
       "      'mods_city': {'_text': 'Taganrog'}}},\n",
       "    'mods_relatedItem': {'_attrib': {'type': 'isReferencedBy'},\n",
       "     'mods_titleInfo': {'mods_title': {'_text': 'Fast vollständig eröffentlicht in: Otter, William: The Life and Remains of Edward Daniel Clarke, [London] 1824, S. 420-424'}}},\n",
       "    'mods_identifier': {'_text': '10.7891/e-manuscripta-99323',\n",
       "     '_attrib': {'type': 'doi'}},\n",
       "    'mods_location': {'mods_physicalLocation': {'_text': 'Bern UB Schweizerische Osteuropabibliothek Rossica Europeana'},\n",
       "     'mods_shelfLocator': {'_text': 'SOB RoEU ag 7'},\n",
       "     'mods_holdingSimple': {'mods_copyInformation': {'mods_itemIdentifier': {'_text': 'SOB RoEU ag 7',\n",
       "        '_attrib': {'type': 'copy number'}}}}},\n",
       "    'mods_accessCondition': {'_text': 'pdm',\n",
       "     '_attrib': {'type': 'use and reproduction',\n",
       "      'xlink_href': 'https://creativecommons.org/publicdomain/mark/1.0',\n",
       "      'displayLabel': 'Public Domain Mark'}},\n",
       "    'mods_extension': {'vl_originInfo': {'_attrib': {'displayLabel': 'dc'},\n",
       "      'mods_dateCreated': {'_text': '1800',\n",
       "       '_attrib': {'encoding': 'w3cdtf', 'point': 'start'}}},\n",
       "     '{http://visuallibrary.net/vlz/1.0/}info': {'_attrib': {'version': '2'}}},\n",
       "    'mods_recordInfo': {'mods_recordCreationDate': {'_text': '200514',\n",
       "      '_attrib': {'encoding': 'marc'}},\n",
       "     'mods_recordChangeDate': {'_text': '20200903104200.0',\n",
       "      '_attrib': {'encoding': 'iso8601'}},\n",
       "     'mods_recordOrigin': {'_text': 'Converted from MARCXML to MODS version 3.6 using MARC21slim2MODS3-6.xsl\\n\\t\\t\\t\\t(Revision 1.119 2018/06/21)'},\n",
       "     'mods_recordIdentifier': {'_text': '99116998857105511',\n",
       "      '_attrib': {'source': 'bes'}}}}}},\n",
       " {'header': {'identifier': {'_text': 'oai:www.e-manuscripta.ch:2872658'},\n",
       "   'datestamp': {'_text': '2020-10-26T13:24:03Z'},\n",
       "   'setSpec': [{'_text': 'bes'}, {'_text': 'document'}]},\n",
       "  'metadata': {'{http://www.loc.gov/mods/v3}mods': {'_attrib': {'version': '3.6',\n",
       "     'xsi_schemaLocation': 'http://www.loc.gov/mods/v3 http://www.loc.gov/standards/mods/v3/mods-3-6.xsd'},\n",
       "    'mods_titleInfo': {'mods_title': {'_text': 'Brief an Gosudarʺ moj [Ivan Andreevič] FonVissin'}},\n",
       "    'mods_name': [{'_attrib': {'type': 'personal',\n",
       "       'usage': 'primary',\n",
       "       'authority': 'gnd',\n",
       "       'authorityURI': 'http://d-nb.info/gnd/',\n",
       "       'valueURI': 'http://d-nb.info/gnd/1212895894'},\n",
       "      'mods_namePart': [{'_text': 'Ṥuvalov, Petr Ivanovič'},\n",
       "       {'_text': '1711-1762', '_attrib': {'type': 'date'}}],\n",
       "      'mods_role': [{'mods_roleTerm': {'_text': 'Autor',\n",
       "         '_attrib': {'type': 'text'}}},\n",
       "       {'mods_roleTerm': {'_text': 'aut',\n",
       "         '_attrib': {'authority': 'marcrelator', 'type': 'code'}}}]},\n",
       "     {'_attrib': {'type': 'personal',\n",
       "       'authority': 'gnd',\n",
       "       'authorityURI': 'http://d-nb.info/gnd/',\n",
       "       'valueURI': 'http://d-nb.info/gnd/1212895509'},\n",
       "      'mods_namePart': [{'_text': 'Fonvizin, Ivan Andreevič'},\n",
       "       {'_text': '1705-1792', '_attrib': {'type': 'date'}}],\n",
       "      'mods_role': [{'mods_roleTerm': {'_text': 'Adressat',\n",
       "         '_attrib': {'type': 'text'}}},\n",
       "       {'mods_roleTerm': {'_text': 'rcp',\n",
       "         '_attrib': {'authority': 'marcrelator', 'type': 'code'}}}]}],\n",
       "    'mods_typeOfResource': {'_text': 'text', '_attrib': {'manuscript': 'yes'}},\n",
       "    'mods_genre': [{'_text': 'letter', '_attrib': {'authority': 'marcgt'}},\n",
       "     {'_text': 'Autograph', '_attrib': {'authority': 'marcgt'}}],\n",
       "    'mods_originInfo': {'mods_place': [{'mods_placeTerm': {'_text': 'ru',\n",
       "        '_attrib': {'type': 'code', 'authority': 'marccountry'}}},\n",
       "      {'mods_placeTerm': {'_text': 'Sankt Petersburg',\n",
       "        '_attrib': {'type': 'text'}}}],\n",
       "     'mods_dateIssued': {'_text': '1758.05.25', '_attrib': {'point': 'start'}},\n",
       "     'mods_dateCreated': [{'_text': '14. Mai 1758 (jul.)'},\n",
       "      {'_text': '1758', '_attrib': {'encoding': 'w3cdtf', 'keyDate': 'yes'}}],\n",
       "     'mods_issuance': {'_text': 'single unit'}},\n",
       "    'mods_language': {'mods_languageTerm': {'_text': 'rus',\n",
       "      '_attrib': {'authority': 'iso639-2b', 'type': 'code'}}},\n",
       "    'mods_physicalDescription': {'mods_form': {'_text': 'print',\n",
       "      '_attrib': {'authority': 'marcform'}},\n",
       "     'mods_extent': {'_text': '1 Blatt ; 205 x 284 mm + Typoskript, Übersetzung'},\n",
       "     'mods_note': {'_text': 'Dokument=Item=Pièce',\n",
       "      '_attrib': {'type': 'arrangement'}}},\n",
       "    'mods_tableOfContents': {'_text': 'Der Verfasser, Graf Petr Ivanovič Ṥuvalov (1711-1762), damals der Leiter des Generalkanzleramts der Hauptartillerie und Festung [Kanceljarija glavnoj artillerii i fortifikacii], informiert Ivan Andreevič Fonvizin (nach damalige Transkription: FonVissin) (1705-1792), das dieser seines vorzüglichen Kommandos wegen im Kampf gegen den Feind durch die Kaiserliche Majestät zum Artillerie-Major befördert werde'},\n",
       "    'mods_note': [{'_text': 'von Graf [Petr Ivanovič] Ṥuvalov',\n",
       "      '_attrib': {'type': 'statement of responsibility', 'altRepGroup': '00'}},\n",
       "     {'_text': 'Unterschrift des Autors vorhanden, aber unleserlich'},\n",
       "     {'_text': 'Russisch', '_attrib': {'type': 'language'}},\n",
       "     {'_text': 'Verzeichnung=Description=Inventaire HAN-Katalogisierungsregeln',\n",
       "      '_attrib': {'type': 'action'}},\n",
       "     {'_text': 'Dem Brief liegt ein Typoskript mit einer Übersetzung ins Deutsche bei (Übersetzer unbekannt, ca. Mitte 20. Jh.)'}],\n",
       "    'mods_subject': {'mods_hierarchicalGeographic': {'_attrib': {'authority': 'gnd',\n",
       "       'authorityURI': 'http://d-nb.info/gnd/',\n",
       "       'valueURI': 'http://d-nb.info/gnd/4267026-3'},\n",
       "      'mods_city': {'_text': 'Sankt Petersburg'}}},\n",
       "    'mods_identifier': {'_text': '10.7891/e-manuscripta-99320',\n",
       "     '_attrib': {'type': 'doi'}},\n",
       "    'mods_location': {'mods_physicalLocation': {'_text': 'Bern UB Schweizerische Osteuropabibliothek Rossica Europeana'},\n",
       "     'mods_shelfLocator': {'_text': 'SOB RoEU ag 3'},\n",
       "     'mods_holdingSimple': {'mods_copyInformation': {'mods_itemIdentifier': {'_text': 'SOB RoEU ag 3',\n",
       "        '_attrib': {'type': 'copy number'}}}}},\n",
       "    'mods_accessCondition': {'_text': 'pdm',\n",
       "     '_attrib': {'type': 'use and reproduction',\n",
       "      'xlink_href': 'https://creativecommons.org/publicdomain/mark/1.0',\n",
       "      'displayLabel': 'Public Domain Mark'}},\n",
       "    'mods_extension': {'vl_originInfo': {'_attrib': {'displayLabel': 'dc'},\n",
       "      'mods_dateCreated': {'_text': '1758',\n",
       "       '_attrib': {'encoding': 'w3cdtf', 'point': 'start'}}},\n",
       "     '{http://visuallibrary.net/vlz/1.0/}info': {'_attrib': {'version': '2'}}},\n",
       "    'mods_recordInfo': {'mods_recordCreationDate': {'_text': '200507',\n",
       "      '_attrib': {'encoding': 'marc'}},\n",
       "     'mods_recordChangeDate': {'_text': '20200903094900.0',\n",
       "      '_attrib': {'encoding': 'iso8601'}},\n",
       "     'mods_recordOrigin': {'_text': 'Converted from MARCXML to MODS version 3.6 using MARC21slim2MODS3-6.xsl\\n\\t\\t\\t\\t(Revision 1.119 2018/06/21)'},\n",
       "     'mods_recordIdentifier': {'_text': '99116998857905511',\n",
       "      '_attrib': {'source': 'bes'}}}}}},\n",
       " {'header': {'identifier': {'_text': 'oai:www.e-manuscripta.ch:2872650'},\n",
       "   'datestamp': {'_text': '2020-10-26T13:24:49Z'},\n",
       "   'setSpec': [{'_text': 'bes'}, {'_text': 'document'}]},\n",
       "  'metadata': {'{http://www.loc.gov/mods/v3}mods': {'_attrib': {'version': '3.6',\n",
       "     'xsi_schemaLocation': 'http://www.loc.gov/mods/v3 http://www.loc.gov/standards/mods/v3/mods-3-6.xsd'},\n",
       "    'mods_titleInfo': {'mods_title': {'_text': 'Brief an Ivanʺ Chrestjanovičʺ [Lieven]'}},\n",
       "    'mods_name': [{'_attrib': {'type': 'personal',\n",
       "       'usage': 'primary',\n",
       "       'authority': 'gnd',\n",
       "       'authorityURI': 'http://d-nb.info/gnd/',\n",
       "       'valueURI': 'http://d-nb.info/gnd/1173661336'},\n",
       "      'mods_namePart': [{'_text': 'Guillemot de Villebois, Alexander'},\n",
       "       {'_text': '1717-1781', '_attrib': {'type': 'date'}}],\n",
       "      'mods_role': [{'mods_roleTerm': {'_text': 'Autor',\n",
       "         '_attrib': {'type': 'text'}}},\n",
       "       {'mods_roleTerm': {'_text': 'aut',\n",
       "         '_attrib': {'authority': 'marcrelator', 'type': 'code'}}}]},\n",
       "     {'_attrib': {'type': 'personal',\n",
       "       'authority': 'gnd',\n",
       "       'authorityURI': 'http://d-nb.info/gnd/',\n",
       "       'valueURI': 'http://d-nb.info/gnd/136709923'},\n",
       "      'mods_namePart': [{'_text': 'Lieven, Otto von'},\n",
       "       {'_text': '1726-1781', '_attrib': {'type': 'date'}}],\n",
       "      'mods_role': [{'mods_roleTerm': {'_text': 'Adressat',\n",
       "         '_attrib': {'type': 'text'}}},\n",
       "       {'mods_roleTerm': {'_text': 'rcp',\n",
       "         '_attrib': {'authority': 'marcrelator', 'type': 'code'}}}]}],\n",
       "    'mods_typeOfResource': {'_text': 'text', '_attrib': {'manuscript': 'yes'}},\n",
       "    'mods_genre': [{'_text': 'letter', '_attrib': {'authority': 'marcgt'}},\n",
       "     {'_text': 'Autograph', '_attrib': {'authority': 'marcgt'}}],\n",
       "    'mods_originInfo': {'mods_place': [{'mods_placeTerm': {'_text': 'ru',\n",
       "        '_attrib': {'type': 'code', 'authority': 'marccountry'}}},\n",
       "      {'mods_placeTerm': {'_text': 'Moskau', '_attrib': {'type': 'text'}}}],\n",
       "     'mods_dateIssued': {'_text': '1763.05.27', '_attrib': {'point': 'start'}},\n",
       "     'mods_dateCreated': [{'_text': '16. Mai 1763 (jul.)'},\n",
       "      {'_text': '1763', '_attrib': {'encoding': 'w3cdtf', 'keyDate': 'yes'}}],\n",
       "     'mods_issuance': {'_text': 'single unit'}},\n",
       "    'mods_language': {'mods_languageTerm': {'_text': 'rus',\n",
       "      '_attrib': {'authority': 'iso639-2b', 'type': 'code'}}},\n",
       "    'mods_physicalDescription': {'mods_form': {'_text': 'print',\n",
       "      '_attrib': {'authority': 'marcform'}},\n",
       "     'mods_extent': {'_text': '1 Blatt ; 204 x 315 mm + Typoskript, Übersetzung'},\n",
       "     'mods_note': {'_text': 'Dokument=Item=Pièce',\n",
       "      '_attrib': {'type': 'arrangement'}}},\n",
       "    'mods_tableOfContents': {'_text': 'Aleksandr Nikitič Vilbo gratuliert Ivan Chrestjanovič Benkendorf zur Beförderung zum Artillerie-Oberst'},\n",
       "    'mods_note': [{'_text': 'von [A.] Vilbo',\n",
       "      '_attrib': {'type': 'statement of responsibility', 'altRepGroup': '00'}},\n",
       "     {'_text': 'Der Adressat kann nicht ermittelt werden'},\n",
       "     {'_text': 'Russisch', '_attrib': {'type': 'language'}},\n",
       "     {'_text': 'Verzeichnung=Description=Inventaire HAN-Katalogisierungsregeln',\n",
       "      '_attrib': {'type': 'action'}},\n",
       "     {'_text': 'Dem Brief liegt ein Typoskript mit einer Übersetzung ins Deutsche bei (Übersetzer unbekannt, ca. Mitte 20. Jh.)'}],\n",
       "    'mods_subject': {'mods_hierarchicalGeographic': {'_attrib': {'authority': 'gnd',\n",
       "       'authorityURI': 'http://d-nb.info/gnd/',\n",
       "       'valueURI': 'http://d-nb.info/gnd/4074987-3'},\n",
       "      'mods_city': {'_text': 'Moskau'}}},\n",
       "    'mods_identifier': {'_text': '10.7891/e-manuscripta-99319',\n",
       "     '_attrib': {'type': 'doi'}},\n",
       "    'mods_location': {'mods_physicalLocation': {'_text': 'Bern UB Schweizerische Osteuropabibliothek Rossica Europeana'},\n",
       "     'mods_shelfLocator': {'_text': 'SOB RoEU ag 4'},\n",
       "     'mods_holdingSimple': {'mods_copyInformation': {'mods_itemIdentifier': {'_text': 'SOB RoEU ag 4',\n",
       "        '_attrib': {'type': 'copy number'}}}}},\n",
       "    'mods_accessCondition': {'_text': 'pdm',\n",
       "     '_attrib': {'type': 'use and reproduction',\n",
       "      'xlink_href': 'https://creativecommons.org/publicdomain/mark/1.0',\n",
       "      'displayLabel': 'Public Domain Mark'}},\n",
       "    'mods_extension': {'vl_originInfo': {'_attrib': {'displayLabel': 'dc'},\n",
       "      'mods_dateCreated': {'_text': '1763',\n",
       "       '_attrib': {'encoding': 'w3cdtf', 'point': 'start'}}},\n",
       "     '{http://visuallibrary.net/vlz/1.0/}info': {'_attrib': {'version': '2'}}},\n",
       "    'mods_recordInfo': {'mods_recordCreationDate': {'_text': '200507',\n",
       "      '_attrib': {'encoding': 'marc'}},\n",
       "     'mods_recordChangeDate': {'_text': '20200901115200.0',\n",
       "      '_attrib': {'encoding': 'iso8601'}},\n",
       "     'mods_recordOrigin': {'_text': 'Converted from MARCXML to MODS version 3.6 using MARC21slim2MODS3-6.xsl\\n\\t\\t\\t\\t(Revision 1.119 2018/06/21)'},\n",
       "     'mods_recordIdentifier': {'_text': '99116998855505511',\n",
       "      '_attrib': {'source': 'bes'}}}}}},\n",
       " {'header': {'identifier': {'_text': 'oai:www.e-manuscripta.ch:2872703'},\n",
       "   'datestamp': {'_text': '2020-10-26T13:28:39Z'},\n",
       "   'setSpec': [{'_text': 'bes'}, {'_text': 'document'}]},\n",
       "  'metadata': {'{http://www.loc.gov/mods/v3}mods': {'_attrib': {'version': '3.6',\n",
       "     'xsi_schemaLocation': 'http://www.loc.gov/mods/v3 http://www.loc.gov/standards/mods/v3/mods-3-6.xsd'},\n",
       "    'mods_titleInfo': {'mods_title': {'_text': 'Kaufurkunde von Andrej Michajlovičʺ Tjapkinʺ'}},\n",
       "    'mods_name': [{'_attrib': {'type': 'personal', 'usage': 'primary'},\n",
       "      'mods_namePart': {'_text': 'Popov, Glebʺ'},\n",
       "      'mods_role': [{'mods_roleTerm': {'_text': 'Autor',\n",
       "         '_attrib': {'type': 'text'}}},\n",
       "       {'mods_roleTerm': {'_text': 'aut',\n",
       "         '_attrib': {'authority': 'marcrelator', 'type': 'code'}}}]},\n",
       "     {'_attrib': {'type': 'personal',\n",
       "       'authority': 'gnd',\n",
       "       'authorityURI': 'http://d-nb.info/gnd/',\n",
       "       'valueURI': 'http://d-nb.info/gnd/1213117070'},\n",
       "      'mods_namePart': {'_text': 'Tjapkin, Andrej Michajlovič'},\n",
       "      'mods_role': [{'mods_roleTerm': {'_text': 'Auftraggeber',\n",
       "         '_attrib': {'type': 'text'}}},\n",
       "       {'mods_roleTerm': {'_text': 'aut',\n",
       "         '_attrib': {'authority': 'marcrelator', 'type': 'code'}}}]},\n",
       "     {'_attrib': {'type': 'corporate',\n",
       "       'authority': 'gnd',\n",
       "       'authorityURI': 'http://d-nb.info/gnd/',\n",
       "       'valueURI': 'http://d-nb.info/gnd/1213119634'},\n",
       "      'mods_namePart': [{'_text': 'Kontora krepostnych del'},\n",
       "       {'_text': 'Sankt Petersburg'}],\n",
       "      'mods_role': [{'mods_roleTerm': {'_text': 'Mitwirkender',\n",
       "         '_attrib': {'type': 'text'}}},\n",
       "       {'mods_roleTerm': {'_text': 'aut',\n",
       "         '_attrib': {'authority': 'marcrelator', 'type': 'code'}}}]}],\n",
       "    'mods_typeOfResource': {'_text': 'text', '_attrib': {'manuscript': 'yes'}},\n",
       "    'mods_genre': [{'_text': 'letter', '_attrib': {'authority': 'marcgt'}},\n",
       "     {'_text': 'Autograph', '_attrib': {'authority': 'marcgt'}}],\n",
       "    'mods_originInfo': {'mods_place': [{'mods_placeTerm': {'_text': 'ru',\n",
       "        '_attrib': {'type': 'code', 'authority': 'marccountry'}}},\n",
       "      {'mods_placeTerm': {'_text': 'Sankt Petersburg',\n",
       "        '_attrib': {'type': 'text'}}}],\n",
       "     'mods_dateIssued': {'_text': '1743.03.30', '_attrib': {'point': 'start'}},\n",
       "     'mods_dateCreated': [{'_text': '19.03.1743 (jul.)'},\n",
       "      {'_text': '1743', '_attrib': {'encoding': 'w3cdtf', 'keyDate': 'yes'}}],\n",
       "     'mods_issuance': {'_text': 'single unit'}},\n",
       "    'mods_language': {'mods_languageTerm': {'_text': 'rus',\n",
       "      '_attrib': {'authority': 'iso639-2b', 'type': 'code'}}},\n",
       "    'mods_physicalDescription': {'mods_form': {'_text': 'print',\n",
       "      '_attrib': {'authority': 'marcform'}},\n",
       "     'mods_extent': {'_text': '4 Blätter ; 326 x 210 mm'},\n",
       "     'mods_note': {'_text': 'Dokument=Item=Pièce',\n",
       "      '_attrib': {'type': 'arrangement'}}},\n",
       "    'mods_tableOfContents': [{'_text': 'Am 19. Mai 1743 verkauft Sergeant Andrej Michajlovičʺ Tjapkinʺ einige Leibeigene an einen anderen Militär [Name unleserlich]. Die Kaufurkunde wurde in der staatlichen Kanzlei in Sankt Petersburg vom Beamten Glebʺ Popov erstellt'},\n",
       "     {'_text': 'Seite 1: Kaufvertrag mit dem Stempel rechts oben, Seite 2: Bestätigung des Kaufvertrages, Seite 3: Stempel rechts oben'}],\n",
       "    'mods_note': [{'_text': 'erstellt von Glebʺ Popov',\n",
       "      '_attrib': {'type': 'statement of responsibility', 'altRepGroup': '00'}},\n",
       "     {'_text': 'Stempel der Kaiserlichen Notariatskanzlei, in der Mitte ein Doppeladler und das Jahr 1729. Text im Stempel teilweise leserlich (\"pisatʹ kreposti vypiski i otkaznye dela\")'},\n",
       "     {'_text': 'Verzeichnung=Description=Inventaire HAN-Katalogisierungsregeln',\n",
       "      '_attrib': {'type': 'action'}}],\n",
       "    'mods_subject': {'mods_hierarchicalGeographic': {'_attrib': {'authority': 'gnd',\n",
       "       'authorityURI': 'http://d-nb.info/gnd/',\n",
       "       'valueURI': 'http://d-nb.info/gnd/4267026-3'},\n",
       "      'mods_city': {'_text': 'Sankt Petersburg'}}},\n",
       "    'mods_identifier': {'_text': '10.7891/e-manuscripta-99325',\n",
       "     '_attrib': {'type': 'doi'}},\n",
       "    'mods_location': {'mods_physicalLocation': {'_text': 'Bern UB Schweizerische Osteuropabibliothek Rossica Europeana'},\n",
       "     'mods_shelfLocator': {'_text': 'SOB RoEU ag 9'},\n",
       "     'mods_holdingSimple': {'mods_copyInformation': {'mods_itemIdentifier': {'_text': 'SOB RoEU ag 9',\n",
       "        '_attrib': {'type': 'copy number'}}}}},\n",
       "    'mods_accessCondition': {'_text': 'pdm',\n",
       "     '_attrib': {'type': 'use and reproduction',\n",
       "      'xlink_href': 'https://creativecommons.org/publicdomain/mark/1.0',\n",
       "      'displayLabel': 'Public Domain Mark'}},\n",
       "    'mods_extension': {'vl_originInfo': {'_attrib': {'displayLabel': 'dc'},\n",
       "      'mods_dateCreated': {'_text': '1743',\n",
       "       '_attrib': {'encoding': 'w3cdtf', 'point': 'start'}}},\n",
       "     '{http://visuallibrary.net/vlz/1.0/}info': {'_attrib': {'version': '2'}}},\n",
       "    'mods_recordInfo': {'mods_recordCreationDate': {'_text': '200528',\n",
       "      '_attrib': {'encoding': 'marc'}},\n",
       "     'mods_recordChangeDate': {'_text': '20200903171600.0',\n",
       "      '_attrib': {'encoding': 'iso8601'}},\n",
       "     'mods_recordOrigin': {'_text': 'Converted from MARCXML to MODS version 3.6 using MARC21slim2MODS3-6.xsl\\n\\t\\t\\t\\t(Revision 1.119 2018/06/21)'},\n",
       "     'mods_recordIdentifier': {'_text': '99116998859505511',\n",
       "      '_attrib': {'source': 'bes'}}}}}},\n",
       " {'header': {'identifier': {'_text': 'oai:www.e-manuscripta.ch:1560587'},\n",
       "   'datestamp': {'_text': '2017-03-08T13:12:46Z'},\n",
       "   'setSpec': [{'_text': 'bes'},\n",
       "    {'_text': 'document'},\n",
       "    {'_text': 'all'},\n",
       "    {'_text': 'bilder'}]},\n",
       "  'metadata': {'{http://www.loc.gov/mods/v3}mods': {'_attrib': {'version': '3.6',\n",
       "     'xsi_schemaLocation': 'http://www.loc.gov/mods/v3 http://www.loc.gov/standards/mods/v3/mods-3-6.xsd'},\n",
       "    'mods_titleInfo': {'mods_title': {'_text': 'Blots created by H. Rorschach for possible use'}},\n",
       "    'mods_name': {'_attrib': {'type': 'personal',\n",
       "      'usage': 'primary',\n",
       "      'authority': 'gnd',\n",
       "      'authorityURI': 'http://d-nb.info/gnd/',\n",
       "      'valueURI': 'http://d-nb.info/gnd/11874965X'},\n",
       "     'mods_namePart': [{'_text': 'Rorschach, Hermann'},\n",
       "      {'_text': '1884-1922', '_attrib': {'type': 'date'}}],\n",
       "     'mods_role': [{'mods_roleTerm': {'_text': 'Autor',\n",
       "        '_attrib': {'type': 'text'}}},\n",
       "      {'mods_roleTerm': {'_text': 'aut',\n",
       "        '_attrib': {'authority': 'marcrelator', 'type': 'code'}}}]},\n",
       "    'mods_typeOfResource': {'_text': 'still image'},\n",
       "    'mods_genre': {'_text': 'picture', '_attrib': {'authority': 'marcgt'}},\n",
       "    'mods_originInfo': {'mods_place': {'mods_placeTerm': {'_text': 'sz',\n",
       "       '_attrib': {'type': 'code', 'authority': 'marccountry'}}},\n",
       "     'mods_dateIssued': [{'_text': '1917',\n",
       "       '_attrib': {'encoding': 'w3cdtf', 'point': 'start', 'keyDate': 'yes'}},\n",
       "      {'_text': '1918', '_attrib': {'encoding': 'w3cdtf', 'point': 'end'}},\n",
       "      {'_text': '[between 1917 and 1918]'},\n",
       "      {'_text': '1917',\n",
       "       '_attrib': {'encoding': 'w3cdtf',\n",
       "        'point': 'start',\n",
       "        'qualifier': 'questionable'}},\n",
       "      {'_text': '1918',\n",
       "       '_attrib': {'encoding': 'w3cdtf',\n",
       "        'point': 'end',\n",
       "        'qualifier': 'questionable'}}],\n",
       "     'mods_issuance': {'_text': 'single unit'}},\n",
       "    'mods_language': {'mods_languageTerm': {'_text': 'zxx',\n",
       "      '_attrib': {'authority': 'iso639-2b', 'type': 'code'}}},\n",
       "    'mods_physicalDescription': {'mods_form': [{'_text': 'Bildmaterial',\n",
       "       '_attrib': {'authority': 'gmd'}},\n",
       "      {'_text': 'electronic resource',\n",
       "       '_attrib': {'authority': 'marccategory'}},\n",
       "      {'_text': 'remote', '_attrib': {'authority': 'marcsmd'}}],\n",
       "     'mods_extent': {'_text': '59 blots'},\n",
       "     'mods_note': {'_text': 'Dossier=File',\n",
       "      '_attrib': {'type': 'arrangement'}}},\n",
       "    'mods_note': [{'_text': 'Digitale Kopien sind auf e-manuscripta zugänglich (siehe Link).',\n",
       "      '_attrib': {'type': 'reproduction'}},\n",
       "     {'_text': 'Digital copies are available on e-manuscripta (see link)',\n",
       "      '_attrib': {'type': 'reproduction'}},\n",
       "     {'_text': 'Some of the blots have been published as picture postcards by the International Rorschach Society',\n",
       "      '_attrib': {'type': 'publications'}},\n",
       "     {'_text': 'Verzeichnung=Description=Inventaire November 2004 recorded by Rita Signer',\n",
       "      '_attrib': {'type': 'action'}},\n",
       "     {'_text': 'Digitalisierung=Digitization=Numérisation TIFF 02.04.2017',\n",
       "      '_attrib': {'type': 'action'}}],\n",
       "    'mods_identifier': {'_text': '10.7891/e-manuscripta-48852',\n",
       "     '_attrib': {'type': 'doi'}},\n",
       "    'mods_location': [{'mods_physicalLocation': {'_text': 'Bern UB Medizingeschichte: Rorschach-Archiv Fonds Hermann Rorschach'},\n",
       "      'mods_shelfLocator': {'_text': 'Rorsch HR 3 : 3:1'},\n",
       "      'mods_holdingSimple': {'mods_copyInformation': {'mods_itemIdentifier': {'_text': 'Rorsch HR 3 : 3:1',\n",
       "         '_attrib': {'type': 'copy number'}}}}},\n",
       "     {'mods_url': {'_text': 'http://dx.doi.org/10.7891/e-manuscripta-48852',\n",
       "       '_attrib': {'displayLabel': 'electronic resource',\n",
       "        'usage': 'primary display',\n",
       "        'note': 'Digitalisat in e-manuscripta'}}}],\n",
       "    'mods_accessCondition': [{'_text': 'Die Originale stehen aus konservatorischen Gründen für die Benutzung nicht zur Verfügung.',\n",
       "      '_attrib': {'type': 'restriction on access'}},\n",
       "     {'_text': 'Due to conservational requirements access to the original documents is not possible.',\n",
       "      '_attrib': {'type': 'restriction on access'}},\n",
       "     {'_text': 'pdm',\n",
       "      '_attrib': {'type': 'use and reproduction',\n",
       "       'xlink_href': 'https://creativecommons.org/publicdomain/mark/1.0',\n",
       "       'displayLabel': 'Public Domain Mark'}}],\n",
       "    'mods_part': {'_attrib': {'type': 'host', 'order': '1'},\n",
       "     'mods_detail': {'mods_number': {'_text': '1'}}},\n",
       "    'mods_extension': {'vl_relatedItem': {'_attrib': {'type': 'inventory'},\n",
       "      'mods_titleInfo': {'mods_title': {'_text': \"Fonds Hermann Rorschach. Series 3, Scientific material. 3, Material related to Rorschach's test\"}},\n",
       "      'mods_recordInfo': {'mods_recordIdentifier': {'_text': '000054650',\n",
       "        '_attrib': {'source': 'bes'}}}},\n",
       "     'vl_originInfo': {'_attrib': {'displayLabel': 'dc'},\n",
       "      'mods_dateCreated': [{'_text': '1917',\n",
       "        '_attrib': {'encoding': 'w3cdtf', 'point': 'start'}},\n",
       "       {'_text': '1918', '_attrib': {'encoding': 'w3cdtf', 'point': 'end'}}]},\n",
       "     '{http://visuallibrary.net/vlz/1.0/}info': {'_attrib': {'version': '2'}}},\n",
       "    'mods_recordInfo': {'mods_recordCreationDate': {'_text': '020403',\n",
       "      '_attrib': {'encoding': 'marc'}},\n",
       "     'mods_recordChangeDate': {'_text': '20171213094900.0',\n",
       "      '_attrib': {'encoding': 'iso8601'}},\n",
       "     'mods_recordOrigin': {'_text': 'Converted from MARCXML to MODS version 3.6 using MARC21slim2MODS3-6.xsl\\n\\t\\t\\t\\t(Revision 1.119 2018/06/21)'},\n",
       "     'mods_recordIdentifier': {'_text': '99116998774705511',\n",
       "      '_attrib': {'source': 'bes'}}}}}},\n",
       " {'header': {'identifier': {'_text': 'oai:www.e-manuscripta.ch:2872679'},\n",
       "   'datestamp': {'_text': '2020-10-26T13:26:35Z'},\n",
       "   'setSpec': [{'_text': 'bes'}, {'_text': 'document'}]},\n",
       "  'metadata': {'{http://www.loc.gov/mods/v3}mods': {'_attrib': {'version': '3.6',\n",
       "     'xsi_schemaLocation': 'http://www.loc.gov/mods/v3 http://www.loc.gov/standards/mods/v3/mods-3-6.xsd'},\n",
       "    'mods_titleInfo': {'mods_title': {'_text': 'Brief an Marechal v[on] Broglie'}},\n",
       "    'mods_name': [{'_attrib': {'type': 'personal',\n",
       "       'usage': 'primary',\n",
       "       'authority': 'gnd',\n",
       "       'authorityURI': 'http://d-nb.info/gnd/',\n",
       "       'valueURI': 'http://d-nb.info/gnd/118560565'},\n",
       "      'mods_namePart': [{'_text': 'Katharina'},\n",
       "       {'_text': 'II., Russland, Zarin',\n",
       "        '_attrib': {'type': 'termsOfAddress'}},\n",
       "       {'_text': '1729-1796', '_attrib': {'type': 'date'}}],\n",
       "      'mods_role': [{'mods_roleTerm': {'_text': 'Autor',\n",
       "         '_attrib': {'type': 'text'}}},\n",
       "       {'mods_roleTerm': {'_text': 'aut',\n",
       "         '_attrib': {'authority': 'marcrelator', 'type': 'code'}}}]},\n",
       "     {'_attrib': {'type': 'personal',\n",
       "       'authority': 'gnd',\n",
       "       'authorityURI': 'http://d-nb.info/gnd/',\n",
       "       'valueURI': 'http://d-nb.info/gnd/116562722'},\n",
       "      'mods_namePart': [{'_text': 'Broglie, Victor François de'},\n",
       "       {'_text': '1718-1804', '_attrib': {'type': 'date'}}],\n",
       "      'mods_role': [{'mods_roleTerm': {'_text': 'Adressat',\n",
       "         '_attrib': {'type': 'text'}}},\n",
       "       {'mods_roleTerm': {'_text': 'rcp',\n",
       "         '_attrib': {'authority': 'marcrelator', 'type': 'code'}}}]}],\n",
       "    'mods_typeOfResource': {'_text': 'text', '_attrib': {'manuscript': 'yes'}},\n",
       "    'mods_genre': [{'_text': 'letter', '_attrib': {'authority': 'marcgt'}},\n",
       "     {'_text': 'Autograph', '_attrib': {'authority': 'marcgt'}}],\n",
       "    'mods_originInfo': {'mods_place': [{'mods_placeTerm': {'_text': 'ru',\n",
       "        '_attrib': {'type': 'code', 'authority': 'marccountry'}}},\n",
       "      {'mods_placeTerm': {'_text': 'Sankt Petersburg',\n",
       "        '_attrib': {'type': 'text'}}}],\n",
       "     'mods_dateIssued': {'_text': '1791.10.27', '_attrib': {'point': 'start'}},\n",
       "     'mods_dateCreated': [{'_text': '16. Oktober 1791 (jul.)'},\n",
       "      {'_text': '1791', '_attrib': {'encoding': 'w3cdtf', 'keyDate': 'yes'}}],\n",
       "     'mods_issuance': {'_text': 'single unit'}},\n",
       "    'mods_language': {'mods_languageTerm': {'_text': 'ger',\n",
       "      '_attrib': {'authority': 'iso639-2b', 'type': 'code'}}},\n",
       "    'mods_physicalDescription': {'mods_form': {'_text': 'print',\n",
       "      '_attrib': {'authority': 'marcform'}},\n",
       "     'mods_extent': {'_text': '2 Blätter ; 220 x 360 mm'},\n",
       "     'mods_note': {'_text': 'Dokument=Item=Pièce',\n",
       "      '_attrib': {'type': 'arrangement'}}},\n",
       "    'mods_note': [{'_text': 'von Catharina',\n",
       "      '_attrib': {'type': 'statement of responsibility', 'altRepGroup': '00'}},\n",
       "     {'_text': 'Victor François de Broglie war im Juli 1789 kurz einer der letzten Kriegsminister von Louis XVI. Im Zuge der Französischen Revolution floh Broglie ins Ausland, wo er späte eine aus emigrierten Adligen zusammengestellte gegenrevolutionäre Armee befehligte. Katharina lässt Broglie in ihrem Brief wissen, dass sie sich dafür einsetzen werde, den königstreuen französischen Adel darin zu unterstützen die Monarchie wiederherzustellen. Hierbei zieht sie auch Vergleiche zur englischen Königin Elisabeth, welche im achten Hugenottenkrieg den späteren französischen König Heinrich IV. gegen die katholische Ligue unterstütze'},\n",
       "     {'_text': 'Deutsch', '_attrib': {'type': 'language'}},\n",
       "     {'_text': 'Verzeichnung=Description=Inventaire HAN-Katalogisierungsregeln',\n",
       "      '_attrib': {'type': 'action'}}],\n",
       "    'mods_subject': {'mods_hierarchicalGeographic': {'_attrib': {'authority': 'gnd',\n",
       "       'authorityURI': 'http://d-nb.info/gnd/',\n",
       "       'valueURI': 'http://d-nb.info/gnd/4267026-3'},\n",
       "      'mods_city': {'_text': 'Sankt Petersburg'}}},\n",
       "    'mods_identifier': {'_text': '10.7891/e-manuscripta-99322',\n",
       "     '_attrib': {'type': 'doi'}},\n",
       "    'mods_location': {'mods_physicalLocation': {'_text': 'Bern UB Schweizerische Osteuropabibliothek Rossica Europeana'},\n",
       "     'mods_shelfLocator': {'_text': 'SOB RoEU ag 6'},\n",
       "     'mods_holdingSimple': {'mods_copyInformation': {'mods_itemIdentifier': {'_text': 'SOB RoEU ag 6',\n",
       "        '_attrib': {'type': 'copy number'}}}}},\n",
       "    'mods_accessCondition': {'_text': 'pdm',\n",
       "     '_attrib': {'type': 'use and reproduction',\n",
       "      'xlink_href': 'https://creativecommons.org/publicdomain/mark/1.0',\n",
       "      'displayLabel': 'Public Domain Mark'}},\n",
       "    'mods_extension': {'vl_originInfo': {'_attrib': {'displayLabel': 'dc'},\n",
       "      'mods_dateCreated': {'_text': '1791',\n",
       "       '_attrib': {'encoding': 'w3cdtf', 'point': 'start'}}},\n",
       "     '{http://visuallibrary.net/vlz/1.0/}info': {'_attrib': {'version': '2'}}},\n",
       "    'mods_recordInfo': {'mods_recordCreationDate': {'_text': '200507',\n",
       "      '_attrib': {'encoding': 'marc'}},\n",
       "     'mods_recordChangeDate': {'_text': '20200903103800.0',\n",
       "      '_attrib': {'encoding': 'iso8601'}},\n",
       "     'mods_recordOrigin': {'_text': 'Converted from MARCXML to MODS version 3.6 using MARC21slim2MODS3-6.xsl\\n\\t\\t\\t\\t(Revision 1.119 2018/06/21)'},\n",
       "     'mods_recordIdentifier': {'_text': '99116998856005511',\n",
       "      '_attrib': {'source': 'bes'}}}}}},\n",
       " {'header': {'identifier': {'_text': 'oai:www.e-manuscripta.ch:2872633'},\n",
       "   'datestamp': {'_text': '2020-10-26T13:20:50Z'},\n",
       "   'setSpec': [{'_text': 'bes'}, {'_text': 'document'}]},\n",
       "  'metadata': {'{http://www.loc.gov/mods/v3}mods': {'_attrib': {'version': '3.6',\n",
       "     'xsi_schemaLocation': 'http://www.loc.gov/mods/v3 http://www.loc.gov/standards/mods/v3/mods-3-6.xsd'},\n",
       "    'mods_titleInfo': {'mods_title': {'_text': 'Brief an Andrej Andreevičʺ Vinius'}},\n",
       "    'mods_name': [{'_attrib': {'type': 'personal',\n",
       "       'usage': 'primary',\n",
       "       'authority': 'gnd',\n",
       "       'authorityURI': 'http://d-nb.info/gnd/',\n",
       "       'valueURI': 'http://d-nb.info/gnd/118592955'},\n",
       "      'mods_namePart': [{'_text': 'Peter'},\n",
       "       {'_text': 'I., Russland, Zar', '_attrib': {'type': 'termsOfAddress'}},\n",
       "       {'_text': '1672-1725', '_attrib': {'type': 'date'}}],\n",
       "      'mods_role': [{'mods_roleTerm': {'_text': 'Autor',\n",
       "         '_attrib': {'type': 'text'}}},\n",
       "       {'mods_roleTerm': {'_text': 'aut',\n",
       "         '_attrib': {'authority': 'marcrelator', 'type': 'code'}}}]},\n",
       "     {'_attrib': {'type': 'personal',\n",
       "       'authority': 'gnd',\n",
       "       'authorityURI': 'http://d-nb.info/gnd/',\n",
       "       'valueURI': 'http://d-nb.info/gnd/13640278X'},\n",
       "      'mods_namePart': [{'_text': 'Vinius, Andrej A.'},\n",
       "       {'_text': '1641-1717', '_attrib': {'type': 'date'}}],\n",
       "      'mods_role': [{'mods_roleTerm': {'_text': 'Adressat',\n",
       "         '_attrib': {'type': 'text'}}},\n",
       "       {'mods_roleTerm': {'_text': 'rcp',\n",
       "         '_attrib': {'authority': 'marcrelator', 'type': 'code'}}}]}],\n",
       "    'mods_typeOfResource': {'_text': 'text', '_attrib': {'manuscript': 'yes'}},\n",
       "    'mods_genre': [{'_text': 'letter', '_attrib': {'authority': 'marcgt'}},\n",
       "     {'_text': 'Autograph', '_attrib': {'authority': 'marcgt'}}],\n",
       "    'mods_originInfo': {'mods_place': [{'mods_placeTerm': {'_text': 'xx',\n",
       "        '_attrib': {'type': 'code', 'authority': 'marccountry'}}},\n",
       "      {'mods_placeTerm': {'_text': '[Deutschland oder Niederlande]',\n",
       "        '_attrib': {'type': 'text'}}}],\n",
       "     'mods_dateIssued': {'_text': '[1697]', '_attrib': {'point': 'start'}},\n",
       "     'mods_dateCreated': [{'_text': '[Juni 1697 - Juli 1697]'},\n",
       "      {'_text': '1697', '_attrib': {'encoding': 'w3cdtf', 'keyDate': 'yes'}}],\n",
       "     'mods_issuance': {'_text': 'single unit'}},\n",
       "    'mods_language': {'mods_languageTerm': {'_text': 'rus',\n",
       "      '_attrib': {'authority': 'iso639-2b', 'type': 'code'}}},\n",
       "    'mods_physicalDescription': {'mods_form': {'_text': 'print',\n",
       "      '_attrib': {'authority': 'marcform'}},\n",
       "     'mods_extent': {'_text': '1 Doppelblatt, 4 Seiten : Anschrift, Stempel ; 170 x 224 mm'},\n",
       "     'mods_note': {'_text': 'Dokument=Item=Pièce',\n",
       "      '_attrib': {'type': 'arrangement'}}},\n",
       "    'mods_abstract': {'_text': 'Erste Seite: Brieftext, zweite und dritte Seite: leer, vierte Seite: enthält die Spuren eines Stempels sowie einen handschriftlichen Vermerk: «Otdatʹ Andreju Andreeviču»'},\n",
       "    'mods_tableOfContents': {'_text': 'Peter I. informiert A. A. Vinius, dass er seine Briefe nicht erhält. Er schreibt weiter, dass Vinius nicht an [Ivan Borisovič] Repnin denken soll. Ausserdem bemerkt Peter, dass es dort, wo er sich befindet, keine Eisenmeister gibt.'},\n",
       "    'mods_note': [{'_text': 'von Piter',\n",
       "      '_attrib': {'type': 'statement of responsibility', 'altRepGroup': '00'}},\n",
       "     {'_text': 'Ort, Datierung gemäss der Forschung von Prof. M. Ju. Ljustrov (RGGU Moskau)'},\n",
       "     {'_text': 'Russisch', '_attrib': {'type': 'language'}},\n",
       "     {'_text': 'Verzeichnung=Description=Inventaire HAN-Katalogisierungsregeln',\n",
       "      '_attrib': {'type': 'action'}}],\n",
       "    'mods_subject': [{'mods_hierarchicalGeographic': {'_attrib': {'authority': 'gnd',\n",
       "        'authorityURI': 'http://d-nb.info/gnd/',\n",
       "        'valueURI': 'http://d-nb.info/gnd/4011882-4'},\n",
       "       'mods_city': {'_text': 'Deutschland'}}},\n",
       "     {'mods_hierarchicalGeographic': {'_attrib': {'authority': 'gnd',\n",
       "        'authorityURI': 'http://d-nb.info/gnd/',\n",
       "        'valueURI': 'http://d-nb.info/gnd/4042203-3'},\n",
       "       'mods_city': {'_text': 'Niederlande'}}}],\n",
       "    'mods_relatedItem': {'_attrib': {'type': 'isReferencedBy'},\n",
       "     'mods_titleInfo': {'mods_title': {'_text': 'Ljustrov, Michail Jur’evič: Pis’mo Petra I A.A. Viniusu iz Švejcarskoj vostočnoevropejskoj biblioteki - In: Literaturoman(n)ija. K 90-letiju Jurija Vladimiroviča Manna. Sbornik statej. Sost. D.M. Magovedova. Moskva: RGGU, 2019, 694 S. ISBN 978-5-7281-2513-6. - S. 328-331.'}}},\n",
       "    'mods_identifier': {'_text': '10.7891/e-manuscripta-99317',\n",
       "     '_attrib': {'type': 'doi'}},\n",
       "    'mods_location': {'mods_physicalLocation': {'_text': 'Bern UB Schweizerische Osteuropabibliothek Rossica Europeana'},\n",
       "     'mods_shelfLocator': {'_text': 'SOB RoEU ag 1'},\n",
       "     'mods_holdingSimple': {'mods_copyInformation': {'mods_itemIdentifier': {'_text': 'SOB RoEU ag 1',\n",
       "        '_attrib': {'type': 'copy number'}}}}},\n",
       "    'mods_accessCondition': {'_text': 'pdm',\n",
       "     '_attrib': {'type': 'use and reproduction',\n",
       "      'xlink_href': 'https://creativecommons.org/publicdomain/mark/1.0',\n",
       "      'displayLabel': 'Public Domain Mark'}},\n",
       "    'mods_extension': {'vl_originInfo': {'_attrib': {'displayLabel': 'dc'},\n",
       "      'mods_dateCreated': {'_text': '1697',\n",
       "       '_attrib': {'encoding': 'w3cdtf', 'point': 'start'}}},\n",
       "     '{http://visuallibrary.net/vlz/1.0/}info': {'_attrib': {'version': '2'}}},\n",
       "    'mods_recordInfo': {'mods_recordCreationDate': {'_text': '200423',\n",
       "      '_attrib': {'encoding': 'marc'}},\n",
       "     'mods_recordChangeDate': {'_text': '20200903093500.0',\n",
       "      '_attrib': {'encoding': 'iso8601'}},\n",
       "     'mods_recordOrigin': {'_text': 'Converted from MARCXML to MODS version 3.6 using MARC21slim2MODS3-6.xsl\\n\\t\\t\\t\\t(Revision 1.119 2018/06/21)'},\n",
       "     'mods_recordIdentifier': {'_text': '99116998855105511',\n",
       "      '_attrib': {'source': 'bes'}}}}}},\n",
       " {'header': {'identifier': {'_text': 'oai:www.e-manuscripta.ch:2872666'},\n",
       "   'datestamp': {'_text': '2020-10-26T13:27:12Z'},\n",
       "   'setSpec': [{'_text': 'bes'}, {'_text': 'document'}]},\n",
       "  'metadata': {'{http://www.loc.gov/mods/v3}mods': {'_attrib': {'version': '3.6',\n",
       "     'xsi_schemaLocation': 'http://www.loc.gov/mods/v3 http://www.loc.gov/standards/mods/v3/mods-3-6.xsd'},\n",
       "    'mods_titleInfo': {'mods_title': {'_text': 'Brief an Sijatelʹnejšij grafʺ [Unbekannt]'}},\n",
       "    'mods_name': {'_attrib': {'type': 'personal',\n",
       "      'usage': 'primary',\n",
       "      'authority': 'gnd',\n",
       "      'authorityURI': 'http://d-nb.info/gnd/',\n",
       "      'valueURI': 'http://d-nb.info/gnd/136709923'},\n",
       "     'mods_namePart': [{'_text': 'Lieven, Otto von'},\n",
       "      {'_text': '1726-1781', '_attrib': {'type': 'date'}}],\n",
       "     'mods_role': [{'mods_roleTerm': {'_text': 'Autor',\n",
       "        '_attrib': {'type': 'text'}}},\n",
       "      {'mods_roleTerm': {'_text': 'aut',\n",
       "        '_attrib': {'authority': 'marcrelator', 'type': 'code'}}}]},\n",
       "    'mods_typeOfResource': {'_text': 'text', '_attrib': {'manuscript': 'yes'}},\n",
       "    'mods_genre': [{'_text': 'letter', '_attrib': {'authority': 'marcgt'}},\n",
       "     {'_text': 'Autograph', '_attrib': {'authority': 'marcgt'}}],\n",
       "    'mods_originInfo': {'mods_place': [{'mods_placeTerm': {'_text': 'ru',\n",
       "        '_attrib': {'type': 'code', 'authority': 'marccountry'}}},\n",
       "      {'mods_placeTerm': {'_text': 'Russland', '_attrib': {'type': 'text'}}}],\n",
       "     'mods_dateIssued': {'_text': '1765.12.30', '_attrib': {'point': 'start'}},\n",
       "     'mods_dateCreated': [{'_text': '19. Dezember 1765 (jul.)'},\n",
       "      {'_text': '1765', '_attrib': {'encoding': 'w3cdtf', 'keyDate': 'yes'}}],\n",
       "     'mods_issuance': {'_text': 'single unit'}},\n",
       "    'mods_language': {'mods_languageTerm': {'_text': 'rus',\n",
       "      '_attrib': {'authority': 'iso639-2b', 'type': 'code'}}},\n",
       "    'mods_physicalDescription': {'mods_form': {'_text': 'print',\n",
       "      '_attrib': {'authority': 'marcform'}},\n",
       "     'mods_extent': {'_text': '1 Blatt ; 215 x 340 mm + 1 Entwurf'},\n",
       "     'mods_note': {'_text': 'Dokument=Item=Pièce',\n",
       "      '_attrib': {'type': 'arrangement'}}},\n",
       "    'mods_abstract': {'_text': 'Ein russischer Militär im Dienst des Zaren äussert Dankbarkeit, möglicherweise für den Erhalt eines Militärgrades aufgrund eines Sieges, und sichert dem Zaren auch weiterhin seinen Mut und sein Engagement zu'},\n",
       "    'mods_note': [{'_text': 'von [Otto von Lieven]',\n",
       "      '_attrib': {'type': 'statement of responsibility', 'altRepGroup': '00'}},\n",
       "     {'_text': 'Autor und Adressat können nicht identifiziert werden'},\n",
       "     {'_text': 'Sowohl der Entwurf als auch der Brief selber sind auf Papier der gleichen Art und von derselben Hand geschrieben'},\n",
       "     {'_text': 'Der Verfasser wurde durch einen Handschriftenvergleich mit SOB RoEu ag 33 ermittelt'},\n",
       "     {'_text': 'rus', '_attrib': {'type': 'language'}},\n",
       "     {'_text': 'Verzeichnung=Description=Inventaire HAN-Katalogisierungsregeln',\n",
       "      '_attrib': {'type': 'action'}},\n",
       "     {'_text': 'Der Entwurf zum Brief ist eine Skizze, länger als die Endfassung, mit Korrekturen, undatiert'}],\n",
       "    'mods_subject': {'mods_hierarchicalGeographic': {'_attrib': {'authority': 'gnd',\n",
       "       'authorityURI': 'http://d-nb.info/gnd/',\n",
       "       'valueURI': 'http://d-nb.info/gnd/4076899-5'},\n",
       "      'mods_city': {'_text': 'Russland'}}},\n",
       "    'mods_identifier': {'_text': '10.7891/e-manuscripta-99321',\n",
       "     '_attrib': {'type': 'doi'}},\n",
       "    'mods_location': {'mods_physicalLocation': {'_text': 'Bern UB Schweizerische Osteuropabibliothek Rossica Europeana'},\n",
       "     'mods_shelfLocator': {'_text': 'SOB RoEU ag 5'},\n",
       "     'mods_holdingSimple': {'mods_copyInformation': {'mods_itemIdentifier': {'_text': 'SOB RoEU ag 5',\n",
       "        '_attrib': {'type': 'copy number'}}}}},\n",
       "    'mods_accessCondition': {'_text': 'pdm',\n",
       "     '_attrib': {'type': 'use and reproduction',\n",
       "      'xlink_href': 'https://creativecommons.org/publicdomain/mark/1.0',\n",
       "      'displayLabel': 'Public Domain Mark'}},\n",
       "    'mods_extension': {'vl_originInfo': {'_attrib': {'displayLabel': 'dc'},\n",
       "      'mods_dateCreated': {'_text': '1765',\n",
       "       '_attrib': {'encoding': 'w3cdtf', 'point': 'start'}}},\n",
       "     '{http://visuallibrary.net/vlz/1.0/}info': {'_attrib': {'version': '2'}}},\n",
       "    'mods_recordInfo': {'mods_recordCreationDate': {'_text': '200507',\n",
       "      '_attrib': {'encoding': 'marc'}},\n",
       "     'mods_recordChangeDate': {'_text': '20200901115400.0',\n",
       "      '_attrib': {'encoding': 'iso8601'}},\n",
       "     'mods_recordOrigin': {'_text': 'Converted from MARCXML to MODS version 3.6 using MARC21slim2MODS3-6.xsl\\n\\t\\t\\t\\t(Revision 1.119 2018/06/21)'},\n",
       "     'mods_recordIdentifier': {'_text': '99116998859205511',\n",
       "      '_attrib': {'source': 'bes'}}}}}}]"
      ]
     },
     "execution_count": 31,
     "metadata": {},
     "output_type": "execute_result"
    }
   ],
   "source": [
    "# Recover the first ten Bernese records from local disk\n",
    "reader = JSONReader('poly_metadata')\n",
    "[record for record in reader]"
   ]
  },
  {
   "cell_type": "markdown",
   "metadata": {},
   "source": [
    "The stored data **can be used just the same way** as the direct accessed one, like for instance for the `mods_genre` element. Note that the order of the records is shuffled now."
   ]
  },
  {
   "cell_type": "code",
   "execution_count": 32,
   "metadata": {},
   "outputs": [
    {
     "name": "stdout",
     "output_type": "stream",
     "text": [
      "oai:www.e-manuscripta.ch:2872640\n",
      "['letter', 'Autograph']\n",
      "---\n",
      "oai:www.e-manuscripta.ch:2872695\n",
      "['letter', 'Autograph']\n",
      "---\n",
      "oai:www.e-manuscripta.ch:2872687\n",
      "['letter', 'Autograph']\n",
      "---\n",
      "oai:www.e-manuscripta.ch:2872658\n",
      "['letter', 'Autograph']\n",
      "---\n",
      "oai:www.e-manuscripta.ch:2872650\n",
      "['letter', 'Autograph']\n",
      "---\n",
      "oai:www.e-manuscripta.ch:2872703\n",
      "['letter', 'Autograph']\n",
      "---\n",
      "oai:www.e-manuscripta.ch:1560587\n",
      "picture\n",
      "---\n",
      "oai:www.e-manuscripta.ch:2872679\n",
      "['letter', 'Autograph']\n",
      "---\n",
      "oai:www.e-manuscripta.ch:2872633\n",
      "['letter', 'Autograph']\n",
      "---\n",
      "oai:www.e-manuscripta.ch:2872666\n",
      "['letter', 'Autograph']\n",
      "---\n"
     ]
    }
   ],
   "source": [
    "reader = JSONReader('poly_metadata')\n",
    "for record in reader:\n",
    "    print(record.header.identifier._text)\n",
    "    print(record.get(['metadata', '{http://www.loc.gov/mods/v3}mods', 'mods_genre', '_text']))\n",
    "    print('---')"
   ]
  },
  {
   "cell_type": "code",
   "execution_count": 33,
   "metadata": {},
   "outputs": [
    {
     "name": "stdout",
     "output_type": "stream",
     "text": [
      "oai:www.e-manuscripta.ch:2872640\n",
      "['von [A.I.] Morgenrotʺ', 'Brief vom St. Petersburger Verleger und Buchhändler A. I. Morgenrot an Buchhändler I. T. Lisenkov in Zusammenhang mit der Ausgabe und Verkauf von Živopisnaja Rossija (1837-1839)', 'Russisch', 'Verzeichnung=Description=Inventaire HAN-Katalogisierungsregeln']\n",
      "['statement of responsibility', None, 'language', 'action']\n",
      "---\n",
      "oai:www.e-manuscripta.ch:2872695\n",
      "['Karl Christoph von Lieven ; A. Krjukov', 'Mit rotem Lacksiegel', 'Russisch', 'Verzeichnung=Description=Inventaire HAN-Katalogisierungsregeln']\n",
      "['statement of responsibility', None, 'language', 'action']\n",
      "---\n",
      "oai:www.e-manuscripta.ch:2872687\n",
      "['von Edward Daniel Clarke', 'Beim Adressaten handelt es sich um E.D. Clarkes Mutter, Anne Clarke (geborene Grenfield). Die Adresse lautet: Mrs Clarke, Uckfield, Sussex, England', 'Verzeichnung=Description=Inventaire HAN-Katalogisierungsregeln']\n",
      "['statement of responsibility', None, 'action']\n",
      "---\n",
      "oai:www.e-manuscripta.ch:2872658\n",
      "['von Graf [Petr Ivanovič] Ṥuvalov', 'Unterschrift des Autors vorhanden, aber unleserlich', 'Russisch', 'Verzeichnung=Description=Inventaire HAN-Katalogisierungsregeln', 'Dem Brief liegt ein Typoskript mit einer Übersetzung ins Deutsche bei (Übersetzer unbekannt, ca. Mitte 20. Jh.)']\n",
      "['statement of responsibility', None, 'language', 'action', None]\n",
      "---\n",
      "oai:www.e-manuscripta.ch:2872650\n",
      "['von [A.] Vilbo', 'Der Adressat kann nicht ermittelt werden', 'Russisch', 'Verzeichnung=Description=Inventaire HAN-Katalogisierungsregeln', 'Dem Brief liegt ein Typoskript mit einer Übersetzung ins Deutsche bei (Übersetzer unbekannt, ca. Mitte 20. Jh.)']\n",
      "['statement of responsibility', None, 'language', 'action', None]\n",
      "---\n",
      "oai:www.e-manuscripta.ch:2872703\n",
      "['erstellt von Glebʺ Popov', 'Stempel der Kaiserlichen Notariatskanzlei, in der Mitte ein Doppeladler und das Jahr 1729. Text im Stempel teilweise leserlich (\"pisatʹ kreposti vypiski i otkaznye dela\")', 'Verzeichnung=Description=Inventaire HAN-Katalogisierungsregeln']\n",
      "['statement of responsibility', None, 'action']\n",
      "---\n",
      "oai:www.e-manuscripta.ch:1560587\n",
      "['Digitale Kopien sind auf e-manuscripta zugänglich (siehe Link).', 'Digital copies are available on e-manuscripta (see link)', 'Some of the blots have been published as picture postcards by the International Rorschach Society', 'Verzeichnung=Description=Inventaire November 2004 recorded by Rita Signer', 'Digitalisierung=Digitization=Numérisation TIFF 02.04.2017']\n",
      "['reproduction', 'reproduction', 'publications', 'action', 'action']\n",
      "---\n",
      "oai:www.e-manuscripta.ch:2872679\n",
      "['von Catharina', 'Victor François de Broglie war im Juli 1789 kurz einer der letzten Kriegsminister von Louis XVI. Im Zuge der Französischen Revolution floh Broglie ins Ausland, wo er späte eine aus emigrierten Adligen zusammengestellte gegenrevolutionäre Armee befehligte. Katharina lässt Broglie in ihrem Brief wissen, dass sie sich dafür einsetzen werde, den königstreuen französischen Adel darin zu unterstützen die Monarchie wiederherzustellen. Hierbei zieht sie auch Vergleiche zur englischen Königin Elisabeth, welche im achten Hugenottenkrieg den späteren französischen König Heinrich IV. gegen die katholische Ligue unterstütze', 'Deutsch', 'Verzeichnung=Description=Inventaire HAN-Katalogisierungsregeln']\n",
      "['statement of responsibility', None, 'language', 'action']\n",
      "---\n",
      "oai:www.e-manuscripta.ch:2872633\n",
      "['von Piter', 'Ort, Datierung gemäss der Forschung von Prof. M. Ju. Ljustrov (RGGU Moskau)', 'Russisch', 'Verzeichnung=Description=Inventaire HAN-Katalogisierungsregeln']\n",
      "['statement of responsibility', None, 'language', 'action']\n",
      "---\n",
      "oai:www.e-manuscripta.ch:2872666\n",
      "['von [Otto von Lieven]', 'Autor und Adressat können nicht identifiziert werden', 'Sowohl der Entwurf als auch der Brief selber sind auf Papier der gleichen Art und von derselben Hand geschrieben', 'Der Verfasser wurde durch einen Handschriftenvergleich mit SOB RoEu ag 33 ermittelt', 'rus', 'Verzeichnung=Description=Inventaire HAN-Katalogisierungsregeln', 'Der Entwurf zum Brief ist eine Skizze, länger als die Endfassung, mit Korrekturen, undatiert']\n",
      "['statement of responsibility', None, None, None, 'language', 'action', None]\n",
      "---\n"
     ]
    }
   ],
   "source": [
    "# One more example: The 'mods_note' element and its '_attrib' sub-element\n",
    "reader = JSONReader('poly_metadata')\n",
    "for record in reader:\n",
    "    print(record.header.identifier._text)\n",
    "    print(record.get(['metadata', '{http://www.loc.gov/mods/v3}mods', 'mods_note', '_text']))\n",
    "    print(record.get(['metadata', '{http://www.loc.gov/mods/v3}mods', 'mods_note', '_attrib', 'type']))\n",
    "    print('---')"
   ]
  },
  {
   "cell_type": "markdown",
   "metadata": {},
   "source": [
    "Of course, there is also the way to read out certain metadata fields **via basic dot-notation**. But this will take a bit more of code to cope with the list vs. single value issue."
   ]
  },
  {
   "cell_type": "code",
   "execution_count": 34,
   "metadata": {},
   "outputs": [
    {
     "name": "stdout",
     "output_type": "stream",
     "text": [
      "oai:www.e-manuscripta.ch:2872640\n",
      "letter\n",
      "Autograph\n",
      "---\n",
      "oai:www.e-manuscripta.ch:2872695\n",
      "letter\n",
      "Autograph\n",
      "---\n",
      "oai:www.e-manuscripta.ch:2872687\n",
      "letter\n",
      "Autograph\n",
      "---\n",
      "oai:www.e-manuscripta.ch:2872658\n",
      "letter\n",
      "Autograph\n",
      "---\n",
      "oai:www.e-manuscripta.ch:2872650\n",
      "letter\n",
      "Autograph\n",
      "---\n",
      "oai:www.e-manuscripta.ch:2872703\n",
      "letter\n",
      "Autograph\n",
      "---\n",
      "oai:www.e-manuscripta.ch:1560587\n",
      "picture\n",
      "---\n",
      "oai:www.e-manuscripta.ch:2872679\n",
      "letter\n",
      "Autograph\n",
      "---\n",
      "oai:www.e-manuscripta.ch:2872633\n",
      "letter\n",
      "Autograph\n",
      "---\n",
      "oai:www.e-manuscripta.ch:2872666\n",
      "letter\n",
      "Autograph\n",
      "---\n"
     ]
    }
   ],
   "source": [
    "reader = JSONReader('poly_metadata')\n",
    "for record in reader:\n",
    "    print(record.header.identifier._text)\n",
    "    if 'mods_genre' in record.metadata['{http://www.loc.gov/mods/v3}mods']:\n",
    "        if isinstance(record.metadata['{http://www.loc.gov/mods/v3}mods'].mods_genre, list):\n",
    "            le = len(record.metadata['{http://www.loc.gov/mods/v3}mods'].mods_genre)\n",
    "            for i in range(le):\n",
    "                print(record.metadata['{http://www.loc.gov/mods/v3}mods'].mods_genre[i]._text)\n",
    "        else:\n",
    "            print(record.metadata['{http://www.loc.gov/mods/v3}mods'].mods_genre._text)\n",
    "    else: \n",
    "        print(None)\n",
    "    print('---')"
   ]
  },
  {
   "cell_type": "markdown",
   "metadata": {},
   "source": [
    "## 2 Direct metadata access via OAI-PMH "
   ]
  },
  {
   "cell_type": "markdown",
   "metadata": {},
   "source": [
    "Unfortunately, the Polymatheia library doesn't offer methods for *all* OAI verbs. For instance, there is no `ListIdentifiers` method (which delivers only the identifiers of a given set) and no `GetRecord` for retrieving the metadata of a certain item using its e-rara ID.\n",
    "\n",
    "That's where especially the common libraries **requests** and  **BeautifulSoup** come into play, and more manual coding is needed.\n"
   ]
  },
  {
   "cell_type": "markdown",
   "metadata": {},
   "source": [
    "### 2.0 Prerequisites"
   ]
  },
  {
   "cell_type": "code",
   "execution_count": 35,
   "metadata": {},
   "outputs": [
    {
     "name": "stdout",
     "output_type": "stream",
     "text": [
      "Succesfully imported necessary libraries\n"
     ]
    }
   ],
   "source": [
    "# Load the necessary libraries\n",
    "import requests                                 # request URLs\n",
    "from bs4 import BeautifulSoup as soup           # webscrape and parse HTML and XML\n",
    "import lxml                                     # XML parser supported by bs4\n",
    "                                                # call with soup(markup, 'lxml-xml' OR 'xml')\n",
    "import os                                       # navigate and manipulate file directories\n",
    "import time                                     # work with time stamps\n",
    "import pandas as pd                             # pandas is the Python standard library to work with dataframes\n",
    "from IPython.display import IFrame              # embed website views in jupyter notebook\n",
    "import math                                     # work with mathematical functions\n",
    "import re                                       # work with regular expressions\n",
    "print(\"Succesfully imported necessary libraries\")"
   ]
  },
  {
   "cell_type": "markdown",
   "metadata": {},
   "source": [
    "https://www.e-manuscripta.ch/oai/ will be the **base URL** for all OAI requests. To make life easier we put it into the variable `oai`."
   ]
  },
  {
   "cell_type": "code",
   "execution_count": 36,
   "metadata": {},
   "outputs": [],
   "source": [
    "oai = 'https://www.e-manuscripta.ch/oai/'"
   ]
  },
  {
   "cell_type": "markdown",
   "metadata": {},
   "source": [
    "### 2.1 Start with the native OAI interface"
   ]
  },
  {
   "cell_type": "markdown",
   "metadata": {},
   "source": [
    "The very **core of all operations on the OAI interface** will be a small function called `load_xml()`. It simply requests the base URL with the various parameters and decodes the answer to XML. Therefore, it can be used with all OAI verbs and their respective parameters."
   ]
  },
  {
   "cell_type": "code",
   "execution_count": 37,
   "metadata": {},
   "outputs": [],
   "source": [
    "def load_xml(params):\n",
    "    '''\n",
    "    Accesses the OAI interface according to given parameters and scrapes its content.\n",
    "    Parameters:\n",
    "    All available native OAI verbs and parameter/value pairs.\n",
    "    '''\n",
    "    base_url = oai\n",
    "    response = requests.get(base_url, params=params)\n",
    "    output_soup = soup(response.content, \"lxml\")\n",
    "    return output_soup"
   ]
  },
  {
   "cell_type": "markdown",
   "metadata": {},
   "source": [
    "You may use it to read out the basic `Identify` response of the OAI interface.\n",
    "\n",
    "Note, that the parameters to be used by the `load_xml` function are the same as in the genuine URL `https://www.e-manuscripta.ch/oai?verb=Identify`. That is, `verb` as the parameter key, and `Identify` as the parameter value. Therefore, we need a **parameter key-value pair**, which will be indicated by enclosing them in curly braces."
   ]
  },
  {
   "cell_type": "code",
   "execution_count": 38,
   "metadata": {},
   "outputs": [
    {
     "data": {
      "text/plain": [
       "<html><body><oai-pmh xmlns=\"http://www.openarchives.org/OAI/2.0/\" xmlns:xsi=\"http://www.w3.org/2001/XMLSchema-instance\" xsi:schemalocation=\"http://www.openarchives.org/OAI/2.0/ http://www.openarchives.org/OAI/2.0/OAI-PMH.xsd\"><responsedate>2021-06-23T15:26:47Z</responsedate><request verb=\"Identify\">https://www.e-manuscripta.ch/oai/</request><identify><repositoryname>Visual Library Server</repositoryname><baseurl>https://www.e-manuscripta.ch/oai/</baseurl><protocolversion>2.0</protocolversion><adminemail>issue-emanuscripta@library.ethz.ch</adminemail><earliestdatestamp>2012-10-08T12:21:39Z</earliestdatestamp><deletedrecord>no</deletedrecord><granularity>YYYY-MM-DDThh:mm:ssZ</granularity></identify></oai-pmh></body></html>"
      ]
     },
     "execution_count": 38,
     "metadata": {},
     "output_type": "execute_result"
    }
   ],
   "source": [
    "xml_soup = load_xml({'verb': 'Identify'})\n",
    "xml_soup"
   ]
  },
  {
   "cell_type": "markdown",
   "metadata": {},
   "source": [
    "You can easily check with the `IFrame` method underneath."
   ]
  },
  {
   "cell_type": "code",
   "execution_count": 39,
   "metadata": {},
   "outputs": [
    {
     "data": {
      "text/html": [
       "\n",
       "        <iframe\n",
       "            width=\"970\"\n",
       "            height=\"330\"\n",
       "            src=\"https://www.e-manuscripta.ch/oai?verb=Identify\"\n",
       "            frameborder=\"0\"\n",
       "            allowfullscreen\n",
       "        ></iframe>\n",
       "        "
      ],
      "text/plain": [
       "<IPython.lib.display.IFrame at 0x13e30e81a00>"
      ]
     },
     "execution_count": 39,
     "metadata": {},
     "output_type": "execute_result"
    }
   ],
   "source": [
    "IFrame('https://www.e-manuscripta.ch/oai?verb=Identify', width=970, height=330)"
   ]
  },
  {
   "cell_type": "markdown",
   "metadata": {},
   "source": [
    "### 2.2 Download metadata records"
   ]
  },
  {
   "cell_type": "markdown",
   "metadata": {},
   "source": [
    "The same can be done with the `GetRecord` OAI verb, here `metadataPrefix`and `identifier` are mandatory parameters, naturally. Note, that as the identifier is an integer, you can discard the quotation marks used with the other parameter key-value pairs - anyway, often it's a good idea to keep these quotation marks regularly."
   ]
  },
  {
   "cell_type": "code",
   "execution_count": 40,
   "metadata": {},
   "outputs": [
    {
     "data": {
      "text/plain": [
       "<html><body><oai-pmh xmlns=\"http://www.openarchives.org/OAI/2.0/\" xmlns:xsi=\"http://www.w3.org/2001/XMLSchema-instance\" xsi:schemalocation=\"http://www.openarchives.org/OAI/2.0/ http://www.openarchives.org/OAI/2.0/OAI-PMH.xsd\"><responsedate>2021-06-23T15:26:47Z</responsedate><request identifier=\"2338669\" metadataprefix=\"oai_dc\" verb=\"GetRecord\">https://www.e-manuscripta.ch/oai/</request><getrecord><record><header><identifier>oai:www.e-manuscripta.ch:2338669</identifier><datestamp>2019-11-20T17:37:46Z</datestamp><setspec>emanussnl</setspec><setspec>document</setspec></header><metadata><oai_dc:dc xmlns:dc=\"http://purl.org/dc/elements/1.1/\" xmlns:oai_dc=\"http://www.openarchives.org/OAI/2.0/oai_dc/\" xmlns:xsi=\"http://www.w3.org/2001/XMLSchema-instance\" xsi:schemalocation=\"http://www.openarchives.org/OAI/2.0/oai_dc/ http://www.openarchives.org/OAI/2.0/oai_dc.xsd\"><dc:title>Ball, Hugo an Hesse, Hermann; Korrespondenz</dc:title><dc:creator>[s.n.]</dc:creator><dc:description>Dossier</dc:description><dc:publisher>[s.n.]</dc:publisher><dc:type>Text</dc:type><dc:type>Korrespondenz</dc:type><dc:format>12 Br. hs. u. masch., vorw. masch.</dc:format><dc:identifier>doi:10.7891/e-manuscripta-83317</dc:identifier><dc:identifier>https://www.e-manuscripta.ch/snl/doi/10.7891/e-manuscripta-83317</dc:identifier><dc:identifier>system:341636</dc:identifier><dc:relation>vignette : https://www.e-manuscripta.ch/snl/titlepage/doi/10.7891/e-manuscripta-83317/128</dc:relation><dc:language>ger</dc:language><dc:rights>pdm</dc:rights></oai_dc:dc></metadata></record></getrecord></oai-pmh></body></html>"
      ]
     },
     "execution_count": 40,
     "metadata": {},
     "output_type": "execute_result"
    }
   ],
   "source": [
    "# Example for accessing a single metadata record\n",
    "# https://www.e-manuscripta.ch/oai?verb=GetRecord&metadataPrefix=oai_dc&identifier=2338669\n",
    "\n",
    "xml_soup = load_xml({'verb': 'GetRecord', 'metadataPrefix': 'oai_dc', 'identifier': 2338669})\n",
    "xml_soup"
   ]
  },
  {
   "cell_type": "markdown",
   "metadata": {},
   "source": [
    "Again before downloading, first make a dedicated folder for the retrieved metadata."
   ]
  },
  {
   "cell_type": "code",
   "execution_count": 41,
   "metadata": {},
   "outputs": [
    {
     "name": "stdout",
     "output_type": "stream",
     "text": [
      "C:\\Users\\kwoit\\Documents\\GitHub\\e-manuscripta-access\\data\n"
     ]
    }
   ],
   "source": [
    "print(os.getcwd())                        # print current working directory"
   ]
  },
  {
   "cell_type": "markdown",
   "metadata": {},
   "source": [
    "In case you might change your directory you can easily do this with `os.chdir` or `os.chdir(os.pardir)`. While `os.chdir()` changes the working directory to a subdirectory, `os.chdir(os.pardir)` will change it to the parent directory. Just uncomment (and maybe multiply) the commands you need."
   ]
  },
  {
   "cell_type": "code",
   "execution_count": 42,
   "metadata": {},
   "outputs": [],
   "source": [
    "#os.chdir(os.pardir)                      # change to parent directory\n",
    "#os.chdir(...)                            # change to subdirectory '...'\n",
    "os.makedirs('metadata', exist_ok=True)    # make folder 'metadata' - if it's not already there\n",
    "os.chdir('metadata')                      # change to folder 'metadata'"
   ]
  },
  {
   "cell_type": "markdown",
   "metadata": {},
   "source": [
    "You might want to **download the metadata record directly** by its e-manuscripta ID and in a specified metadata format. The `download_record()` function does this for you easily. If you choose no format, *MODS* will be delivered."
   ]
  },
  {
   "cell_type": "code",
   "execution_count": 43,
   "metadata": {},
   "outputs": [],
   "source": [
    "def download_record(ID, metadataPrefix='mods'):\n",
    "    '''\n",
    "    Downloads a certain metadata record from OAI to a single XML file.\n",
    "    Throws a notice if metadata file already exists and leaves the existing one.\n",
    "    Parameters:\n",
    "    ID = E-manuscripta ID of the desired record.\n",
    "    metadataPrefix = Metadata format to be delivered. Default value is MODS.\n",
    "    '''\n",
    "    path = os.getcwd()\n",
    "    output_soup = load_xml({'verb': 'GetRecord', 'metadataPrefix': metadataPrefix, 'identifier': ID})\n",
    "    outfile = path + '/{}.xml'.format(ID) \n",
    "    try:\n",
    "        with open(outfile, mode='x', encoding='utf-8') as f:\n",
    "            f.write(output_soup.decode())\n",
    "            print(\"Metadata file {}.xml saved\".format(ID))\n",
    "    except FileExistsError:\n",
    "            print(\"Metadata file {}.xml exists already\".format(ID))\n",
    "    finally:\n",
    "            pass"
   ]
  },
  {
   "cell_type": "code",
   "execution_count": 44,
   "metadata": {},
   "outputs": [
    {
     "name": "stdout",
     "output_type": "stream",
     "text": [
      "Metadata file 2338669.xml saved\n"
     ]
    }
   ],
   "source": [
    "# Example for downloading a single metadata record\n",
    "# https://www.e-manuscripta.ch/oai?verb=GetRecord&metadataPrefix=oai_dc&identifier=2338669\n",
    "\n",
    "download_record(2338669, 'oai_dc')"
   ]
  },
  {
   "cell_type": "markdown",
   "metadata": {},
   "source": [
    "### 2.3 Get set size & download metadata by set"
   ]
  },
  {
   "cell_type": "markdown",
   "metadata": {},
   "source": [
    "Scraping the OAI interface output directly yields a problem with bigger data. The output is **split into segments of ten records, which are presented on single webpages**. Looking at a sample request with `ListIdentifier` method, you will find the `resumptionToken` element, which on the one hand delivers the `completeListSize`, and on the other hand holds the resumption token. The [resumption token](http://www.openarchives.org/OAI/openarchivesprotocol.html#FlowControl) is required to access the next segment webpage, which again includes a resumption token to the next page and so on."
   ]
  },
  {
   "cell_type": "code",
   "execution_count": 45,
   "metadata": {},
   "outputs": [
    {
     "data": {
      "text/html": [
       "\n",
       "        <iframe\n",
       "            width=\"970\"\n",
       "            height=\"300\"\n",
       "            src=\"https://www.e-manuscripta.ch/oai?verb=ListIdentifiers&set=bes&metadataPrefix=oai_dc\"\n",
       "            frameborder=\"0\"\n",
       "            allowfullscreen\n",
       "        ></iframe>\n",
       "        "
      ],
      "text/plain": [
       "<IPython.lib.display.IFrame at 0x13e30e9c7f0>"
      ]
     },
     "execution_count": 45,
     "metadata": {},
     "output_type": "execute_result"
    }
   ],
   "source": [
    "# Scroll to the end of the page for the resumption token\n",
    "IFrame('https://www.e-manuscripta.ch/oai?verb=ListIdentifiers&set=bes&metadataPrefix=oai_dc', \\\n",
    "       width=970, height=300)"
   ]
  },
  {
   "cell_type": "markdown",
   "metadata": {},
   "source": [
    "We can use this information to define a function `setsize()` which reads out the size of a certain set. Here, we use the well-known `setSpec` short cut to refer to the desired set."
   ]
  },
  {
   "cell_type": "code",
   "execution_count": 46,
   "metadata": {},
   "outputs": [],
   "source": [
    "def setsize(Set):\n",
    "    '''\n",
    "    Accesses the OAI interface and retrieves the size of a given OAI set.\n",
    "    Parameters:\n",
    "    Set: The 'setSpec' short cut of the desired OAI set.\n",
    "    '''\n",
    "    base_url = oai\n",
    "    listsearch_term = {'verb': 'ListIdentifiers', 'metadataPrefix': 'oai_dc', 'set': Set}\n",
    "    \n",
    "    # Basic function\n",
    "    def load_xml(params):\n",
    "        '''\n",
    "        Accesses the OAI interface according to given parameters and scrapes its content.\n",
    "        Parameters:\n",
    "        All available native OAI verbs and parameter/value pairs.\n",
    "        '''\n",
    "        response = requests.get(base_url, params=params)\n",
    "        output_soup = soup(response.content, \"lxml\")\n",
    "        return output_soup\n",
    "    \n",
    "    xml_soup = load_xml(listsearch_term)\n",
    "    if xml_soup.resumptiontoken:\n",
    "        set_size = int(xml_soup.resumptiontoken['completelistsize'])\n",
    "    else:\n",
    "        set_size = len(xml_soup.find_all('identifier'))\n",
    "    return set_size"
   ]
  },
  {
   "cell_type": "code",
   "execution_count": 47,
   "metadata": {},
   "outputs": [
    {
     "data": {
      "text/plain": [
       "9838"
      ]
     },
     "execution_count": 47,
     "metadata": {},
     "output_type": "execute_result"
    }
   ],
   "source": [
    "setsize('emanussnl')"
   ]
  },
  {
   "cell_type": "markdown",
   "metadata": {},
   "source": [
    "With this function and recurring to the Polymatheia functions from the start it is also possible to read out **all the set sizes** of the OAI interface at once."
   ]
  },
  {
   "cell_type": "code",
   "execution_count": 48,
   "metadata": {},
   "outputs": [
    {
     "data": {
      "text/html": [
       "<div>\n",
       "<style scoped>\n",
       "    .dataframe tbody tr th:only-of-type {\n",
       "        vertical-align: middle;\n",
       "    }\n",
       "\n",
       "    .dataframe tbody tr th {\n",
       "        vertical-align: top;\n",
       "    }\n",
       "\n",
       "    .dataframe thead th {\n",
       "        text-align: right;\n",
       "    }\n",
       "</style>\n",
       "<table border=\"1\" class=\"dataframe\">\n",
       "  <thead>\n",
       "    <tr style=\"text-align: right;\">\n",
       "      <th></th>\n",
       "      <th>setSpec</th>\n",
       "      <th>setName</th>\n",
       "      <th>setSize</th>\n",
       "    </tr>\n",
       "  </thead>\n",
       "  <tbody>\n",
       "    <tr>\n",
       "      <th>0</th>\n",
       "      <td>emanuszuzneb</td>\n",
       "      <td>Zentralbibliothek Zürich - EBI01</td>\n",
       "      <td>22149</td>\n",
       "    </tr>\n",
       "    <tr>\n",
       "      <th>1</th>\n",
       "      <td>emanuszuzcmi</td>\n",
       "      <td>Zentralbibliothek Zürich - CMI</td>\n",
       "      <td>297</td>\n",
       "    </tr>\n",
       "    <tr>\n",
       "      <th>2</th>\n",
       "      <td>emanusbau</td>\n",
       "      <td>Universitätsbibliothek Basel</td>\n",
       "      <td>23151</td>\n",
       "    </tr>\n",
       "    <tr>\n",
       "      <th>3</th>\n",
       "      <td>emanussnl</td>\n",
       "      <td>Schweizerische Nationalbibliothek (NB)</td>\n",
       "      <td>9838</td>\n",
       "    </tr>\n",
       "    <tr>\n",
       "      <th>4</th>\n",
       "      <td>emanuszuz</td>\n",
       "      <td>Zentralbibliothek Zürich - EBI04</td>\n",
       "      <td>15436</td>\n",
       "    </tr>\n",
       "    <tr>\n",
       "      <th>5</th>\n",
       "      <td>zbs</td>\n",
       "      <td>Zentralbibliothek Solothurn</td>\n",
       "      <td>15</td>\n",
       "    </tr>\n",
       "    <tr>\n",
       "      <th>6</th>\n",
       "      <td>bes</td>\n",
       "      <td>Universitätsbibliothek Bern</td>\n",
       "      <td>38</td>\n",
       "    </tr>\n",
       "    <tr>\n",
       "      <th>7</th>\n",
       "      <td>emanusbau1</td>\n",
       "      <td>Universitätsbibliothek Basel - Aleph</td>\n",
       "      <td>58</td>\n",
       "    </tr>\n",
       "    <tr>\n",
       "      <th>8</th>\n",
       "      <td>emanus</td>\n",
       "      <td>e-manuscripta</td>\n",
       "      <td>0</td>\n",
       "    </tr>\n",
       "    <tr>\n",
       "      <th>9</th>\n",
       "      <td>zhb</td>\n",
       "      <td>Zentral- &amp; Hochschulbibliothek Luzern</td>\n",
       "      <td>22</td>\n",
       "    </tr>\n",
       "    <tr>\n",
       "      <th>10</th>\n",
       "      <td>emanuszut</td>\n",
       "      <td>ETH-Bibliothek</td>\n",
       "      <td>45191</td>\n",
       "    </tr>\n",
       "    <tr>\n",
       "      <th>11</th>\n",
       "      <td>emanusswa</td>\n",
       "      <td>Schweizerisches Wirtschaftsarchiv</td>\n",
       "      <td>1796</td>\n",
       "    </tr>\n",
       "    <tr>\n",
       "      <th>12</th>\n",
       "      <td>texte</td>\n",
       "      <td>Texte</td>\n",
       "      <td>4059</td>\n",
       "    </tr>\n",
       "    <tr>\n",
       "      <th>13</th>\n",
       "      <td>chroniken</td>\n",
       "      <td>Chroniken</td>\n",
       "      <td>119</td>\n",
       "    </tr>\n",
       "    <tr>\n",
       "      <th>14</th>\n",
       "      <td>sonnenbeobachtungen</td>\n",
       "      <td>Sonnenbeobachtung</td>\n",
       "      <td>29795</td>\n",
       "    </tr>\n",
       "    <tr>\n",
       "      <th>15</th>\n",
       "      <td>personen</td>\n",
       "      <td>Personen, Institutionen</td>\n",
       "      <td>1904</td>\n",
       "    </tr>\n",
       "    <tr>\n",
       "      <th>16</th>\n",
       "      <td>kataloge</td>\n",
       "      <td>Kataloge</td>\n",
       "      <td>39</td>\n",
       "    </tr>\n",
       "    <tr>\n",
       "      <th>17</th>\n",
       "      <td>einstein</td>\n",
       "      <td>Albert Einstein</td>\n",
       "      <td>0</td>\n",
       "    </tr>\n",
       "    <tr>\n",
       "      <th>18</th>\n",
       "      <td>briefe</td>\n",
       "      <td>Briefe</td>\n",
       "      <td>41292</td>\n",
       "    </tr>\n",
       "    <tr>\n",
       "      <th>19</th>\n",
       "      <td>rezepte</td>\n",
       "      <td>Rezepte</td>\n",
       "      <td>8</td>\n",
       "    </tr>\n",
       "    <tr>\n",
       "      <th>20</th>\n",
       "      <td>noten</td>\n",
       "      <td>Noten</td>\n",
       "      <td>380</td>\n",
       "    </tr>\n",
       "    <tr>\n",
       "      <th>21</th>\n",
       "      <td>gattungen</td>\n",
       "      <td>Quellengattungen</td>\n",
       "      <td>229</td>\n",
       "    </tr>\n",
       "    <tr>\n",
       "      <th>22</th>\n",
       "      <td>keller</td>\n",
       "      <td>Gottfried Keller</td>\n",
       "      <td>312</td>\n",
       "    </tr>\n",
       "    <tr>\n",
       "      <th>23</th>\n",
       "      <td>bilder</td>\n",
       "      <td>Bilder</td>\n",
       "      <td>58805</td>\n",
       "    </tr>\n",
       "    <tr>\n",
       "      <th>24</th>\n",
       "      <td>themen</td>\n",
       "      <td>Themen</td>\n",
       "      <td>29795</td>\n",
       "    </tr>\n",
       "    <tr>\n",
       "      <th>25</th>\n",
       "      <td>lavater</td>\n",
       "      <td>Johann Caspar Lavater</td>\n",
       "      <td>741</td>\n",
       "    </tr>\n",
       "    <tr>\n",
       "      <th>26</th>\n",
       "      <td>maps</td>\n",
       "      <td>Karten, Pläne</td>\n",
       "      <td>1275</td>\n",
       "    </tr>\n",
       "    <tr>\n",
       "      <th>27</th>\n",
       "      <td>selbstzeugnisse</td>\n",
       "      <td>Selbstzeugnisse</td>\n",
       "      <td>57</td>\n",
       "    </tr>\n",
       "    <tr>\n",
       "      <th>28</th>\n",
       "      <td>varia</td>\n",
       "      <td>Varia</td>\n",
       "      <td>1974</td>\n",
       "    </tr>\n",
       "    <tr>\n",
       "      <th>29</th>\n",
       "      <td>tagebuecher</td>\n",
       "      <td>Wissenschaftliche Tagebücher</td>\n",
       "      <td>9</td>\n",
       "    </tr>\n",
       "    <tr>\n",
       "      <th>30</th>\n",
       "      <td>platter</td>\n",
       "      <td>Platter (Familie)</td>\n",
       "      <td>21</td>\n",
       "    </tr>\n",
       "    <tr>\n",
       "      <th>31</th>\n",
       "      <td>wagner</td>\n",
       "      <td>Richard Wagner</td>\n",
       "      <td>371</td>\n",
       "    </tr>\n",
       "    <tr>\n",
       "      <th>32</th>\n",
       "      <td>wick</td>\n",
       "      <td>Johann Jakob Wick</td>\n",
       "      <td>462</td>\n",
       "    </tr>\n",
       "    <tr>\n",
       "      <th>33</th>\n",
       "      <td>all</td>\n",
       "      <td>Alle Dokumente</td>\n",
       "      <td>107713</td>\n",
       "    </tr>\n",
       "    <tr>\n",
       "      <th>34</th>\n",
       "      <td>selected</td>\n",
       "      <td>Ausgewählte Inhalte</td>\n",
       "      <td>31890</td>\n",
       "    </tr>\n",
       "    <tr>\n",
       "      <th>35</th>\n",
       "      <td>transkribus19gt</td>\n",
       "      <td>unknown spec</td>\n",
       "      <td>146</td>\n",
       "    </tr>\n",
       "    <tr>\n",
       "      <th>36</th>\n",
       "      <td>doi</td>\n",
       "      <td>unknown spec</td>\n",
       "      <td>108000</td>\n",
       "    </tr>\n",
       "    <tr>\n",
       "      <th>37</th>\n",
       "      <td>transkribus19</td>\n",
       "      <td>unknown spec</td>\n",
       "      <td>15100</td>\n",
       "    </tr>\n",
       "    <tr>\n",
       "      <th>38</th>\n",
       "      <td>letter_manual</td>\n",
       "      <td>letter manual</td>\n",
       "      <td>9987</td>\n",
       "    </tr>\n",
       "    <tr>\n",
       "      <th>39</th>\n",
       "      <td>inventory</td>\n",
       "      <td>inventory</td>\n",
       "      <td>1618</td>\n",
       "    </tr>\n",
       "  </tbody>\n",
       "</table>\n",
       "</div>"
      ],
      "text/plain": [
       "                setSpec                                 setName setSize\n",
       "0          emanuszuzneb        Zentralbibliothek Zürich - EBI01   22149\n",
       "1          emanuszuzcmi          Zentralbibliothek Zürich - CMI     297\n",
       "2             emanusbau            Universitätsbibliothek Basel   23151\n",
       "3             emanussnl  Schweizerische Nationalbibliothek (NB)    9838\n",
       "4             emanuszuz        Zentralbibliothek Zürich - EBI04   15436\n",
       "5                   zbs             Zentralbibliothek Solothurn      15\n",
       "6                   bes             Universitätsbibliothek Bern      38\n",
       "7            emanusbau1    Universitätsbibliothek Basel - Aleph      58\n",
       "8                emanus                           e-manuscripta       0\n",
       "9                   zhb   Zentral- & Hochschulbibliothek Luzern      22\n",
       "10            emanuszut                          ETH-Bibliothek   45191\n",
       "11            emanusswa       Schweizerisches Wirtschaftsarchiv    1796\n",
       "12                texte                                   Texte    4059\n",
       "13            chroniken                               Chroniken     119\n",
       "14  sonnenbeobachtungen                       Sonnenbeobachtung   29795\n",
       "15             personen                 Personen, Institutionen    1904\n",
       "16             kataloge                                Kataloge      39\n",
       "17             einstein                         Albert Einstein       0\n",
       "18               briefe                                  Briefe   41292\n",
       "19              rezepte                                 Rezepte       8\n",
       "20                noten                                   Noten     380\n",
       "21            gattungen                        Quellengattungen     229\n",
       "22               keller                        Gottfried Keller     312\n",
       "23               bilder                                  Bilder   58805\n",
       "24               themen                                  Themen   29795\n",
       "25              lavater                   Johann Caspar Lavater     741\n",
       "26                 maps                           Karten, Pläne    1275\n",
       "27      selbstzeugnisse                         Selbstzeugnisse      57\n",
       "28                varia                                   Varia    1974\n",
       "29          tagebuecher            Wissenschaftliche Tagebücher       9\n",
       "30              platter                       Platter (Familie)      21\n",
       "31               wagner                          Richard Wagner     371\n",
       "32                 wick                       Johann Jakob Wick     462\n",
       "33                  all                          Alle Dokumente  107713\n",
       "34             selected                     Ausgewählte Inhalte   31890\n",
       "35      transkribus19gt                            unknown spec     146\n",
       "36                  doi                            unknown spec  108000\n",
       "37        transkribus19                            unknown spec   15100\n",
       "38        letter_manual                           letter manual    9987\n",
       "39            inventory                               inventory    1618"
      ]
     },
     "execution_count": 48,
     "metadata": {},
     "output_type": "execute_result"
    }
   ],
   "source": [
    "from polymatheia.data.reader import OAISetReader\n",
    "from polymatheia.data.writer import PandasDFWriter\n",
    "\n",
    "reader = OAISetReader(oai)\n",
    "setspec = []                          \n",
    "[setspec.append(x) for x in reader]                \n",
    "df = PandasDFWriter().write(setspec)\n",
    "df['setSize'] = df['setSpec']\n",
    "for i in df.index:\n",
    "    set_size = setsize(df.setSpec[i])\n",
    "    df.setSize[i] = set_size\n",
    "df"
   ]
  },
  {
   "cell_type": "markdown",
   "metadata": {},
   "source": [
    "Because of the results splitting with resumption tokens it is a bit more complex to bulk download metadata directly from the OAI interface. With `retrieve_set_metadata()` we create a function to **retrieve  all metadata records of a set** in a certain format, and save the XML files to a designated folder."
   ]
  },
  {
   "cell_type": "code",
   "execution_count": 49,
   "metadata": {},
   "outputs": [],
   "source": [
    "def retrieve_set_metadata(Set, foldername, metadataPrefix='mods'):\n",
    "    '''\n",
    "    Downloads metadata records of a given set and in a given format from OAI to XML files\n",
    "    in a designated folder.\n",
    "    Therefore it\n",
    "    * requests e-manuscripta OAI-PMH interface according to a set \n",
    "    * creates a folder for the records according to parameter foldername\n",
    "    * retrieves the set's e-manuscripta IDs\n",
    "    * retrieves metadata according to IDs and given metadata format (default: MODS)\n",
    "    * saves metadata to single <e-manuscripta ID>.xml files in the folder.\n",
    "    Parameters:\n",
    "    Set = The 'setSpec' short cut of the desired OAI set.\n",
    "    foldername = The name of the folder which will be created to hold the metadata files.\n",
    "    metadataPrefix = Metadata format to be delivered. Default value is MODS.\n",
    "    '''\n",
    "    start = time.perf_counter()\n",
    "\n",
    "    # Set parameters to the interface\n",
    "    base_url = oai\n",
    "    recordsearch_term = {'verb': 'GetRecord', 'metadataPrefix': metadataPrefix}\n",
    "    listsearch_term = {'verb': 'ListIdentifiers', 'metadataPrefix': metadataPrefix, 'set': Set}\n",
    "    \n",
    "    # Make a folder <metadata> with subfolder named like the set to store files in it\n",
    "    path = os.getcwd() + '/' + foldername\n",
    "    try:\n",
    "        os.makedirs(path, exist_ok = True)\n",
    "        print(\"Path {} is already available or created successfully\".format(path))\n",
    "    except OSError as error:\n",
    "        print(\"Path {} can not be created\".format(path))\n",
    "    \n",
    "        \n",
    "    # Basic functions\n",
    "    def load_xml(params):\n",
    "        '''\n",
    "        Accesses the OAI interface according to given parameters and scrapes its content.\n",
    "        '''\n",
    "        response = requests.get(base_url, params=params)\n",
    "        output_soup = soup(response.content, \"lxml\")\n",
    "        return output_soup\n",
    "\n",
    "    def download_record(ID):\n",
    "        '''\n",
    "        Downloads a certain metadata record from OAI to a single XML file.\n",
    "        Throws a notice if metadata file already exists and leaves the existing one.\n",
    "        Parameter:\n",
    "        ID = e-manuscripta ID of the desired record.\n",
    "        '''\n",
    "        output_soup = load_xml({'verb': 'GetRecord', 'metadataPrefix': metadataPrefix, 'identifier': ID})\n",
    "        outfile = path + '/{}.xml'.format(ID) \n",
    "        try:\n",
    "            with open(outfile, mode='x', encoding='utf-8') as f:\n",
    "                    f.write(output_soup.decode())\n",
    "        except FileExistsError:\n",
    "                print(\"Metadata file {}.xml exists already\".format(ID))\n",
    "        finally:\n",
    "                pass\n",
    "\n",
    "    # Start with the first access to OAI interface - get the item IDs of a set\n",
    "    xml_soup = load_xml(listsearch_term)\n",
    "\n",
    "    # Calculate how many accesses it takes to go through all the pages of the results list, print notice\n",
    "    splits = math.ceil(int(xml_soup.resumptiontoken['completelistsize']) // 10) + 1\n",
    "    print(xml_soup.resumptiontoken['completelistsize'], 'identifiers to request in ', splits, 'data splits')\n",
    "    \n",
    "\n",
    "    for i in range(splits):\n",
    "        if i == 0:\n",
    "            # First access for item IDs - first page + information about whole length of results list\n",
    "            xml_soup_new = load_xml(listsearch_term)      \n",
    "        else:\n",
    "            # Following accesses for item IDs\n",
    "            xml_soup_new = load_xml({'verb': 'ListIdentifiers', 'resumptionToken': resumption_token})\n",
    "\n",
    "        # Scraping out the e-manuscripta IDs\n",
    "        ids = [] \n",
    "        for ID in [(i.contents[0]) for i in xml_soup_new.find_all('identifier')]:\n",
    "            match = re.search('oai:www.e-manuscripta.ch:(\\d+)', ID)    # extract the number following 'oai:www.e-manuscripta.ch:'\n",
    "            if match:\n",
    "                ids.append(match.group(1))     # first parenthesized subgroup of group() = number\n",
    "\n",
    "        # Download the MODS metadata records according to retrieved e-manuscripta IDs\n",
    "        print('Start retrieving metadata for e-manuscripta IDs ', ids)  \n",
    "        for ID in ids:\n",
    "            download_record(ID)\n",
    "        ids = []\n",
    "\n",
    "        # Actualize the resumtpion token to retrieve the the next page\n",
    "        try:\n",
    "            new_token = xml_soup_new.find('resumptiontoken').get_text()\n",
    "            resumption_token = new_token\n",
    "            print('New resumption token:', resumption_token)\n",
    "        except AttributeError:\n",
    "            print('Reached end of IDs/results list')       # notice when last page is done\n",
    "        finally:\n",
    "            pass\n",
    "\n",
    "    with os.scandir(path) as entries:\n",
    "        count = 0\n",
    "        for entry in entries:\n",
    "            count += 1       \n",
    "    print(\"{} metadata files in {}\".format(count, path))\n",
    "    finish = time.perf_counter()\n",
    "    print(\"Finished in {} second(s)\".format(round(finish - start, 2)))"
   ]
  },
  {
   "cell_type": "code",
   "execution_count": 50,
   "metadata": {},
   "outputs": [
    {
     "name": "stdout",
     "output_type": "stream",
     "text": [
      "Path C:\\Users\\kwoit\\Documents\\GitHub\\e-manuscripta-access\\data\\metadata/e-manuscripta_UB_Bern is already available or created successfully\n",
      "38 identifiers to request in  4 data splits\n",
      "Start retrieving metadata for e-manuscripta IDs  ['1560587', '2872633', '2872640', '2872650', '2872658', '2872666', '2872679', '2872687', '2872695', '2872703']\n",
      "New resumption token: 0xe437e54a7f9ff3a363be3bb4dc54d79e-cursor_p_3D10_p_26set_p_3Dbes_p_26metadataPrefix_p_3Doai_dc_p_26batch_size_p_3D11\n",
      "Start retrieving metadata for e-manuscripta IDs  ['2872711', '2872725', '2872732', '2872740', '2872748', '2872756', '2872764', '2872772', '2872779', '2872785']\n",
      "New resumption token: 0xc53816d7388f8dfd2d8c2d992f05c254-cursor_p_3D20_p_26set_p_3Dbes_p_26metadataPrefix_p_3Doai_dc_p_26batch_size_p_3D11\n",
      "Start retrieving metadata for e-manuscripta IDs  ['2872793', '2872801', '2872809', '2872817', '2872825', '2872833', '2872843', '2872854', '2872862', '2872870']\n",
      "New resumption token: 0xc53816d7388f8dfd2d8c2d992f05c254-cursor_p_3D30_p_26set_p_3Dbes_p_26metadataPrefix_p_3Doai_dc_p_26batch_size_p_3D11\n",
      "Start retrieving metadata for e-manuscripta IDs  ['2872878', '2872886', '2872894', '2872902', '2872910', '2872918', '2872926', '2872932']\n",
      "Reached end of IDs/results list\n",
      "38 metadata files in C:\\Users\\kwoit\\Documents\\GitHub\\e-manuscripta-access\\data\\metadata/e-manuscripta_UB_Bern\n",
      "Finished in 6.0 second(s)\n"
     ]
    }
   ],
   "source": [
    "# Just choose the appropriate set short cut, the desired folder name and metadata format\n",
    "retrieve_set_metadata('bes', 'e-manuscripta_UB_Bern', 'oai_dc')"
   ]
  },
  {
   "cell_type": "markdown",
   "metadata": {},
   "source": [
    "## 3 Download fulltext files from e-manuscripta website"
   ]
  },
  {
   "cell_type": "markdown",
   "metadata": {},
   "source": [
    "### 3.0 Prerequisites"
   ]
  },
  {
   "cell_type": "code",
   "execution_count": 51,
   "metadata": {},
   "outputs": [
    {
     "name": "stdout",
     "output_type": "stream",
     "text": [
      "Successfully imported necessary libraries\n"
     ]
    }
   ],
   "source": [
    "# Load the necessary libraries\n",
    "import requests                                 # request URLs\n",
    "import urllib.request                           # open URLs, e.g. PDF files on URLs\n",
    "\n",
    "#!pip install pypdf2\n",
    "from PyPDF2 import PdfFileReader                # read out technical metadata from PDFs\n",
    "\n",
    "from bs4 import BeautifulSoup as soup           # webscrape and parse HTML and XML\n",
    "import lxml                                     # XML parser supported by bs4\n",
    "                                                # call with soup(markup, 'lxml-xml' OR 'xml')\n",
    "import os                                       # navigate and manipulate file directories\n",
    "import time                                     # work with time stamps\n",
    "import pandas as pd                             # pandas is the Python standard library to work with dataframes\n",
    "from IPython.display import IFrame              # embed website views in jupyter notebook\n",
    "import math                                     # work with mathematical functions\n",
    "import re                                       # work with regular expressions\n",
    "print(\"Successfully imported necessary libraries\")"
   ]
  },
  {
   "cell_type": "markdown",
   "metadata": {},
   "source": [
    "https://www.e-manuscripta.ch/oai/ will be the **base URL** for all OAI requests. To make life easier we put it into the variable `oai`."
   ]
  },
  {
   "cell_type": "code",
   "execution_count": 52,
   "metadata": {},
   "outputs": [],
   "source": [
    "oai = 'https://www.e-manuscripta.ch/oai/'"
   ]
  },
  {
   "cell_type": "markdown",
   "metadata": {},
   "source": [
    "### 3.1 Download fulltext files by e-manuscripta ID"
   ]
  },
  {
   "cell_type": "markdown",
   "metadata": {},
   "source": [
    "Downloading e-manuscripta fulltetxts can be done from the e-manuscripta website. The fulltexts are available as PDF files, the links are provided in the *Links* section of the item pages."
   ]
  },
  {
   "cell_type": "code",
   "execution_count": 53,
   "metadata": {},
   "outputs": [
    {
     "data": {
      "text/html": [
       "\n",
       "        <iframe\n",
       "            width=\"970\"\n",
       "            height=\"300\"\n",
       "            src=\"https://www.e-manuscripta.ch/content/titleinfo/1560587\"\n",
       "            frameborder=\"0\"\n",
       "            allowfullscreen\n",
       "        ></iframe>\n",
       "        "
      ],
      "text/plain": [
       "<IPython.lib.display.IFrame at 0x13e30f84490>"
      ]
     },
     "execution_count": 53,
     "metadata": {},
     "output_type": "execute_result"
    }
   ],
   "source": [
    "IFrame('https://www.e-manuscripta.ch/content/titleinfo/1560587', width=970, height=300)"
   ]
  },
  {
   "cell_type": "markdown",
   "metadata": {},
   "source": [
    "At first, next to the `metadata` folder a new directory `fulltexts`will be created."
   ]
  },
  {
   "cell_type": "code",
   "execution_count": 54,
   "metadata": {},
   "outputs": [
    {
     "name": "stdout",
     "output_type": "stream",
     "text": [
      "C:\\Users\\kwoit\\Documents\\GitHub\\e-manuscripta-access\\data\\metadata\n"
     ]
    }
   ],
   "source": [
    "print(os.getcwd())                                # print current working directory"
   ]
  },
  {
   "cell_type": "markdown",
   "metadata": {},
   "source": [
    "In case you might change your directory you can easily do this with `os.chdir` or `os.chdir(os.pardir)`. While `os.chdir()` changes the working directory to a subdirectory, `os.chdir(os.pardir)` will change it to the parent directory."
   ]
  },
  {
   "cell_type": "code",
   "execution_count": 55,
   "metadata": {},
   "outputs": [
    {
     "name": "stdout",
     "output_type": "stream",
     "text": [
      "C:\\Users\\kwoit\\Documents\\GitHub\\e-manuscripta-access\\data\\fulltexts\n"
     ]
    }
   ],
   "source": [
    "os.chdir(os.pardir)                               # change to parent directory\n",
    "os.makedirs('fulltexts', exist_ok=True)           # make new folder 'fulltexts'\n",
    "os.chdir('fulltexts')                             # change to 'fulltexts' folder\n",
    "print(os.getcwd())                                # print current working directory"
   ]
  },
  {
   "cell_type": "markdown",
   "metadata": {},
   "source": [
    "A single fulltext file can be retrieved by a given e-manuscripta ID with the following function `download_fulltext()`. Note that **for fulltexts a different base URL**  - in combination with the given e-manusripta ID - has to be used: `https://www.e-manuscripta.ch/download/pdf/`."
   ]
  },
  {
   "cell_type": "code",
   "execution_count": 56,
   "metadata": {},
   "outputs": [],
   "source": [
    "def download_fulltext(ID):\n",
    "    '''\n",
    "    Downloads the PDF file of a certain e-manuscripta document by its ID.\n",
    "    Builds with e-manuscripta ID the fulltext URL and downloads the PDF file.\n",
    "    Parameter:\n",
    "    ID = E-manuscripta ID of the desired record.\n",
    "    '''\n",
    "    baseurl_fulltext = \"https://www.e-manuscripta.ch/download/pdf/\"\n",
    "    pdf_url = baseurl_fulltext + str(ID)\n",
    "    response = urllib.request.urlopen(pdf_url)\n",
    "    outfile = '{}.pdf'.format(ID)\n",
    "    \n",
    "    try:\n",
    "        with open(outfile, 'wb') as f:\n",
    "            f.write(response.read())\n",
    "            print(\"Fulltext file {}.pdf saved\".format(ID))\n",
    "    except FileExistsError:\n",
    "        print(\"Fulltext file {}.pdf exists already\".format(ID))\n",
    "    except:\n",
    "        print(\"Saving fulltext file {}.pdf failed\".format(ID))\n",
    "    finally:\n",
    "        pass"
   ]
  },
  {
   "cell_type": "markdown",
   "metadata": {},
   "source": [
    "We can use this function not only to retrieve one fulltext, but also several at once. Just put the desired e-manuscripta IDs into a list (in squared brackets) and write a tiny loop around `download_fulltext()`."
   ]
  },
  {
   "cell_type": "code",
   "execution_count": 57,
   "metadata": {},
   "outputs": [
    {
     "name": "stdout",
     "output_type": "stream",
     "text": [
      "Fulltext file 2335135.pdf saved\n",
      "Fulltext file 2179695.pdf saved\n",
      "Fulltext file 2833056.pdf saved\n",
      "Fulltext file 2040958.pdf saved\n",
      "Fulltext file 1673144.pdf saved\n"
     ]
    }
   ],
   "source": [
    "# Retrieving example fulltexts with several e-manuscripta IDs\n",
    "e_manuscripta_ids = [2335135, 2179695, 2833056, 2040958, 1673144]\n",
    "\n",
    "for identifier in e_manuscripta_ids: \n",
    "    download_fulltext(identifier)"
   ]
  },
  {
   "cell_type": "markdown",
   "metadata": {},
   "source": [
    "Now, we might **check the PDF files we've just downloaded**. Of course you can open the files with your default PDF viewer. But furthermore, you can take another look on them. With the `PdfFileReader()` function from  the library *PyPDF2* we have already imported above one can read out some information from the files, for instance, the **technical metadata**. For this, a small function `tech_metadata()` can be defined."
   ]
  },
  {
   "cell_type": "code",
   "execution_count": 58,
   "metadata": {},
   "outputs": [],
   "source": [
    "def tech_metadata(pdf_path):\n",
    "    '''\n",
    "    Reads the technical metadata of a PDF formatted file and prints a summary.\n",
    "    Parameter:\n",
    "    pdf_path = The path of the PDF file to be read.\n",
    "    '''\n",
    "    with open(pdf_path, 'rb') as f:\n",
    "        pdf = PdfFileReader(f)\n",
    "        information = pdf.getDocumentInfo()\n",
    "        number_of_pages = pdf.getNumPages()\n",
    "\n",
    "    txt = f\"\"\"\n",
    "    Information about {pdf_path}: \n",
    "\n",
    "    Author: {information.author}\n",
    "    Title: {information.title}\n",
    "    Number of pages: {number_of_pages}\n",
    "    Subject: {information.subject}\n",
    "    Creator: {information.creator}\n",
    "    Producer: {information.producer}\n",
    "    \"\"\"\n",
    "    print(txt)"
   ]
  },
  {
   "cell_type": "code",
   "execution_count": 59,
   "metadata": {},
   "outputs": [
    {
     "name": "stdout",
     "output_type": "stream",
     "text": [
      "\n",
      "    Information about 1673144.pdf: \n",
      "\n",
      "    Author: Rilke, Rainer Maria\n",
      "    Title: 3 Merkzettel für Einkäufe und Besorgungen\n",
      "    Number of pages: 5\n",
      "    Subject: \n",
      "    Creator: (unspecified)\n",
      "    Producer: semantics visual library\n",
      "    \n"
     ]
    }
   ],
   "source": [
    "tech_metadata('1673144.pdf')"
   ]
  },
  {
   "cell_type": "markdown",
   "metadata": {},
   "source": [
    "\n",
    "The command `os.listdir()` is very useful to look into a folder and do certain things with the included files. In this case, we use it in combination with `tech_metadata()` to print out the information of all PDF files at once."
   ]
  },
  {
   "cell_type": "code",
   "execution_count": 60,
   "metadata": {},
   "outputs": [
    {
     "name": "stdout",
     "output_type": "stream",
     "text": [
      "\n",
      "    Information about C:\\Users\\kwoit\\Documents\\GitHub\\e-manuscripta-access\\data\\fulltexts/1673144.pdf: \n",
      "\n",
      "    Author: Rilke, Rainer Maria\n",
      "    Title: 3 Merkzettel für Einkäufe und Besorgungen\n",
      "    Number of pages: 5\n",
      "    Subject: \n",
      "    Creator: (unspecified)\n",
      "    Producer: semantics visual library\n",
      "    \n",
      "\n",
      "    Information about C:\\Users\\kwoit\\Documents\\GitHub\\e-manuscripta-access\\data\\fulltexts/2040958.pdf: \n",
      "\n",
      "    Author: \n",
      "    Title: Gemeindechronik Töss\n",
      "    Number of pages: 89\n",
      "    Subject: \n",
      "    Creator: (unspecified)\n",
      "    Producer: semantics visual library\n",
      "    \n",
      "\n",
      "    Information about C:\\Users\\kwoit\\Documents\\GitHub\\e-manuscripta-access\\data\\fulltexts/2179695.pdf: \n",
      "\n",
      "    Author: Sulzer, Johann Jakob\n",
      "    Title: Reisepass für das Ausland und das Jnnere der Schweiz\n",
      "    Number of pages: 3\n",
      "    Subject: \n",
      "    Creator: (unspecified)\n",
      "    Producer: semantics visual library\n",
      "    \n",
      "\n",
      "    Information about C:\\Users\\kwoit\\Documents\\GitHub\\e-manuscripta-access\\data\\fulltexts/2335135.pdf: \n",
      "\n",
      "    Author: Ball, Hugo; Ball-Hennings, Emmy\n",
      "    Title: Sag mir...../Sag mir..../An Emmy\n",
      "    Number of pages: 4\n",
      "    Subject: \n",
      "    Creator: (unspecified)\n",
      "    Producer: semantics visual library\n",
      "    \n",
      "\n",
      "    Information about C:\\Users\\kwoit\\Documents\\GitHub\\e-manuscripta-access\\data\\fulltexts/2833056.pdf: \n",
      "\n",
      "    Author: Christoph Burckhardt & Cie\n",
      "    Title: Abhandlung über den Sklavenhandel der Burckhardts\n",
      "    Number of pages: 20\n",
      "    Subject: \n",
      "    Creator: (unspecified)\n",
      "    Producer: semantics visual library\n",
      "    \n"
     ]
    }
   ],
   "source": [
    "path = os.getcwd()\n",
    "\n",
    "for entry in os.listdir(path):                         # look into the folder which is defined in path variable\n",
    "    if entry.endswith('.pdf'):                         # filter the files with '.pdf' extension\n",
    "        tech_metadata(path + '/' + entry)              # apply tech_metadata() function on these files"
   ]
  },
  {
   "cell_type": "markdown",
   "metadata": {},
   "source": [
    "Generally you can also **read out raw text of the pages** stored in the PDF. Let's try to take a look at the very first page of a file with a small code snippet. This **first page** indeed is a cover sheet generated by e-manuscripta to get an overview about some **bibliographic metadata** of the document like the owning library of the original manuscript, its shelf mark and persistent DOI URL.\n",
    "\n",
    "Note that further pages won't include raw text to retrieve, as e-manuscripta offers manuscript material, which is rarely transcribed (and then the included in the PDFs)."
   ]
  },
  {
   "cell_type": "code",
   "execution_count": 61,
   "metadata": {},
   "outputs": [
    {
     "name": "stdout",
     "output_type": "stream",
     "text": [
      "Sag mir...../Sag mir..../An Emmy\n",
      "Ball, Hugo\n",
      "Ball-Hennings, Emmy\n",
      "1923\n",
      "Schweizerische Nationalbibliothek (NB)\n",
      "Shelf Mark: SLA-HEN-D-01-A-01-62\n",
      "Persistent Link: http://dx.doi.org/10.7891/e-manuscripta-83132\n",
      "www.e-manuscripta.ch\n",
      "Die Plattform e-manuscripta.ch ist ein Kooperationsprojekt von Institutionen aus dem schweizerischen Bibliotheks- und\n",
      "Archivbereich und wird finanziell von diesen getragen. Das Spektrum umfasst alle Arten von handschriftlichen\n",
      "Dokumenten vornehmlich aus der Neuzeit.\n",
      "\n",
      "e-manuscripta.ch is a collaborative project involving various Swiss libraries and archives, who also finance the venture.\n",
      "The range includes all types of handwritten material primarily from the modern period.\n",
      "\n",
      "e-manuscripta.ch est un projet n• de la coop•ration des diff•rentes biblioth†ques et archives suisses qui le soutiennent\n",
      "financi†rement. La gamme comprend tous les genres de sources manuscrites principalement de l'†re moderne.\n",
      "\n",
      "e-manuscripta.ch † un progetto nato dalla collaborazione delle varie biblioteche e archivi della svizzera ed † sostenuta\n",
      "finanziariamente da loro. La gamma comprende tutti i tipi di documenti scritti a mano principalmente di epoca\n",
      "moderna.\n",
      "Nutzungsbedingungen Dieses Digitalisat kann kostenfrei heruntergeladen werden. Die Lizenzierungsart und die\n",
      "Nutzungsbedingungen sind individuell zu jedem Dokument in den Titelinformationen angegeben. F‡r weitere\n",
      "Informationen siehe auch [Link]\n",
      "\n",
      "Terms of Use This digital copy can be downloaded free of charge. The type of licensing and the terms of use are\n",
      "indicated in the title information for each document individually. For further information please refer to the terms of use\n",
      "on [Link]\n",
      "\n",
      "Conditions d'utilisation Ce document num•rique peut …tre t•l•charg• gratuitement. Son statut juridique et ses\n",
      "conditions d'utilisation sont pr•cis•s dans sa notice d•taill•e. Pour de plus amples informations, voir [Link]\n",
      "\n",
      "Condizioni di utilizzo Questo documento pu— essere scaricato gratuitamente. Il tipo di licenza e le condizioni di\n",
      "utilizzo sono indicate nella notizia bibliografica del singolo documento. Per ulteriori informazioni vedi anche [Link]\n",
      "\n"
     ]
    }
   ],
   "source": [
    "with open('2335135.pdf', 'rb') as f:\n",
    "    pdf = PdfFileReader(f)                # creating a reader object\n",
    "    page = pdf.getPage(0)                 # creating a page object from the first PDF page = cover sheet\n",
    "    print(page.extractText())             # extracting text form the page object"
   ]
  },
  {
   "cell_type": "code",
   "execution_count": 62,
   "metadata": {},
   "outputs": [
    {
     "name": "stdout",
     "output_type": "stream",
     "text": [
      "\n"
     ]
    }
   ],
   "source": [
    "# read and print the second page of the PDF file - which will deliver empty text\n",
    "with open('2335135.pdf', 'rb') as f:\n",
    "    pdf = PdfFileReader(f)\n",
    "    page = pdf.getPage(1)\n",
    "    print(page.extractText())"
   ]
  },
  {
   "cell_type": "markdown",
   "metadata": {},
   "source": [
    "### 3.2 Download fulltext files by set"
   ]
  },
  {
   "cell_type": "markdown",
   "metadata": {},
   "source": [
    "Finally, let's build a function `retrieve_set_fulltexts` to retrieve **fulltexts of a certain e-manuscripta set**.\n",
    "\n",
    "**WARNING**: Note that e-manuscripta sets can be large, so better **check the set size** before starting the download."
   ]
  },
  {
   "cell_type": "code",
   "execution_count": 63,
   "metadata": {},
   "outputs": [],
   "source": [
    "def setsize(Set):  \n",
    "    base_url = oai\n",
    "    listsearch_term = {'verb': 'ListIdentifiers', 'metadataPrefix': 'oai_dc', 'set': Set}\n",
    "    \n",
    "    # Basic function\n",
    "    def load_xml(params):\n",
    "        '''\n",
    "        Accesses the OAI interface according to given parameters and scrapes its content.\n",
    "        '''\n",
    "        response = requests.get(base_url, params=params)\n",
    "        output_soup = soup(response.content, \"lxml\")\n",
    "        return output_soup\n",
    "    \n",
    "    xml_soup = load_xml(listsearch_term)\n",
    "    if xml_soup.resumptiontoken:\n",
    "        set_size = int(xml_soup.resumptiontoken['completelistsize'])\n",
    "    else:\n",
    "        set_size = len(xml_soup.find_all('identifier'))\n",
    "    return set_size"
   ]
  },
  {
   "cell_type": "code",
   "execution_count": 64,
   "metadata": {},
   "outputs": [
    {
     "data": {
      "text/plain": [
       "15"
      ]
     },
     "execution_count": 64,
     "metadata": {},
     "output_type": "execute_result"
    }
   ],
   "source": [
    "setsize('zbs')"
   ]
  },
  {
   "cell_type": "code",
   "execution_count": 65,
   "metadata": {},
   "outputs": [],
   "source": [
    "def retrieve_set_fulltexts(Set, foldername):\n",
    "    '''\n",
    "    Downloads PDF fulltexts of a given DDC set from e-manuscripta website to files in a certain folder.\n",
    "    Therefore it\n",
    "    * creates the folder according to the parameter foldername\n",
    "    * requests e-manuscripta OAI-PMH interface according to a OAI set \n",
    "    * retrieves the set's e-manuscripta IDs\n",
    "    * downloads PDF fulltexts according to IDs from e-manuscripta website\n",
    "    Parameters:\n",
    "    Set = The desired OAI set.\n",
    "    foldername = name of the folder in which the fulltexts will be stored.\n",
    "    '''\n",
    "    start = time.perf_counter()\n",
    "\n",
    "    # Set parameters to the interface\n",
    "    base_url = oai\n",
    "    baseurl_fulltext = \"https://www.e-manuscripta.ch/download/pdf/\"\n",
    "    listsearch_term = {'verb': 'ListIdentifiers', 'metadataPrefix': 'oai_dc', 'set': Set}\n",
    "    \n",
    "    # Make a folder <foldername> to store files in it\n",
    "    directory = foldername\n",
    "    parent_dir = os.getcwd()\n",
    "    path = os.path.join(parent_dir, directory)\n",
    "    try:\n",
    "        os.makedirs(path, exist_ok = True)\n",
    "        print('Path {} is already available or created successfully'.format(path))\n",
    "    except OSError as error:\n",
    "        print('Path {} could not be created'.format(path))\n",
    "           \n",
    "    # Basic functions\n",
    "    def load_xml(params):\n",
    "        '''\n",
    "        Accesses the OAI interface according to given parameters and scrapes its content.\n",
    "        '''\n",
    "        response = requests.get(base_url, params=params)\n",
    "        output_soup = soup(response.content, \"lxml\")\n",
    "        return output_soup\n",
    "\n",
    "    def download_fulltext(ID):\n",
    "        '''\n",
    "        Downloads the PDF file of a certain e-manuscripta document by its ID.\n",
    "        Builds with e-manuscripta ID the fulltext URL, and saves the PDF file on local disk.\n",
    "        Parameter:\n",
    "        ID = E-manuscripta ID of the desired fulltext/PDF file.\n",
    "        '''\n",
    "        pdf_url = baseurl_fulltext + str(ID)\n",
    "        response = urllib.request.urlopen(pdf_url)\n",
    "        outfile = path + '/{}.pdf'.format(ID)\n",
    "        try:\n",
    "            with open(outfile, 'wb') as f:\n",
    "                f.write(response.read())\n",
    "                print(\"Fulltext file {}.pdf saved\".format(ID))\n",
    "        except FileExistsError:\n",
    "            print(\"Fulltext file {}.pdf exists already\".format(ID))\n",
    "        except:\n",
    "            print(\"Saving fulltext file {}.pdf failed\".format(ID))\n",
    "        finally:\n",
    "            pass\n",
    "            \n",
    "    # Start with the first access to OAI interface\n",
    "    xml_soup = load_xml(listsearch_term)\n",
    "\n",
    "    # Calculate how many accesses it takes to go through all the pages of the resu:lts list, print notice\n",
    "    try:\n",
    "        splits = math.ceil(int(xml_soup.resumptiontoken['completelistsize']) // 10) + 1\n",
    "        print(xml_soup.resumptiontoken['completelistsize'], 'identifiers to request in ', splits, 'data splits')\n",
    "    except:\n",
    "        splits = 1\n",
    "            \n",
    "    for i in range(splits):\n",
    "            if i == 0:\n",
    "                # First access to OAI for e-manuscripta IDs - first page + information about whole length of results list\n",
    "                xml_soup_new = load_xml(listsearch_term)      \n",
    "            else:\n",
    "                # Following accesses to OAI for e-manuscripta IDs\n",
    "                xml_soup_new = load_xml({'verb': 'ListIdentifiers', 'resumptionToken': resumption_token})\n",
    "\n",
    "            # Scraping out the e-manuscripta IDs\n",
    "            ids = [] \n",
    "            for ID in [(i.contents[0]) for i in xml_soup_new.find_all('identifier')]:\n",
    "                match = re.search('oai:www.e-manuscripta.ch:(\\d+)', ID) # extract the number following 'oai:www.e-manuscripta.ch:'\n",
    "                if match:\n",
    "                    ids.append(match.group(1))       # first parenthesized subgroup of group() = number\n",
    "\n",
    "            # Download the fulltext files according to retrieved e-manuscripta IDs\n",
    "            print('Start retrieving PDF fulltexts for e-manuscripta IDs ', ids)  \n",
    "            for ID in ids:\n",
    "                download_fulltext(ID)\n",
    "            ids = []\n",
    "\n",
    "            # Actualize the resumption token to retrieve the the next page\n",
    "            try:\n",
    "                new_token = xml_soup_new.find('resumptiontoken').get_text()\n",
    "                resumption_token = new_token\n",
    "                print('New resumption token:', resumption_token)\n",
    "            except AttributeError:\n",
    "                print('Reached end of IDs/results list')       # notice when last page is done\n",
    "            finally:\n",
    "                pass\n",
    "        \n",
    "    count = 0\n",
    "    with os.scandir(path) as entries:\n",
    "        for entry in entries:\n",
    "            count += 1  \n",
    "    print(\"{} fulltext files in {}\".format(count, path))\n",
    "    finish = time.perf_counter()\n",
    "    print(\"Finished in {} second(s)\".format(round(finish - start, 2)))\n",
    "    "
   ]
  },
  {
   "cell_type": "code",
   "execution_count": 66,
   "metadata": {},
   "outputs": [
    {
     "name": "stdout",
     "output_type": "stream",
     "text": [
      "C:\\Users\\kwoit\\Documents\\GitHub\\e-manuscripta-access\\data\\fulltexts\n"
     ]
    }
   ],
   "source": [
    "print(os.getcwd())                 # print current working directory"
   ]
  },
  {
   "cell_type": "code",
   "execution_count": 67,
   "metadata": {
    "scrolled": true
   },
   "outputs": [
    {
     "name": "stdout",
     "output_type": "stream",
     "text": [
      "Path C:\\Users\\kwoit\\Documents\\GitHub\\e-manuscripta-access\\data\\fulltexts\\e-manuscripta_ZB_Solothurn is already available or created successfully\n",
      "15 identifiers to request in  2 data splits\n",
      "Start retrieving PDF fulltexts for e-manuscripta IDs  ['2488427', '2488439', '2488447', '2488458', '2488465', '2488473', '2488482', '2488492', '2488499', '2478078']\n",
      "Fulltext file 2488427.pdf saved\n",
      "Fulltext file 2488439.pdf saved\n",
      "Fulltext file 2488447.pdf saved\n",
      "Fulltext file 2488458.pdf saved\n",
      "Fulltext file 2488465.pdf saved\n",
      "Fulltext file 2488473.pdf saved\n",
      "Fulltext file 2488482.pdf saved\n",
      "Fulltext file 2488492.pdf saved\n",
      "Fulltext file 2488499.pdf saved\n",
      "Fulltext file 2478078.pdf saved\n",
      "New resumption token: 0xcd4b539c5828ca0eb0971fddac1eef10-cursor_p_3D10_p_26set_p_3Dzbs_p_26metadataPrefix_p_3Doai_dc_p_26batch_size_p_3D11\n",
      "Start retrieving PDF fulltexts for e-manuscripta IDs  ['2469103', '2469435', '2487363', '2487374', '2487384']\n",
      "Fulltext file 2469103.pdf saved\n",
      "Fulltext file 2469435.pdf saved\n",
      "Fulltext file 2487363.pdf saved\n",
      "Fulltext file 2487374.pdf saved\n",
      "Fulltext file 2487384.pdf saved\n",
      "Reached end of IDs/results list\n",
      "15 fulltext files in C:\\Users\\kwoit\\Documents\\GitHub\\e-manuscripta-access\\data\\fulltexts\\e-manuscripta_ZB_Solothurn\n",
      "Finished in 35.9 second(s)\n"
     ]
    }
   ],
   "source": [
    "retrieve_set_fulltexts('zbs', 'e-manuscripta_ZB_Solothurn')"
   ]
  },
  {
   "cell_type": "markdown",
   "metadata": {},
   "source": [
    "Again, we might check the technical metadata of the downloaded fulltexts by combining the functions `os.scandir()` and `tech_metadata()`."
   ]
  },
  {
   "cell_type": "code",
   "execution_count": 68,
   "metadata": {},
   "outputs": [
    {
     "data": {
      "text/plain": [
       "'C:\\\\Users\\\\kwoit\\\\Documents\\\\GitHub\\\\e-manuscripta-access\\\\data\\\\fulltexts'"
      ]
     },
     "execution_count": 68,
     "metadata": {},
     "output_type": "execute_result"
    }
   ],
   "source": [
    "os.getcwd()"
   ]
  },
  {
   "cell_type": "markdown",
   "metadata": {},
   "source": [
    "At last, with `os.scandir()` there is a slightly different way to look into the created folder and use `tech_metadata()` to print out the information of all files in it."
   ]
  },
  {
   "cell_type": "code",
   "execution_count": 69,
   "metadata": {},
   "outputs": [
    {
     "name": "stdout",
     "output_type": "stream",
     "text": [
      "\n",
      "    Information about <DirEntry '2469103.pdf'>: \n",
      "\n",
      "    Author: Altermatt, Johann Baptist\n",
      "    Title: Fragments du Plan de Rodersdorf et de la ville de Soleure et concernant le plan du canton de Soleure fait en 1795 et 1822\n",
      "    Number of pages: 324\n",
      "    Subject: \n",
      "    Creator: (unspecified)\n",
      "    Producer: semantics visual library\n",
      "    \n",
      "\n",
      "    Information about <DirEntry '2469435.pdf'>: \n",
      "\n",
      "    Author: Wagner, Hanns\n",
      "    Title: Sankt Ursen-Spiel\n",
      "    Number of pages: 141\n",
      "    Subject: \n",
      "    Creator: (unspecified)\n",
      "    Producer: semantics visual library\n",
      "    \n",
      "\n",
      "    Information about <DirEntry '2478078.pdf'>: \n",
      "\n",
      "    Author: König, Johann Georg\n",
      "    Title: Italien- und Frankreichreise\n",
      "    Number of pages: 252\n",
      "    Subject: \n",
      "    Creator: (unspecified)\n",
      "    Producer: semantics visual library\n",
      "    \n",
      "\n",
      "    Information about <DirEntry '2487363.pdf'>: \n",
      "\n",
      "    Author: Lavater, Johann Caspar\n",
      "    Title: Brief an Urs Joseph Lüthy\n",
      "    Number of pages: 6\n",
      "    Subject: \n",
      "    Creator: (unspecified)\n",
      "    Producer: semantics visual library\n",
      "    \n",
      "\n",
      "    Information about <DirEntry '2487374.pdf'>: \n",
      "\n",
      "    Author: Lavater, Johann Caspar\n",
      "    Title: Brief an Johann Karl Stephan Glutz Ruchti\n",
      "    Number of pages: 5\n",
      "    Subject: \n",
      "    Creator: (unspecified)\n",
      "    Producer: semantics visual library\n",
      "    \n",
      "\n",
      "    Information about <DirEntry '2487384.pdf'>: \n",
      "\n",
      "    Author: Lavater, Johann Caspar\n",
      "    Title: Brief an Johann Karl Stephan Glutz Ruchti\n",
      "    Number of pages: 5\n",
      "    Subject: \n",
      "    Creator: (unspecified)\n",
      "    Producer: semantics visual library\n",
      "    \n",
      "\n",
      "    Information about <DirEntry '2488427.pdf'>: \n",
      "\n",
      "    Author: Lavater, Johann Caspar\n",
      "    Title: Brief an Urs Joseph Lüthy\n",
      "    Number of pages: 7\n",
      "    Subject: \n",
      "    Creator: (unspecified)\n",
      "    Producer: semantics visual library\n",
      "    \n",
      "\n",
      "    Information about <DirEntry '2488439.pdf'>: \n",
      "\n",
      "    Author: Lavater, Johann Caspar\n",
      "    Title: Brief an Urs Joseph Lüthy\n",
      "    Number of pages: 3\n",
      "    Subject: \n",
      "    Creator: (unspecified)\n",
      "    Producer: semantics visual library\n",
      "    \n",
      "\n",
      "    Information about <DirEntry '2488447.pdf'>: \n",
      "\n",
      "    Author: Lavater, Johann Caspar\n",
      "    Title: Brief an Urs Joseph Lüthy\n",
      "    Number of pages: 5\n",
      "    Subject: \n",
      "    Creator: (unspecified)\n",
      "    Producer: semantics visual library\n",
      "    \n",
      "\n",
      "    Information about <DirEntry '2488458.pdf'>: \n",
      "\n",
      "    Author: Lavater, Johann Caspar\n",
      "    Title: Brief an Urs Joseph Lüthy\n",
      "    Number of pages: 3\n",
      "    Subject: \n",
      "    Creator: (unspecified)\n",
      "    Producer: semantics visual library\n",
      "    \n",
      "\n",
      "    Information about <DirEntry '2488465.pdf'>: \n",
      "\n",
      "    Author: Lavater, Johann Caspar\n",
      "    Title: Brief an Urs Joseph Lüthy\n",
      "    Number of pages: 3\n",
      "    Subject: \n",
      "    Creator: (unspecified)\n",
      "    Producer: semantics visual library\n",
      "    \n",
      "\n",
      "    Information about <DirEntry '2488473.pdf'>: \n",
      "\n",
      "    Author: Lavater, Johann Caspar\n",
      "    Title: Brief an Urs Joseph Lüthy\n",
      "    Number of pages: 3\n",
      "    Subject: \n",
      "    Creator: (unspecified)\n",
      "    Producer: semantics visual library\n",
      "    \n",
      "\n",
      "    Information about <DirEntry '2488482.pdf'>: \n",
      "\n",
      "    Author: Lavater, Johann Caspar\n",
      "    Title: Brief an Urs Joseph Lüthy\n",
      "    Number of pages: 5\n",
      "    Subject: \n",
      "    Creator: (unspecified)\n",
      "    Producer: semantics visual library\n",
      "    \n",
      "\n",
      "    Information about <DirEntry '2488492.pdf'>: \n",
      "\n",
      "    Author: Lavater, Johann Caspar\n",
      "    Title: Brief an Urs Joseph Lüthy\n",
      "    Number of pages: 3\n",
      "    Subject: \n",
      "    Creator: (unspecified)\n",
      "    Producer: semantics visual library\n",
      "    \n",
      "\n",
      "    Information about <DirEntry '2488499.pdf'>: \n",
      "\n",
      "    Author: Lavater, Johann Caspar\n",
      "    Title: Brief an Urs Joseph Lüthy\n",
      "    Number of pages: 5\n",
      "    Subject: \n",
      "    Creator: (unspecified)\n",
      "    Producer: semantics visual library\n",
      "    \n"
     ]
    }
   ],
   "source": [
    "path = os.path.join(os.getcwd(), 'e-manuscripta_ZB_Solothurn')   # build the path to the dedicated folder\n",
    "\n",
    "with os.scandir(path) as entries:\n",
    "    [tech_metadata(entry) for entry in entries]"
   ]
  }
 ],
 "metadata": {
  "kernelspec": {
   "display_name": "Python 3",
   "language": "python",
   "name": "python3"
  },
  "language_info": {
   "codemirror_mode": {
    "name": "ipython",
    "version": 3
   },
   "file_extension": ".py",
   "mimetype": "text/x-python",
   "name": "python",
   "nbconvert_exporter": "python",
   "pygments_lexer": "ipython3",
   "version": "3.8.5"
  },
  "toc": {
   "base_numbering": 1,
   "nav_menu": {},
   "number_sections": false,
   "sideBar": false,
   "skip_h1_title": true,
   "title_cell": "",
   "title_sidebar": "Contents",
   "toc_cell": true,
   "toc_position": {
    "height": "47.05px",
    "left": "1091.63px",
    "top": "507.233px",
    "width": "158.367px"
   },
   "toc_section_display": false,
   "toc_window_display": true
  }
 },
 "nbformat": 4,
 "nbformat_minor": 4
}
